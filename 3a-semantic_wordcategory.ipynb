{
 "cells": [
  {
   "cell_type": "code",
   "execution_count": 1,
   "metadata": {},
   "outputs": [],
   "source": [
    "import lxml.etree\n",
    "import os\n",
    "import re\n",
    "import pandas as pd\n",
    "import numpy as np\n",
    "from collections import Counter\n",
    "# !pip install spacy\n",
    "# !pip install stanza\n",
    "import stanza\n",
    "import matplotlib.pyplot as plt\n",
    "import spacy\n",
    "# nlp = spacy.load('en_core_web_sm')\n",
    "import os\n",
    "plt.style.use('ggplot')\n",
    "from tqdm import tqdm\n",
    "os.environ[\"KMP_DUPLICATE_LIB_OK\"]=\"TRUE\""
   ]
  },
  {
   "cell_type": "code",
   "execution_count": 2,
   "metadata": {},
   "outputs": [
    {
     "name": "stderr",
     "output_type": "stream",
     "text": [
      "2021-08-23 08:22:26 WARNING: Can not find mwt: default from official model list. Ignoring it.\n",
      "2021-08-23 08:22:26 INFO: Loading these models for language: en (English):\n",
      "========================\n",
      "| Processor | Package  |\n",
      "------------------------\n",
      "| tokenize  | combined |\n",
      "| pos       | combined |\n",
      "========================\n",
      "\n",
      "2021-08-23 08:22:26 INFO: Use device: cpu\n",
      "2021-08-23 08:22:26 INFO: Loading: tokenize\n",
      "2021-08-23 08:22:26 INFO: Loading: pos\n",
      "2021-08-23 08:22:26 INFO: Done loading processors!\n"
     ]
    }
   ],
   "source": [
    "nlp = stanza.Pipeline(lang='en', processors='tokenize,mwt,pos')"
   ]
  },
  {
   "cell_type": "code",
   "execution_count": 3,
   "metadata": {},
   "outputs": [
    {
     "data": {
      "text/plain": [
       "'In A distant and secondhand set of dimensions, in an astral plane that was never meant to fly, the curling star-mists waver and part... See... Great ATuin the turtle comes, swimming slowly through the'"
      ]
     },
     "execution_count": 3,
     "metadata": {},
     "output_type": "execute_result"
    }
   ],
   "source": [
    "metadata_df = pd.read_csv('pratchett_metadata.csv')\n",
    "metadata_df = metadata_df[metadata_df.YA == False].reset_index(drop=True)\n",
    "metadata_df.untokenized_text[0][0:200]"
   ]
  },
  {
   "cell_type": "markdown",
   "metadata": {},
   "source": [
    "# 1. Spatial preposition token rates from full texts"
   ]
  },
  {
   "cell_type": "code",
   "execution_count": 100,
   "metadata": {},
   "outputs": [],
   "source": [
    "# Define list of spatial prepositions\n",
    "spatial_prep_list = ['aboard', 'above', 'across', 'against', 'along', 'amid', 'among', 'around', 'atop', 'behind', 'below', \n",
    "                    'beneath', 'beside', 'between', 'beyond', 'down', 'inside', 'near', 'onto', 'out', 'through', 'under',\n",
    "                    'upon', 'within']"
   ]
  },
  {
   "cell_type": "code",
   "execution_count": 101,
   "metadata": {},
   "outputs": [],
   "source": [
    "# Get list of spatial preposition token rates\n",
    "spatial_prep_rate = []\n",
    "for text in metadata_df.text:\n",
    "    word_count = 0\n",
    "    word_dict = Counter(text.split())\n",
    "\n",
    "    for word in spatial_prep_list:\n",
    "        word_count += word_dict[word]\n",
    "    spatial_prep_rate.append(word_count/len(text.split()))"
   ]
  },
  {
   "cell_type": "code",
   "execution_count": 102,
   "metadata": {},
   "outputs": [
    {
     "data": {
      "text/plain": [
       "Text(0.5, 0, 'Age at publication (years)')"
      ]
     },
     "execution_count": 102,
     "metadata": {},
     "output_type": "execute_result"
    },
    {
     "data": {
      "image/png": "[encoded data removed]",
      "text/plain": [
       "<Figure size 720x720 with 1 Axes>"
      ]
     },
     "metadata": {},
     "output_type": "display_data"
    }
   ],
   "source": [
    "# Plot rates of spatial preposition tokens\n",
    "f, ax = plt.subplots(figsize=(10,10))\n",
    "\n",
    "ax.scatter(metadata_df.age_at_publication, spatial_prep_rate)\n",
    "\n",
    "\n",
    "plt.xticks(rotation=45);\n",
    "ax.set_ylabel('Spatial preposition rate')\n",
    "\n",
    "ax.set_xlabel('Age at publication (years)')"
   ]
  },
  {
   "cell_type": "markdown",
   "metadata": {},
   "source": [
    "# 2. Number word rates from full texts"
   ]
  },
  {
   "cell_type": "code",
   "execution_count": 103,
   "metadata": {},
   "outputs": [
    {
     "name": "stdout",
     "output_type": "stream",
     "text": [
      "three NumType=Card\n",
      "six NumType=Card\n"
     ]
    }
   ],
   "source": [
    "# Test stanza's feats\n",
    "doc = nlp(\"I saw about three to six dogs yesterday.\")\n",
    "for sent in doc.sentences:\n",
    "        for word in sent.words:\n",
    "            if word.feats == 'NumType=Card':\n",
    "                print(word.text, word.feats)"
   ]
  },
  {
   "cell_type": "code",
   "execution_count": 105,
   "metadata": {},
   "outputs": [
    {
     "data": {
      "text/plain": [
       "Index(['title', 'year_of_publication', 'age_at_publication', 'YA',\n",
       "       'number_of_words', 'text', 'untokenized_text'],\n",
       "      dtype='object')"
      ]
     },
     "execution_count": 105,
     "metadata": {},
     "output_type": "execute_result"
    }
   ],
   "source": [
    "metadata_df.columns"
   ]
  },
  {
   "cell_type": "code",
   "execution_count": 106,
   "metadata": {},
   "outputs": [
    {
     "name": "stderr",
     "output_type": "stream",
     "text": [
      "  0%|                                                                                           | 0/35 [00:00<?, ?it/s]\n",
      "100%|██████████████████████████████████████████████████████████████████████████| 5453/5453 [00:00<00:00, 210007.89it/s]\u001b[A\n",
      "  3%|██▎                                                                             | 1/35 [02:08<1:12:48, 128.49s/it]\n",
      "100%|██████████████████████████████████████████████████████████████████████████| 3968/3968 [00:00<00:00, 165785.08it/s]\u001b[A\n",
      "  6%|████▋                                                                             | 2/35 [03:41<59:10, 107.59s/it]\n",
      "100%|██████████████████████████████████████████████████████████████████████████| 5498/5498 [00:00<00:00, 180180.99it/s]\u001b[A\n",
      "  9%|██████▊                                                                         | 3/35 [05:56<1:04:03, 120.10s/it]\n",
      "100%|██████████████████████████████████████████████████████████████████████████| 6574/6574 [00:00<00:00, 212634.31it/s]\u001b[A\n",
      " 11%|█████████▏                                                                      | 4/35 [08:41<1:11:13, 137.85s/it]\n",
      "100%|██████████████████████████████████████████████████████████████████████████| 6916/6916 [00:00<00:00, 150749.42it/s]\u001b[A\n",
      " 14%|███████████▍                                                                    | 5/35 [12:08<1:21:24, 162.83s/it]\n",
      "100%|██████████████████████████████████████████████████████████████████████████| 8301/8301 [00:00<00:00, 160062.33it/s]\u001b[A\n",
      " 17%|█████████████▋                                                                  | 6/35 [15:32<1:25:23, 176.66s/it]\n",
      "100%|██████████████████████████████████████████████████████████████████████████| 8046/8046 [00:00<00:00, 113630.19it/s]\u001b[A\n",
      " 20%|████████████████                                                                | 7/35 [19:30<1:31:47, 196.68s/it]\n",
      "100%|██████████████████████████████████████████████████████████████████████████| 9581/9581 [00:00<00:00, 169936.77it/s]\u001b[A\n",
      " 23%|██████████████████▎                                                             | 8/35 [24:17<1:41:32, 225.66s/it]\n",
      "100%|██████████████████████████████████████████████████████████████████████████| 3274/3274 [00:00<00:00, 136774.42it/s]\u001b[A\n",
      " 26%|████████████████████▌                                                           | 9/35 [26:03<1:21:33, 188.21s/it]\n",
      "100%|██████████████████████████████████████████████████████████████████████████| 9998/9998 [00:00<00:00, 172841.58it/s]\u001b[A\n",
      " 29%|██████████████████████▌                                                        | 10/35 [30:16<1:26:41, 208.05s/it]\n",
      "100%|██████████████████████████████████████████████████████████████████████████| 8410/8410 [00:00<00:00, 216226.42it/s]\u001b[A\n",
      " 31%|████████████████████████▊                                                      | 11/35 [33:38<1:22:33, 206.40s/it]\n",
      "100%|██████████████████████████████████████████████████████████████████████████| 8386/8386 [00:00<00:00, 200203.96it/s]\u001b[A\n",
      " 34%|███████████████████████████                                                    | 12/35 [37:09<1:19:41, 207.88s/it]\n",
      "100%|████████████████████████████████████████████████████████████████████████| 10310/10310 [00:00<00:00, 156631.43it/s]\u001b[A\n",
      " 37%|█████████████████████████████▎                                                 | 13/35 [41:20<1:20:54, 220.65s/it]\n",
      "100%|██████████████████████████████████████████████████████████████████████████| 9553/9553 [00:00<00:00, 203796.30it/s]\u001b[A\n",
      " 40%|███████████████████████████████▌                                               | 14/35 [45:28<1:20:07, 228.92s/it]\n",
      "100%|████████████████████████████████████████████████████████████████████████| 10761/10761 [00:00<00:00, 250929.31it/s]\u001b[A\n",
      " 43%|█████████████████████████████████▊                                             | 15/35 [49:32<1:17:52, 233.60s/it]\n",
      "100%|████████████████████████████████████████████████████████████████████████| 10489/10489 [00:00<00:00, 256728.69it/s]\u001b[A\n",
      " 46%|████████████████████████████████████                                           | 16/35 [53:29<1:14:18, 234.67s/it]\n",
      "100%|██████████████████████████████████████████████████████████████████████████| 9735/9735 [00:00<00:00, 238080.67it/s]\u001b[A\n",
      " 49%|██████████████████████████████████████▎                                        | 17/35 [56:52<1:07:33, 225.20s/it]\n",
      "100%|██████████████████████████████████████████████████████████████████████████| 9162/9162 [00:00<00:00, 224049.01it/s]\u001b[A\n",
      " 51%|████████████████████████████████████████▋                                      | 18/35 [59:54<1:00:06, 212.15s/it]\n",
      "100%|████████████████████████████████████████████████████████████████████████| 10162/10162 [00:00<00:00, 231568.60it/s]\u001b[A\n",
      " 54%|██████████████████████████████████████████▉                                    | 19/35 [1:03:26<56:35, 212.19s/it]\n",
      "100%|████████████████████████████████████████████████████████████████████████| 10093/10093 [00:00<00:00, 259481.51it/s]\u001b[A\n",
      " 57%|█████████████████████████████████████████████▏                                 | 20/35 [1:06:30<50:55, 203.71s/it]\n",
      "100%|████████████████████████████████████████████████████████████████████████| 11182/11182 [00:00<00:00, 260670.99it/s]\u001b[A\n",
      " 60%|███████████████████████████████████████████████▍                               | 21/35 [1:09:57<47:46, 204.73s/it]\n",
      "100%|██████████████████████████████████████████████████████████████████████████| 9285/9285 [00:00<00:00, 238484.93it/s]\u001b[A\n",
      " 63%|█████████████████████████████████████████████████▋                             | 22/35 [1:13:03<43:07, 199.05s/it]\n",
      "100%|████████████████████████████████████████████████████████████████████████| 10088/10088 [00:00<00:00, 235327.61it/s]\u001b[A\n",
      " 66%|███████████████████████████████████████████████████▉                           | 23/35 [1:16:15<39:23, 196.95s/it]\n",
      "100%|████████████████████████████████████████████████████████████████████████| 11224/11224 [00:00<00:00, 255548.39it/s]\u001b[A\n",
      " 69%|██████████████████████████████████████████████████████▏                        | 24/35 [1:19:46<36:52, 201.13s/it]\n",
      "100%|████████████████████████████████████████████████████████████████████████| 10446/10446 [00:00<00:00, 227480.74it/s]\u001b[A\n",
      " 71%|████████████████████████████████████████████████████████▍                      | 25/35 [1:23:12<33:44, 202.42s/it]\n",
      "100%|████████████████████████████████████████████████████████████████████████| 10530/10530 [00:00<00:00, 234618.64it/s]\u001b[A\n",
      " 74%|██████████████████████████████████████████████████████████▋                    | 26/35 [1:26:33<30:18, 202.07s/it]\n",
      "100%|██████████████████████████████████████████████████████████████████████████| 4082/4082 [00:00<00:00, 227393.63it/s]\u001b[A\n",
      " 77%|████████████████████████████████████████████████████████████▉                  | 27/35 [1:27:58<22:16, 167.05s/it]\n",
      "100%|████████████████████████████████████████████████████████████████████████| 11301/11301 [00:00<00:00, 236022.02it/s]\u001b[A\n",
      " 80%|███████████████████████████████████████████████████████████████▏               | 28/35 [1:32:04<22:15, 190.81s/it]\n",
      "100%|████████████████████████████████████████████████████████████████████████| 11878/11878 [00:00<00:00, 242932.86it/s]\u001b[A\n",
      " 83%|█████████████████████████████████████████████████████████████████▍             | 29/35 [1:36:13<20:48, 208.14s/it]\n",
      "100%|████████████████████████████████████████████████████████████████████████| 10992/10992 [00:00<00:00, 220433.03it/s]\u001b[A\n",
      " 86%|███████████████████████████████████████████████████████████████████▋           | 30/35 [1:40:09<18:01, 216.39s/it]\n",
      "100%|████████████████████████████████████████████████████████████████████████| 10843/10843 [00:00<00:00, 241393.83it/s]\u001b[A\n",
      " 89%|█████████████████████████████████████████████████████████████████████▉         | 31/35 [1:43:57<14:40, 220.03s/it]\n",
      "100%|████████████████████████████████████████████████████████████████████████| 10357/10357 [00:00<00:00, 220797.72it/s]\u001b[A\n",
      " 91%|████████████████████████████████████████████████████████████████████████▏      | 32/35 [1:48:04<11:24, 228.04s/it]\n",
      "100%|████████████████████████████████████████████████████████████████████████| 11642/11642 [00:00<00:00, 194560.01it/s]\u001b[A\n",
      " 94%|██████████████████████████████████████████████████████████████████████████▍    | 33/35 [1:53:17<08:27, 253.61s/it]\n",
      "100%|██████████████████████████████████████████████████████████████████████████| 8043/8043 [00:00<00:00, 152160.70it/s]\u001b[A\n",
      " 97%|████████████████████████████████████████████████████████████████████████████▋  | 34/35 [1:58:34<04:32, 272.57s/it]\n",
      "100%|██████████████████████████████████████████████████████████████████████████| 7214/7214 [00:00<00:00, 131514.09it/s]\u001b[A\n",
      "100%|███████████████████████████████████████████████████████████████████████████████| 35/35 [2:03:52<00:00, 212.36s/it]\n"
     ]
    }
   ],
   "source": [
    "num_rates = []\n",
    "    \n",
    "# Count the number of tokens with the feature numtype=card (cardinal numbers)\n",
    "# Divide by the number of words in the full texts\n",
    "for i in tqdm(range(metadata_df.shape[0])):\n",
    "    text = metadata_df.loc[i, 'untokenized_text']\n",
    "    count = 0\n",
    "    doc = nlp(text)\n",
    "    for sent in tqdm(doc.sentences):\n",
    "        for word in sent.words:\n",
    "            if word.feats == 'NumType=Card':\n",
    "                count += 1\n",
    "    num_rates.append(count/metadata_df.loc[i, 'number_of_words'])"
   ]
  },
  {
   "cell_type": "code",
   "execution_count": 107,
   "metadata": {},
   "outputs": [
    {
     "data": {
      "text/plain": [
       "Text(0.5, 0, 'Age at publication (years)')"
      ]
     },
     "execution_count": 107,
     "metadata": {},
     "output_type": "execute_result"
    },
    {
     "data": {
      "image/png": "[encoded data removed]",
      "text/plain": [
       "<Figure size 720x720 with 1 Axes>"
      ]
     },
     "metadata": {},
     "output_type": "display_data"
    }
   ],
   "source": [
    "f, ax = plt.subplots(figsize=(10,10))\n",
    "\n",
    "ax.scatter(metadata_df.age_at_publication, num_rates)\n",
    "\n",
    "\n",
    "plt.xticks(rotation=45);\n",
    "ax.set_ylabel('Number word token rate')\n",
    "\n",
    "ax.set_xlabel('Age at publication (years)')"
   ]
  },
  {
   "cell_type": "markdown",
   "metadata": {},
   "source": [
    "# 3. Color word rates from full texts"
   ]
  },
  {
   "cell_type": "code",
   "execution_count": 78,
   "metadata": {},
   "outputs": [],
   "source": [
    "# Define list of common color words\n",
    "\n",
    "color_list = ['red', 'orange', 'yellow', 'green', 'blue', 'indigo', 'violet',\n",
    "              'purple', 'pink', 'beige', 'brown', 'grey',\n",
    "              'gray', 'black', 'white']"
   ]
  },
  {
   "cell_type": "code",
   "execution_count": 81,
   "metadata": {},
   "outputs": [],
   "source": [
    "color_rate = []\n",
    "for text in metadata_df.text:\n",
    "    word_count = 0\n",
    "    word_dict = Counter(text.split())\n",
    "\n",
    "    for word in color_list:\n",
    "        word_count += word_dict[word]\n",
    "    color_rate.append(word_count/len(text.split()))"
   ]
  },
  {
   "cell_type": "code",
   "execution_count": 82,
   "metadata": {},
   "outputs": [
    {
     "data": {
      "text/plain": [
       "Text(0.5, 0, 'Age at publication (years)')"
      ]
     },
     "execution_count": 82,
     "metadata": {},
     "output_type": "execute_result"
    },
    {
     "data": {
      "image/png": "[encoded data removed]",
      "text/plain": [
       "<Figure size 720x720 with 1 Axes>"
      ]
     },
     "metadata": {},
     "output_type": "display_data"
    }
   ],
   "source": [
    "# Plot rates of color word tokens\n",
    "f, ax = plt.subplots(figsize=(10,10))\n",
    "\n",
    "ax.scatter(metadata_df.age_at_publication, color_rate)\n",
    "\n",
    "\n",
    "plt.xticks(rotation=45);\n",
    "ax.set_ylabel('Color word token rate')\n",
    "\n",
    "ax.set_xlabel('Age at publication (years)')"
   ]
  },
  {
   "cell_type": "markdown",
   "metadata": {},
   "source": [
    "# 4. Function word rates from full texts"
   ]
  },
  {
   "cell_type": "code",
   "execution_count": 83,
   "metadata": {},
   "outputs": [],
   "source": [
    "# Get 300 most common words - a large percentage will be function words\n",
    "mostcommon_300 = Counter(\" \".join(metadata_df[\"text\"]).split()).most_common(300)\n",
    "\n",
    "mostcommon300_list = [item[0] for item in mostcommon_300]"
   ]
  },
  {
   "cell_type": "code",
   "execution_count": 36,
   "metadata": {},
   "outputs": [],
   "source": [
    "# Write function words to a file, and manually annotate content words with a '#' in front\n",
    "# with open('mostcommon300list.txt', 'w') as f:\n",
    "#     for item in sorted(mostcommon300_list):\n",
    "#         f.write(item + \"\\n\")"
   ]
  },
  {
   "cell_type": "code",
   "execution_count": 84,
   "metadata": {},
   "outputs": [
    {
     "data": {
      "text/plain": [
       "['a',\n",
       " 'about',\n",
       " 'across',\n",
       " '#added',\n",
       " 'after',\n",
       " 'again',\n",
       " 'against',\n",
       " 'ah',\n",
       " '#air',\n",
       " 'all',\n",
       " 'along',\n",
       " 'always',\n",
       " 'am',\n",
       " 'an',\n",
       " 'and',\n",
       " '#ankh',\n",
       " 'another',\n",
       " 'any',\n",
       " 'anyone',\n",
       " 'anything',\n",
       " 'anyway',\n",
       " 'are',\n",
       " 'around',\n",
       " 'as',\n",
       " 'at',\n",
       " 'away',\n",
       " 'back',\n",
       " '#bad',\n",
       " 'be',\n",
       " 'because',\n",
       " 'been',\n",
       " 'before',\n",
       " '#began',\n",
       " 'behind',\n",
       " 'being',\n",
       " '#believe',\n",
       " '#better',\n",
       " '#big',\n",
       " '#bit',\n",
       " '#black',\n",
       " 'but',\n",
       " 'by',\n",
       " 'ca',\n",
       " '#came',\n",
       " 'can',\n",
       " '#captain',\n",
       " '#carrot',\n",
       " '#city',\n",
       " '#colon',\n",
       " '#come',\n",
       " 'could',\n",
       " '#course',\n",
       " 'd',\n",
       " '#day',\n",
       " '#dead',\n",
       " '#death',\n",
       " 'did',\n",
       " 'do',\n",
       " 'does',\n",
       " 'doing',\n",
       " 'done',\n",
       " '#door',\n",
       " 'down',\n",
       " 'else',\n",
       " '#end',\n",
       " 'enough',\n",
       " 'er',\n",
       " 'even',\n",
       " 'ever',\n",
       " 'every',\n",
       " 'everyone',\n",
       " 'everything',\n",
       " '#eyes',\n",
       " '#face',\n",
       " '#fact',\n",
       " '#far',\n",
       " '#feet',\n",
       " '#felt',\n",
       " 'few',\n",
       " '#find',\n",
       " '#first',\n",
       " 'for',\n",
       " '#found',\n",
       " 'from',\n",
       " 'front',\n",
       " '#full',\n",
       " '#gave',\n",
       " '#get',\n",
       " '#give',\n",
       " '#go',\n",
       " '#going',\n",
       " '#good',\n",
       " '#got',\n",
       " '#granny',\n",
       " '#great',\n",
       " 'had',\n",
       " '#half',\n",
       " '#hand',\n",
       " '#hands',\n",
       " '#hard',\n",
       " 'has',\n",
       " 'have',\n",
       " 'he',\n",
       " '#head',\n",
       " '#heard',\n",
       " 'her',\n",
       " 'here',\n",
       " 'him',\n",
       " 'himself',\n",
       " 'his',\n",
       " 'how',\n",
       " 'i',\n",
       " 'if',\n",
       " 'in',\n",
       " 'into',\n",
       " 'is',\n",
       " 'it',\n",
       " 'its',\n",
       " 'just',\n",
       " '#keep',\n",
       " '#kind',\n",
       " '#king',\n",
       " '#knew',\n",
       " '#know',\n",
       " '#lady',\n",
       " '#last',\n",
       " '#least',\n",
       " '#left',\n",
       " 'let',\n",
       " '#life',\n",
       " '#light',\n",
       " 'like',\n",
       " '#little',\n",
       " 'll',\n",
       " '#long',\n",
       " '#look',\n",
       " '#looked',\n",
       " '#looking',\n",
       " '#lord',\n",
       " 'lot',\n",
       " 'm',\n",
       " '#made',\n",
       " '#magic',\n",
       " '#magrat',\n",
       " '#make',\n",
       " '#man',\n",
       " 'many',\n",
       " 'me',\n",
       " '#mean',\n",
       " '#men',\n",
       " 'might',\n",
       " '#mind',\n",
       " '#miss',\n",
       " '#mister',\n",
       " '#moist',\n",
       " '#moment',\n",
       " 'more',\n",
       " '#morpork',\n",
       " 'most',\n",
       " '#mr',\n",
       " '#mrs',\n",
       " 'much',\n",
       " 'must',\n",
       " 'my',\n",
       " '#nanny',\n",
       " '#need',\n",
       " 'never',\n",
       " '#new',\n",
       " '#night',\n",
       " 'no',\n",
       " '#nobby',\n",
       " 'not',\n",
       " 'nothing',\n",
       " 'now',\n",
       " 'nt',\n",
       " 'of',\n",
       " 'off',\n",
       " '#ogg',\n",
       " 'oh',\n",
       " '#old',\n",
       " 'on',\n",
       " 'once',\n",
       " 'one',\n",
       " 'only',\n",
       " '#open',\n",
       " 'or',\n",
       " 'other',\n",
       " 'our',\n",
       " 'out',\n",
       " 'over',\n",
       " 'own',\n",
       " '#people',\n",
       " '#place',\n",
       " '#point',\n",
       " 'probably',\n",
       " '#put',\n",
       " 'quite',\n",
       " 'rather',\n",
       " 're',\n",
       " 'really',\n",
       " '#remember',\n",
       " '#ridcully',\n",
       " '#right',\n",
       " '#rincewind',\n",
       " '#room',\n",
       " 's',\n",
       " '#said',\n",
       " 'same',\n",
       " '#saw',\n",
       " '#say',\n",
       " '#see',\n",
       " '#seemed',\n",
       " '#seen',\n",
       " '#sergeant',\n",
       " 'she',\n",
       " 'should',\n",
       " '#side',\n",
       " '#sir',\n",
       " '#small',\n",
       " 'so',\n",
       " 'some',\n",
       " 'someone',\n",
       " 'something',\n",
       " 'sorry',\n",
       " '#sort',\n",
       " '#sound',\n",
       " '#stared',\n",
       " 'still',\n",
       " '#stopped',\n",
       " 'sure',\n",
       " '#take',\n",
       " '#tell',\n",
       " 'than',\n",
       " 'that',\n",
       " 'the',\n",
       " 'their',\n",
       " 'them',\n",
       " 'then',\n",
       " 'there',\n",
       " 'these',\n",
       " 'they',\n",
       " '#thing',\n",
       " '#things',\n",
       " '#think',\n",
       " 'this',\n",
       " 'those',\n",
       " 'though',\n",
       " '#thought',\n",
       " '#three',\n",
       " 'through',\n",
       " '#tiffany',\n",
       " '#time',\n",
       " 'to',\n",
       " '#told',\n",
       " 'too',\n",
       " '#took',\n",
       " '#tried',\n",
       " '#trying',\n",
       " '#turned',\n",
       " '#two',\n",
       " 'under',\n",
       " 'until',\n",
       " 'up',\n",
       " 'us',\n",
       " '#used',\n",
       " 've',\n",
       " 'very',\n",
       " '#vetinari',\n",
       " '#vimes',\n",
       " '#voice',\n",
       " '#want',\n",
       " 'was',\n",
       " '#watch',\n",
       " '#water',\n",
       " '#way',\n",
       " 'we',\n",
       " 'well',\n",
       " '#went',\n",
       " 'were',\n",
       " 'what',\n",
       " 'when',\n",
       " 'where',\n",
       " 'which',\n",
       " 'while',\n",
       " 'who',\n",
       " 'why',\n",
       " 'will',\n",
       " 'with',\n",
       " 'without',\n",
       " '#word',\n",
       " '#words',\n",
       " '#work',\n",
       " '#world',\n",
       " 'would',\n",
       " '#wrong',\n",
       " '#years',\n",
       " 'yes',\n",
       " 'you',\n",
       " '#young',\n",
       " 'your']"
      ]
     },
     "execution_count": 84,
     "metadata": {},
     "output_type": "execute_result"
    }
   ],
   "source": [
    "with open('mostcommon300list.txt', 'r') as f:\n",
    "    commonlist = f.read().split('\\n')\n",
    "commonlist"
   ]
  },
  {
   "cell_type": "code",
   "execution_count": 85,
   "metadata": {},
   "outputs": [
    {
     "data": {
      "text/plain": [
       "'a, about, across, #added, after, again, against, ah, #air, all, along, always, am, an, and, #ankh, another, any, anyone, anything, anyway, are, around, as, at, away, back, #bad, be, because, been, before, #began, behind, being, #believe, #better, #big, #bit, #black, but, by, ca, #came, can, #captain, #carrot, #city, #colon, #come, could, #course, d, #day, #dead, #death, did, do, does, doing, done, #door, down, else, #end, enough, er, even, ever, every, everyone, everything, #eyes, #face, #fact, #far, #feet, #felt, few, #find, #first, for, #found, from, front, #full, #gave, #get, #give, #go, #going, #good, #got, #granny, #great, had, #half, #hand, #hands, #hard, has, have, he, #head, #heard, her, here, him, himself, his, how, i, if, in, into, is, it, its, just, #keep, #kind, #king, #knew, #know, #lady, #last, #least, #left, let, #life, #light, like, #little, ll, #long, #look, #looked, #looking, #lord, lot, m, #made, #magic, #magrat, #make, #man, many, me, #mean, #men, might, #mind, #miss, #mister, #moist, #moment, more, #morpork, most, #mr, #mrs, much, must, my, #nanny, #need, never, #new, #night, no, #nobby, not, nothing, now, nt, of, off, #ogg, oh, #old, on, once, one, only, #open, or, other, our, out, over, own, #people, #place, #point, probably, #put, quite, rather, re, really, #remember, #ridcully, #right, #rincewind, #room, s, #said, same, #saw, #say, #see, #seemed, #seen, #sergeant, she, should, #side, #sir, #small, so, some, someone, something, sorry, #sort, #sound, #stared, still, #stopped, sure, #take, #tell, than, that, the, their, them, then, there, these, they, #thing, #things, #think, this, those, though, #thought, #three, through, #tiffany, #time, to, #told, too, #took, #tried, #trying, #turned, #two, under, until, up, us, #used, ve, very, #vetinari, #vimes, #voice, #want, was, #watch, #water, #way, we, well, #went, were, what, when, where, which, while, who, why, will, with, without, #word, #words, #work, #world, would, #wrong, #years, yes, you, #young, your'"
      ]
     },
     "execution_count": 85,
     "metadata": {},
     "output_type": "execute_result"
    }
   ],
   "source": [
    "\", \".join(commonlist)"
   ]
  },
  {
   "cell_type": "code",
   "execution_count": 86,
   "metadata": {},
   "outputs": [
    {
     "name": "stdout",
     "output_type": "stream",
     "text": [
      "159\n"
     ]
    },
    {
     "data": {
      "text/plain": [
       "['a',\n",
       " 'about',\n",
       " 'across',\n",
       " 'after',\n",
       " 'again',\n",
       " 'against',\n",
       " 'ah',\n",
       " 'all',\n",
       " 'along',\n",
       " 'always',\n",
       " 'am',\n",
       " 'an',\n",
       " 'and',\n",
       " 'another',\n",
       " 'any',\n",
       " 'anyone',\n",
       " 'anything',\n",
       " 'anyway',\n",
       " 'are',\n",
       " 'around',\n",
       " 'as',\n",
       " 'at',\n",
       " 'away',\n",
       " 'back',\n",
       " 'be',\n",
       " 'because',\n",
       " 'been',\n",
       " 'before',\n",
       " 'behind',\n",
       " 'being',\n",
       " 'but',\n",
       " 'by',\n",
       " 'ca',\n",
       " 'can',\n",
       " 'could',\n",
       " 'd',\n",
       " 'did',\n",
       " 'do',\n",
       " 'does',\n",
       " 'doing',\n",
       " 'done',\n",
       " 'down',\n",
       " 'else',\n",
       " 'enough',\n",
       " 'er',\n",
       " 'even',\n",
       " 'ever',\n",
       " 'every',\n",
       " 'everyone',\n",
       " 'everything',\n",
       " 'few',\n",
       " 'for',\n",
       " 'from',\n",
       " 'front',\n",
       " 'had',\n",
       " 'has',\n",
       " 'have',\n",
       " 'he',\n",
       " 'her',\n",
       " 'here',\n",
       " 'him',\n",
       " 'himself',\n",
       " 'his',\n",
       " 'how',\n",
       " 'i',\n",
       " 'if',\n",
       " 'in',\n",
       " 'into',\n",
       " 'is',\n",
       " 'it',\n",
       " 'its',\n",
       " 'just',\n",
       " 'let',\n",
       " 'like',\n",
       " 'll',\n",
       " 'lot',\n",
       " 'm',\n",
       " 'many',\n",
       " 'me',\n",
       " 'might',\n",
       " 'more',\n",
       " 'most',\n",
       " 'much',\n",
       " 'must',\n",
       " 'my',\n",
       " 'never',\n",
       " 'no',\n",
       " 'not',\n",
       " 'nothing',\n",
       " 'now',\n",
       " 'nt',\n",
       " 'of',\n",
       " 'off',\n",
       " 'oh',\n",
       " 'on',\n",
       " 'once',\n",
       " 'one',\n",
       " 'only',\n",
       " 'or',\n",
       " 'other',\n",
       " 'our',\n",
       " 'out',\n",
       " 'over',\n",
       " 'own',\n",
       " 'probably',\n",
       " 'quite',\n",
       " 'rather',\n",
       " 're',\n",
       " 'really',\n",
       " 's',\n",
       " 'same',\n",
       " 'she',\n",
       " 'should',\n",
       " 'so',\n",
       " 'some',\n",
       " 'someone',\n",
       " 'something',\n",
       " 'sorry',\n",
       " 'still',\n",
       " 'sure',\n",
       " 'than',\n",
       " 'that',\n",
       " 'the',\n",
       " 'their',\n",
       " 'them',\n",
       " 'then',\n",
       " 'there',\n",
       " 'these',\n",
       " 'they',\n",
       " 'this',\n",
       " 'those',\n",
       " 'though',\n",
       " 'through',\n",
       " 'to',\n",
       " 'too',\n",
       " 'under',\n",
       " 'until',\n",
       " 'up',\n",
       " 'us',\n",
       " 've',\n",
       " 'very',\n",
       " 'was',\n",
       " 'we',\n",
       " 'well',\n",
       " 'were',\n",
       " 'what',\n",
       " 'when',\n",
       " 'where',\n",
       " 'which',\n",
       " 'while',\n",
       " 'who',\n",
       " 'why',\n",
       " 'will',\n",
       " 'with',\n",
       " 'without',\n",
       " 'would',\n",
       " 'yes',\n",
       " 'you',\n",
       " 'your']"
      ]
     },
     "execution_count": 86,
     "metadata": {},
     "output_type": "execute_result"
    }
   ],
   "source": [
    "# Get rid of content words\n",
    "\n",
    "function_words = [item for item in commonlist if not item.startswith('#')]\n",
    "print(len(function_words))\n",
    "function_words"
   ]
  },
  {
   "cell_type": "code",
   "execution_count": 87,
   "metadata": {},
   "outputs": [
    {
     "name": "stdout",
     "output_type": "stream",
     "text": [
      "['a', 'about', 'after', 'again', 'ah', 'all', 'always', 'am', 'an', 'and', 'another', 'any', 'anyone', 'anything', 'anyway', 'are', 'as', 'at', 'away', 'back', 'be', 'because', 'been', 'before', 'being', 'but', 'by', 'ca', 'can', 'could', 'd', 'did', 'do', 'does', 'doing', 'done', 'else', 'enough', 'er', 'even', 'ever', 'every', 'everyone', 'everything', 'few', 'for', 'from', 'front', 'had', 'has', 'have', 'he', 'her', 'here', 'him', 'himself', 'his', 'how', 'i', 'if', 'in', 'into', 'is', 'it', 'its', 'just', 'let', 'like', 'll', 'lot', 'm', 'many', 'me', 'might', 'more', 'most', 'much', 'must', 'my', 'never', 'no', 'not', 'nothing', 'now', 'nt', 'of', 'off', 'oh', 'on', 'once', 'one', 'only', 'or', 'other', 'our', 'over', 'own', 'probably', 'quite', 'rather', 're', 'really', 's', 'same', 'she', 'should', 'so', 'some', 'someone', 'something', 'sorry', 'still', 'sure', 'than', 'that', 'the', 'their', 'them', 'then', 'there', 'these', 'they', 'this', 'those', 'though', 'to', 'too', 'until', 'up', 'us', 've', 'very', 'was', 'we', 'well', 'were', 'what', 'when', 'where', 'which', 'while', 'who', 'why', 'will', 'with', 'without', 'would', 'yes', 'you', 'your']\n"
     ]
    },
    {
     "data": {
      "text/plain": [
       "150"
      ]
     },
     "execution_count": 87,
     "metadata": {},
     "output_type": "execute_result"
    }
   ],
   "source": [
    "# Get rid of empty strings and words that are in the spatial preposition list\n",
    "\n",
    "function_words = [item for item in function_words if not item in spatial_prep_list and len(item) !=0]\n",
    "print(function_words)\n",
    "len(function_words)"
   ]
  },
  {
   "cell_type": "code",
   "execution_count": 88,
   "metadata": {},
   "outputs": [],
   "source": [
    "# Get rates of function words in each book from full texts\n",
    "\n",
    "func_rate = []\n",
    "for text in metadata_df.text:\n",
    "    word_count = 0\n",
    "    word_dict = Counter(text.split())\n",
    "\n",
    "    for word in function_words:\n",
    "        word_count += word_dict[word]\n",
    "    func_rate.append(word_count/len(text.split()))"
   ]
  },
  {
   "cell_type": "code",
   "execution_count": 89,
   "metadata": {},
   "outputs": [
    {
     "data": {
      "text/plain": [
       "Text(0.5, 0, 'Age at publication (years)')"
      ]
     },
     "execution_count": 89,
     "metadata": {},
     "output_type": "execute_result"
    },
    {
     "data": {
      "image/png": "[encoded data removed]",
      "text/plain": [
       "<Figure size 720x720 with 1 Axes>"
      ]
     },
     "metadata": {},
     "output_type": "display_data"
    }
   ],
   "source": [
    "# Plot rates of function word tokens\n",
    "f, ax = plt.subplots(figsize=(10,10))\n",
    "\n",
    "ax.scatter(metadata_df.age_at_publication, func_rate)\n",
    "\n",
    "\n",
    "plt.xticks(rotation=45);\n",
    "ax.set_ylabel('Function word token rate')\n",
    "\n",
    "ax.set_xlabel('Age at publication (years)')"
   ]
  },
  {
   "cell_type": "markdown",
   "metadata": {},
   "source": [
    "# 5. Form word rates from full texts"
   ]
  },
  {
   "cell_type": "code",
   "execution_count": 90,
   "metadata": {},
   "outputs": [],
   "source": [
    "# Define list of words related to form\n",
    "form_list = ['angular', 'arc', 'asymmetrical', 'bulbous', 'chunky', 'circle', 'circular', 'concave', 'concentric', \n",
    "             'contorted', 'contoured', 'convex', 'corrugated', 'cube', 'cuboid', 'curly', 'curved', 'curvy',\n",
    "             'cylinder', 'cylindrical', 'dot', 'ellipse', 'flat', 'forked', 'geometric', \n",
    "             'globular', 'grid', 'hexagon', 'misshapen', 'octagon', 'octagonal', 'oval', 'pointy', 'polygon', 'rectangle', 'rectangular',\n",
    "             'round', 'solid', 'sphere', 'spherical', 'square', 'straight', 'symmetrical', 'tapered', 'tapering', 'triangle', 'triangular',\n",
    "             'twisted', 'wedge'\n",
    "]"
   ]
  },
  {
   "cell_type": "code",
   "execution_count": 93,
   "metadata": {},
   "outputs": [],
   "source": [
    "# Get rates of form word tokens in each book from full texts\n",
    "form_rate = []\n",
    "for text in metadata_df.text:\n",
    "    word_count = 0\n",
    "    word_dict = Counter(text.split())\n",
    "\n",
    "    for word in form_list:\n",
    "        word_count += word_dict[word]\n",
    "    form_rate.append(word_count/len(text.split()))"
   ]
  },
  {
   "cell_type": "code",
   "execution_count": 94,
   "metadata": {},
   "outputs": [
    {
     "data": {
      "text/plain": [
       "Text(0.5, 0, 'Age at publication (years)')"
      ]
     },
     "execution_count": 94,
     "metadata": {},
     "output_type": "execute_result"
    },
    {
     "data": {
      "image/png": "[encoded data removed]",
      "text/plain": [
       "<Figure size 720x720 with 1 Axes>"
      ]
     },
     "metadata": {},
     "output_type": "display_data"
    }
   ],
   "source": [
    "# Plot rates of form word tokens\n",
    "f, ax = plt.subplots(figsize=(10,10))\n",
    "\n",
    "ax.scatter(metadata_df.age_at_publication, form_rate)\n",
    "\n",
    "\n",
    "plt.xticks(rotation=45);\n",
    "ax.set_ylabel('Form word rates from full texts')\n",
    "\n",
    "ax.set_xlabel('Age at publication (years)')"
   ]
  },
  {
   "cell_type": "markdown",
   "metadata": {},
   "source": [
    "# 6. Save dataframe for significance testing"
   ]
  },
  {
   "cell_type": "code",
   "execution_count": 108,
   "metadata": {},
   "outputs": [],
   "source": [
    "metadata_df['spatial_preprate'] = spatial_prep_rate\n",
    "metadata_df['num_rate'] = num_rates\n",
    "metadata_df['func_rate'] = func_rate\n",
    "metadata_df['color_rate'] = color_rate\n",
    "metadata_df['form_rate'] = form_rate"
   ]
  },
  {
   "cell_type": "code",
   "execution_count": 110,
   "metadata": {
    "scrolled": true
   },
   "outputs": [
    {
     "name": "stdout",
     "output_type": "stream",
     "text": [
      "(35, 10)\n"
     ]
    },
    {
     "data": {
      "text/plain": [
       "Index(['title', 'year_of_publication', 'age_at_publication', 'YA',\n",
       "       'number_of_words', 'spatial_preprate', 'num_rate', 'func_rate',\n",
       "       'color_rate', 'form_rate'],\n",
       "      dtype='object')"
      ]
     },
     "execution_count": 110,
     "metadata": {},
     "output_type": "execute_result"
    }
   ],
   "source": [
    "notext = metadata_df.drop(['text', 'untokenized_text'], axis=1)\n",
    "print(notext.shape)\n",
    "notext.columns"
   ]
  },
  {
   "cell_type": "code",
   "execution_count": 111,
   "metadata": {},
   "outputs": [],
   "source": [
    "os.chdir('C:/Users/Dora Sperling/Desktop/Thesis')\n",
    "notext.to_csv('3-lexicosemantic_wordcategory.csv', encoding='utf8', index=False)"
   ]
  }
 ],
 "metadata": {
  "kernelspec": {
   "display_name": "Python 3",
   "language": "python",
   "name": "python3"
  },
  "language_info": {
   "codemirror_mode": {
    "name": "ipython",
    "version": 3
   },
   "file_extension": ".py",
   "mimetype": "text/x-python",
   "name": "python",
   "nbconvert_exporter": "python",
   "pygments_lexer": "ipython3",
   "version": "3.8.8"
  }
 },
 "nbformat": 4,
 "nbformat_minor": 4
}
