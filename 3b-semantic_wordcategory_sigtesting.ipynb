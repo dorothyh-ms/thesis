{
 "cells": [
  {
   "cell_type": "code",
   "execution_count": 30,
   "id": "023dfa27",
   "metadata": {},
   "outputs": [],
   "source": [
    "library(lme4) # necessary for model fitting: glmer\n",
    "library(car) # necessary for significance testing: Anova\n",
    "library(effects) # necessary for making effect plots\n",
    "library(blmeco) # necessary for dispersion test for mixed effects models"
   ]
  },
  {
   "cell_type": "markdown",
   "id": "e09890bd",
   "metadata": {},
   "source": [
    "# II. Word Categories"
   ]
  },
  {
   "cell_type": "code",
   "execution_count": 31,
   "id": "404d5d2a",
   "metadata": {},
   "outputs": [],
   "source": [
    "df <- read.csv('pratchett_metadata_shebani.csv', sep=',')"
   ]
  },
  {
   "cell_type": "code",
   "execution_count": 32,
   "id": "94ee04fc",
   "metadata": {},
   "outputs": [
    {
     "data": {
      "text/html": [
       "<table>\n",
       "<thead><tr><th scope=col>title</th><th scope=col>year_of_publication</th><th scope=col>age_at_publication</th><th scope=col>YA</th><th scope=col>number_of_words</th><th scope=col>spatial_preprate</th><th scope=col>num_rate</th><th scope=col>func_rate</th><th scope=col>color_rate</th><th scope=col>form_rate</th></tr></thead>\n",
       "<tbody>\n",
       "\t<tr><td>The Color Of Magic </td><td>1983               </td><td>35.58              </td><td>False              </td><td>66492              </td><td>0.01839319         </td><td>0.007459544        </td><td>0.5157613          </td><td>0.003444023        </td><td>0.0014137039       </td></tr>\n",
       "\t<tr><td>The Light Fantastic</td><td>1986               </td><td>38.10              </td><td>False              </td><td>45998              </td><td>0.01639202         </td><td>0.006130701        </td><td>0.5334145          </td><td>0.002347928        </td><td>0.0012391843       </td></tr>\n",
       "\t<tr><td>Equal Rites        </td><td>1987               </td><td>38.72              </td><td>False              </td><td>67372              </td><td>0.01748501         </td><td>0.004363831        </td><td>0.5376863          </td><td>0.002434246        </td><td>0.0012171228       </td></tr>\n",
       "\t<tr><td>Mort               </td><td>1987               </td><td>39.51              </td><td>False              </td><td>73987              </td><td>0.01721924         </td><td>0.006028086        </td><td>0.5363375          </td><td>0.002581535        </td><td>0.0015678430       </td></tr>\n",
       "\t<tr><td>Sourcery           </td><td>1988               </td><td>40.08              </td><td>False              </td><td>79536              </td><td>0.01665912         </td><td>0.006123013        </td><td>0.5386743          </td><td>0.002678033        </td><td>0.0012447194       </td></tr>\n",
       "\t<tr><td>Wyrd Sisters       </td><td>1988               </td><td>40.54              </td><td>False              </td><td>86320              </td><td>0.01485171         </td><td>0.006255792        </td><td>0.5419601          </td><td>0.001702966        </td><td>0.0006139944       </td></tr>\n",
       "</tbody>\n",
       "</table>\n"
      ],
      "text/latex": [
       "\\begin{tabular}{r|llllllllll}\n",
       " title & year\\_of\\_publication & age\\_at\\_publication & YA & number\\_of\\_words & spatial\\_preprate & num\\_rate & func\\_rate & color\\_rate & form\\_rate\\\\\n",
       "\\hline\n",
       "\t The Color Of Magic  & 1983                & 35.58               & False               & 66492               & 0.01839319          & 0.007459544         & 0.5157613           & 0.003444023         & 0.0014137039       \\\\\n",
       "\t The Light Fantastic & 1986                & 38.10               & False               & 45998               & 0.01639202          & 0.006130701         & 0.5334145           & 0.002347928         & 0.0012391843       \\\\\n",
       "\t Equal Rites         & 1987                & 38.72               & False               & 67372               & 0.01748501          & 0.004363831         & 0.5376863           & 0.002434246         & 0.0012171228       \\\\\n",
       "\t Mort                & 1987                & 39.51               & False               & 73987               & 0.01721924          & 0.006028086         & 0.5363375           & 0.002581535         & 0.0015678430       \\\\\n",
       "\t Sourcery            & 1988                & 40.08               & False               & 79536               & 0.01665912          & 0.006123013         & 0.5386743           & 0.002678033         & 0.0012447194       \\\\\n",
       "\t Wyrd Sisters        & 1988                & 40.54               & False               & 86320               & 0.01485171          & 0.006255792         & 0.5419601           & 0.001702966         & 0.0006139944       \\\\\n",
       "\\end{tabular}\n"
      ],
      "text/markdown": [
       "\n",
       "| title | year_of_publication | age_at_publication | YA | number_of_words | spatial_preprate | num_rate | func_rate | color_rate | form_rate |\n",
       "|---|---|---|---|---|---|---|---|---|---|\n",
       "| The Color Of Magic  | 1983                | 35.58               | False               | 66492               | 0.01839319          | 0.007459544         | 0.5157613           | 0.003444023         | 0.0014137039        |\n",
       "| The Light Fantastic | 1986                | 38.10               | False               | 45998               | 0.01639202          | 0.006130701         | 0.5334145           | 0.002347928         | 0.0012391843        |\n",
       "| Equal Rites         | 1987                | 38.72               | False               | 67372               | 0.01748501          | 0.004363831         | 0.5376863           | 0.002434246         | 0.0012171228        |\n",
       "| Mort                | 1987                | 39.51               | False               | 73987               | 0.01721924          | 0.006028086         | 0.5363375           | 0.002581535         | 0.0015678430        |\n",
       "| Sourcery            | 1988                | 40.08               | False               | 79536               | 0.01665912          | 0.006123013         | 0.5386743           | 0.002678033         | 0.0012447194        |\n",
       "| Wyrd Sisters        | 1988                | 40.54               | False               | 86320               | 0.01485171          | 0.006255792         | 0.5419601           | 0.001702966         | 0.0006139944        |\n",
       "\n"
      ],
      "text/plain": [
       "  title               year_of_publication age_at_publication YA   \n",
       "1 The Color Of Magic  1983                35.58              False\n",
       "2 The Light Fantastic 1986                38.10              False\n",
       "3 Equal Rites         1987                38.72              False\n",
       "4 Mort                1987                39.51              False\n",
       "5 Sourcery            1988                40.08              False\n",
       "6 Wyrd Sisters        1988                40.54              False\n",
       "  number_of_words spatial_preprate num_rate    func_rate color_rate \n",
       "1 66492           0.01839319       0.007459544 0.5157613 0.003444023\n",
       "2 45998           0.01639202       0.006130701 0.5334145 0.002347928\n",
       "3 67372           0.01748501       0.004363831 0.5376863 0.002434246\n",
       "4 73987           0.01721924       0.006028086 0.5363375 0.002581535\n",
       "5 79536           0.01665912       0.006123013 0.5386743 0.002678033\n",
       "6 86320           0.01485171       0.006255792 0.5419601 0.001702966\n",
       "  form_rate   \n",
       "1 0.0014137039\n",
       "2 0.0012391843\n",
       "3 0.0012171228\n",
       "4 0.0015678430\n",
       "5 0.0012447194\n",
       "6 0.0006139944"
      ]
     },
     "metadata": {},
     "output_type": "display_data"
    }
   ],
   "source": [
    "head(df)"
   ]
  },
  {
   "cell_type": "code",
   "execution_count": 25,
   "id": "2772355b",
   "metadata": {},
   "outputs": [
    {
     "data": {
      "text/html": [
       "35"
      ],
      "text/latex": [
       "35"
      ],
      "text/markdown": [
       "35"
      ],
      "text/plain": [
       "[1] 35"
      ]
     },
     "metadata": {},
     "output_type": "display_data"
    }
   ],
   "source": [
    "df <- df[df$YA == 'False', ]\n",
    "nrow(df)"
   ]
  },
  {
   "cell_type": "code",
   "execution_count": 33,
   "id": "25e63b59",
   "metadata": {},
   "outputs": [
    {
     "data": {
      "text/plain": [
       "\n",
       "Call:\n",
       "lm(formula = age_at_publication ~ scale(spatial_preprate) + scale(num_rate) + \n",
       "    scale(func_rate) + scale(color_rate) + scale(form_rate), \n",
       "    data = df)\n",
       "\n",
       "Residuals:\n",
       "    Min      1Q  Median      3Q     Max \n",
       "-7.9213 -2.8072 -0.0991  2.3761 11.3246 \n",
       "\n",
       "Coefficients:\n",
       "                        Estimate Std. Error t value Pr(>|t|)    \n",
       "(Intercept)              48.3314     0.7623  63.401  < 2e-16 ***\n",
       "scale(spatial_preprate)  -4.8320     1.2145  -3.978 0.000424 ***\n",
       "scale(num_rate)          -1.5102     0.8757  -1.724 0.095270 .  \n",
       "scale(func_rate)          1.1158     1.1575   0.964 0.343015    \n",
       "scale(color_rate)        -0.1618     0.9272  -0.175 0.862672    \n",
       "scale(form_rate)         -0.9965     0.9258  -1.076 0.290629    \n",
       "---\n",
       "Signif. codes:  0 '***' 0.001 '**' 0.01 '*' 0.05 '.' 0.1 ' ' 1\n",
       "\n",
       "Residual standard error: 4.51 on 29 degrees of freedom\n",
       "Multiple R-squared:  0.7014,\tAdjusted R-squared:  0.6499 \n",
       "F-statistic: 13.62 on 5 and 29 DF,  p-value: 7.053e-07\n"
      ]
     },
     "metadata": {},
     "output_type": "display_data"
    }
   ],
   "source": [
    "m = lm(age_at_publication~\n",
    "       scale(spatial_preprate)\n",
    "       + scale(num_rate)\n",
    "       + scale(func_rate)\n",
    "       + scale(color_rate)\n",
    "       + scale(form_rate), data=df)\n",
    "summary(m)"
   ]
  },
  {
   "cell_type": "markdown",
   "id": "1def12fb",
   "metadata": {},
   "source": [
    "# Correlation testing"
   ]
  },
  {
   "cell_type": "code",
   "execution_count": 34,
   "id": "23cd1275",
   "metadata": {},
   "outputs": [
    {
     "data": {
      "text/plain": [
       "\n",
       "\tKendall's rank correlation tau\n",
       "\n",
       "data:  df$age_at_publication and df$spatial_preprate\n",
       "T = 119, p-value = 5.698e-08\n",
       "alternative hypothesis: true tau is not equal to 0\n",
       "sample estimates:\n",
       " tau \n",
       "-0.6 \n"
      ]
     },
     "metadata": {},
     "output_type": "display_data"
    },
    {
     "data": {
      "text/plain": [
       "\n",
       "\tKendall's rank correlation tau\n",
       "\n",
       "data:  df$age_at_publication and df$num_rate\n",
       "T = 269, p-value = 0.4293\n",
       "alternative hypothesis: true tau is not equal to 0\n",
       "sample estimates:\n",
       "        tau \n",
       "-0.09579832 \n"
      ]
     },
     "metadata": {},
     "output_type": "display_data"
    },
    {
     "data": {
      "text/plain": [
       "\n",
       "\tKendall's rank correlation tau\n",
       "\n",
       "data:  df$age_at_publication and df$func_rate\n",
       "T = 421, p-value = 0.000336\n",
       "alternative hypothesis: true tau is not equal to 0\n",
       "sample estimates:\n",
       "      tau \n",
       "0.4151261 \n"
      ]
     },
     "metadata": {},
     "output_type": "display_data"
    },
    {
     "data": {
      "text/plain": [
       "\n",
       "\tKendall's rank correlation tau\n",
       "\n",
       "data:  df$age_at_publication and df$color_rate\n",
       "T = 179, p-value = 0.0006034\n",
       "alternative hypothesis: true tau is not equal to 0\n",
       "sample estimates:\n",
       "       tau \n",
       "-0.3983193 \n"
      ]
     },
     "metadata": {},
     "output_type": "display_data"
    },
    {
     "data": {
      "text/plain": [
       "\n",
       "\tKendall's rank correlation tau\n",
       "\n",
       "data:  df$age_at_publication and df$form_rate\n",
       "T = 213, p-value = 0.01624\n",
       "alternative hypothesis: true tau is not equal to 0\n",
       "sample estimates:\n",
       "       tau \n",
       "-0.2840336 \n"
      ]
     },
     "metadata": {},
     "output_type": "display_data"
    }
   ],
   "source": [
    "cor.test(df$age_at_publication, df$spatial_preprate, method=\"kendall\")\n",
    "cor.test(df$age_at_publication, df$num_rate, method=\"kendall\")\n",
    "cor.test(df$age_at_publication, df$func_rate, method=\"kendall\")\n",
    "cor.test(df$age_at_publication, df$color_rate, method=\"kendall\")\n",
    "cor.test(df$age_at_publication, df$form_rate, method=\"kendall\")"
   ]
  }
 ],
 "metadata": {
  "kernelspec": {
   "display_name": "R",
   "language": "R",
   "name": "ir"
  },
  "language_info": {
   "codemirror_mode": "r",
   "file_extension": ".r",
   "mimetype": "text/x-r-source",
   "name": "R",
   "pygments_lexer": "r",
   "version": "3.6.1"
  }
 },
 "nbformat": 4,
 "nbformat_minor": 5
}
