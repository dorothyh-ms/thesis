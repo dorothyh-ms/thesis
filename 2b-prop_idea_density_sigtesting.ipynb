{
 "cells": [
  {
   "cell_type": "code",
   "execution_count": 11,
   "id": "8765df5b",
   "metadata": {},
   "outputs": [],
   "source": [
    "library(lme4) # necessary for model fitting: glmer\n",
    "library(car) # necessary for significance testing: Anova\n",
    "library(effects) # necessary for making effect plots\n",
    "library(blmeco) # necessary for dispersion test for mixed effects models"
   ]
  },
  {
   "cell_type": "code",
   "execution_count": 12,
   "id": "c9b505ca",
   "metadata": {},
   "outputs": [
    {
     "data": {
      "text/html": [
       "<table>\n",
       "<thead><tr><th scope=col>title</th><th scope=col>year_of_publication</th><th scope=col>age_at_publication</th><th scope=col>YA</th><th scope=col>propositional_idea_density</th><th scope=col>mean_propositional_rep_idea_density_100p</th><th scope=col>DEPIDR_sig_internalvar</th></tr></thead>\n",
       "<tbody>\n",
       "\t<tr><td>The Color Of Magic </td><td>1983               </td><td>35.58              </td><td>False              </td><td>0.5111897          </td><td>0.4592834          </td><td>False              </td></tr>\n",
       "\t<tr><td>The Light Fantastic</td><td>1986               </td><td>38.10              </td><td>False              </td><td>0.4954551          </td><td>0.4349658          </td><td>False              </td></tr>\n",
       "\t<tr><td>Equal Rites        </td><td>1987               </td><td>38.72              </td><td>False              </td><td>0.4939956          </td><td>0.4344293          </td><td>False              </td></tr>\n",
       "\t<tr><td>Mort               </td><td>1987               </td><td>39.51              </td><td>False              </td><td>0.4986607          </td><td>0.4412229          </td><td>False              </td></tr>\n",
       "\t<tr><td>Sourcery           </td><td>1988               </td><td>40.08              </td><td>False              </td><td>0.5017615          </td><td>0.4453618          </td><td>False              </td></tr>\n",
       "\t<tr><td>Wyrd Sisters       </td><td>1988               </td><td>40.54              </td><td>False              </td><td>0.4924516          </td><td>0.4314733          </td><td>False              </td></tr>\n",
       "\t<tr><td>Pyramids           </td><td>1989               </td><td>41.13              </td><td>False              </td><td>0.4967409          </td><td>0.4337458          </td><td>False              </td></tr>\n",
       "\t<tr><td>Guards! Guards!    </td><td>1989               </td><td>41.53              </td><td>False              </td><td>0.4868302          </td><td>0.4254707          </td><td>False              </td></tr>\n",
       "\t<tr><td>Eric               </td><td>1990               </td><td>42.30              </td><td>False              </td><td>0.4865470          </td><td>0.4213794          </td><td>False              </td></tr>\n",
       "\t<tr><td>Moving Pictures    </td><td>1990               </td><td>42.51              </td><td>False              </td><td>0.4794307          </td><td>0.4171827          </td><td>False              </td></tr>\n",
       "\t<tr><td>Reaper Man         </td><td>1991               </td><td>43.07              </td><td>False              </td><td>0.4774417          </td><td>0.4226952          </td><td>False              </td></tr>\n",
       "\t<tr><td>Witches Abroad     </td><td>1991               </td><td>43.53              </td><td>False              </td><td>0.4847644          </td><td>0.4175379          </td><td>False              </td></tr>\n",
       "\t<tr><td>Small Gods         </td><td>1992               </td><td>44.06              </td><td>False              </td><td>0.4843447          </td><td>0.4210454          </td><td>False              </td></tr>\n",
       "\t<tr><td>Lords and Ladies   </td><td>1992               </td><td>44.52              </td><td>False              </td><td>0.4769963          </td><td>0.4187111          </td><td>False              </td></tr>\n",
       "\t<tr><td>Men at Arms        </td><td>1993               </td><td>45.54              </td><td>False              </td><td>0.4749909          </td><td>0.4149310          </td><td>False              </td></tr>\n",
       "\t<tr><td>Soul Music         </td><td>1994               </td><td>46.06              </td><td>False              </td><td>0.4758782          </td><td>0.4162852          </td><td>False              </td></tr>\n",
       "\t<tr><td>Interesting Times  </td><td>1994               </td><td>46.52              </td><td>False              </td><td>0.4782784          </td><td>0.4190672          </td><td>False              </td></tr>\n",
       "\t<tr><td>Maskerade          </td><td>1995               </td><td>47.52              </td><td>False              </td><td>0.4765079          </td><td>0.4213541          </td><td>False              </td></tr>\n",
       "\t<tr><td>Feet of Clay       </td><td>1996               </td><td>48.08              </td><td>False              </td><td>0.4686431          </td><td>0.4131936          </td><td>False              </td></tr>\n",
       "\t<tr><td>Hogfather          </td><td>1996               </td><td>48.51              </td><td>False              </td><td>0.4726027          </td><td>0.4128011          </td><td>False              </td></tr>\n",
       "\t<tr><td>Jingo              </td><td>1997               </td><td>49.53              </td><td>False              </td><td>0.4796332          </td><td>0.4224427          </td><td>False              </td></tr>\n",
       "\t<tr><td>The Last Continent </td><td>1998               </td><td>50.01              </td><td>False              </td><td>0.4832143          </td><td>0.4210362          </td><td>False              </td></tr>\n",
       "\t<tr><td>Carpe Jugulum      </td><td>1998               </td><td>50.52              </td><td>False              </td><td>0.4838771          </td><td>0.4235338          </td><td>False              </td></tr>\n",
       "\t<tr><td>The Fifth Elephant </td><td>1999               </td><td>51.52              </td><td>False              </td><td>0.4827825          </td><td>0.4272658          </td><td>False              </td></tr>\n",
       "\t<tr><td>The Truth          </td><td>2000               </td><td>52.52              </td><td>False              </td><td>0.4735015          </td><td>0.4104510          </td><td>True               </td></tr>\n",
       "\t<tr><td>Thief of Time      </td><td>2001               </td><td>53.01              </td><td>False              </td><td>0.4738934          </td><td>0.4116913          </td><td>False              </td></tr>\n",
       "\t<tr><td>The Last Hero      </td><td>2001               </td><td>53.47              </td><td>False              </td><td>0.4757464          </td><td>0.4124668          </td><td>True               </td></tr>\n",
       "\t<tr><td>Night Watch        </td><td>2002               </td><td>54.53              </td><td>False              </td><td>0.4795305          </td><td>0.4164564          </td><td>False              </td></tr>\n",
       "\t<tr><td>Monstrous Regiment </td><td>2003               </td><td>55.43              </td><td>False              </td><td>0.4831568          </td><td>0.4204845          </td><td>True               </td></tr>\n",
       "\t<tr><td>Going Postal       </td><td>2004               </td><td>56.43              </td><td>False              </td><td>0.4773863          </td><td>0.4111641          </td><td>True               </td></tr>\n",
       "\t<tr><td>Thud!              </td><td>2005               </td><td>57.41              </td><td>False              </td><td>0.4783798          </td><td>0.4144242          </td><td>False              </td></tr>\n",
       "\t<tr><td>Making Money       </td><td>2007               </td><td>59.41              </td><td>False              </td><td>0.4801262          </td><td>0.4171418          </td><td>False              </td></tr>\n",
       "\t<tr><td>Unseen Academicals </td><td>2009               </td><td>61.45              </td><td>False              </td><td>0.4836945          </td><td>0.4104170          </td><td>True               </td></tr>\n",
       "\t<tr><td>Snuff              </td><td>2011               </td><td>63.46              </td><td>False              </td><td>0.4885433          </td><td>0.4063744          </td><td>False              </td></tr>\n",
       "\t<tr><td>Raising Steam      </td><td>2013               </td><td>65.49              </td><td>False              </td><td>0.4874784          </td><td>0.4158717          </td><td>False              </td></tr>\n",
       "</tbody>\n",
       "</table>\n"
      ],
      "text/latex": [
       "\\begin{tabular}{r|lllllll}\n",
       " title & year\\_of\\_publication & age\\_at\\_publication & YA & propositional\\_idea\\_density & mean\\_propositional\\_rep\\_idea\\_density\\_100p & DEPIDR\\_sig\\_internalvar\\\\\n",
       "\\hline\n",
       "\t The Color Of Magic  & 1983                & 35.58               & False               & 0.5111897           & 0.4592834           & False              \\\\\n",
       "\t The Light Fantastic & 1986                & 38.10               & False               & 0.4954551           & 0.4349658           & False              \\\\\n",
       "\t Equal Rites         & 1987                & 38.72               & False               & 0.4939956           & 0.4344293           & False              \\\\\n",
       "\t Mort                & 1987                & 39.51               & False               & 0.4986607           & 0.4412229           & False              \\\\\n",
       "\t Sourcery            & 1988                & 40.08               & False               & 0.5017615           & 0.4453618           & False              \\\\\n",
       "\t Wyrd Sisters        & 1988                & 40.54               & False               & 0.4924516           & 0.4314733           & False              \\\\\n",
       "\t Pyramids            & 1989                & 41.13               & False               & 0.4967409           & 0.4337458           & False              \\\\\n",
       "\t Guards! Guards!     & 1989                & 41.53               & False               & 0.4868302           & 0.4254707           & False              \\\\\n",
       "\t Eric                & 1990                & 42.30               & False               & 0.4865470           & 0.4213794           & False              \\\\\n",
       "\t Moving Pictures     & 1990                & 42.51               & False               & 0.4794307           & 0.4171827           & False              \\\\\n",
       "\t Reaper Man          & 1991                & 43.07               & False               & 0.4774417           & 0.4226952           & False              \\\\\n",
       "\t Witches Abroad      & 1991                & 43.53               & False               & 0.4847644           & 0.4175379           & False              \\\\\n",
       "\t Small Gods          & 1992                & 44.06               & False               & 0.4843447           & 0.4210454           & False              \\\\\n",
       "\t Lords and Ladies    & 1992                & 44.52               & False               & 0.4769963           & 0.4187111           & False              \\\\\n",
       "\t Men at Arms         & 1993                & 45.54               & False               & 0.4749909           & 0.4149310           & False              \\\\\n",
       "\t Soul Music          & 1994                & 46.06               & False               & 0.4758782           & 0.4162852           & False              \\\\\n",
       "\t Interesting Times   & 1994                & 46.52               & False               & 0.4782784           & 0.4190672           & False              \\\\\n",
       "\t Maskerade           & 1995                & 47.52               & False               & 0.4765079           & 0.4213541           & False              \\\\\n",
       "\t Feet of Clay        & 1996                & 48.08               & False               & 0.4686431           & 0.4131936           & False              \\\\\n",
       "\t Hogfather           & 1996                & 48.51               & False               & 0.4726027           & 0.4128011           & False              \\\\\n",
       "\t Jingo               & 1997                & 49.53               & False               & 0.4796332           & 0.4224427           & False              \\\\\n",
       "\t The Last Continent  & 1998                & 50.01               & False               & 0.4832143           & 0.4210362           & False              \\\\\n",
       "\t Carpe Jugulum       & 1998                & 50.52               & False               & 0.4838771           & 0.4235338           & False              \\\\\n",
       "\t The Fifth Elephant  & 1999                & 51.52               & False               & 0.4827825           & 0.4272658           & False              \\\\\n",
       "\t The Truth           & 2000                & 52.52               & False               & 0.4735015           & 0.4104510           & True               \\\\\n",
       "\t Thief of Time       & 2001                & 53.01               & False               & 0.4738934           & 0.4116913           & False              \\\\\n",
       "\t The Last Hero       & 2001                & 53.47               & False               & 0.4757464           & 0.4124668           & True               \\\\\n",
       "\t Night Watch         & 2002                & 54.53               & False               & 0.4795305           & 0.4164564           & False              \\\\\n",
       "\t Monstrous Regiment  & 2003                & 55.43               & False               & 0.4831568           & 0.4204845           & True               \\\\\n",
       "\t Going Postal        & 2004                & 56.43               & False               & 0.4773863           & 0.4111641           & True               \\\\\n",
       "\t Thud!               & 2005                & 57.41               & False               & 0.4783798           & 0.4144242           & False              \\\\\n",
       "\t Making Money        & 2007                & 59.41               & False               & 0.4801262           & 0.4171418           & False              \\\\\n",
       "\t Unseen Academicals  & 2009                & 61.45               & False               & 0.4836945           & 0.4104170           & True               \\\\\n",
       "\t Snuff               & 2011                & 63.46               & False               & 0.4885433           & 0.4063744           & False              \\\\\n",
       "\t Raising Steam       & 2013                & 65.49               & False               & 0.4874784           & 0.4158717           & False              \\\\\n",
       "\\end{tabular}\n"
      ],
      "text/markdown": [
       "\n",
       "| title | year_of_publication | age_at_publication | YA | propositional_idea_density | mean_propositional_rep_idea_density_100p | DEPIDR_sig_internalvar |\n",
       "|---|---|---|---|---|---|---|\n",
       "| The Color Of Magic  | 1983                | 35.58               | False               | 0.5111897           | 0.4592834           | False               |\n",
       "| The Light Fantastic | 1986                | 38.10               | False               | 0.4954551           | 0.4349658           | False               |\n",
       "| Equal Rites         | 1987                | 38.72               | False               | 0.4939956           | 0.4344293           | False               |\n",
       "| Mort                | 1987                | 39.51               | False               | 0.4986607           | 0.4412229           | False               |\n",
       "| Sourcery            | 1988                | 40.08               | False               | 0.5017615           | 0.4453618           | False               |\n",
       "| Wyrd Sisters        | 1988                | 40.54               | False               | 0.4924516           | 0.4314733           | False               |\n",
       "| Pyramids            | 1989                | 41.13               | False               | 0.4967409           | 0.4337458           | False               |\n",
       "| Guards! Guards!     | 1989                | 41.53               | False               | 0.4868302           | 0.4254707           | False               |\n",
       "| Eric                | 1990                | 42.30               | False               | 0.4865470           | 0.4213794           | False               |\n",
       "| Moving Pictures     | 1990                | 42.51               | False               | 0.4794307           | 0.4171827           | False               |\n",
       "| Reaper Man          | 1991                | 43.07               | False               | 0.4774417           | 0.4226952           | False               |\n",
       "| Witches Abroad      | 1991                | 43.53               | False               | 0.4847644           | 0.4175379           | False               |\n",
       "| Small Gods          | 1992                | 44.06               | False               | 0.4843447           | 0.4210454           | False               |\n",
       "| Lords and Ladies    | 1992                | 44.52               | False               | 0.4769963           | 0.4187111           | False               |\n",
       "| Men at Arms         | 1993                | 45.54               | False               | 0.4749909           | 0.4149310           | False               |\n",
       "| Soul Music          | 1994                | 46.06               | False               | 0.4758782           | 0.4162852           | False               |\n",
       "| Interesting Times   | 1994                | 46.52               | False               | 0.4782784           | 0.4190672           | False               |\n",
       "| Maskerade           | 1995                | 47.52               | False               | 0.4765079           | 0.4213541           | False               |\n",
       "| Feet of Clay        | 1996                | 48.08               | False               | 0.4686431           | 0.4131936           | False               |\n",
       "| Hogfather           | 1996                | 48.51               | False               | 0.4726027           | 0.4128011           | False               |\n",
       "| Jingo               | 1997                | 49.53               | False               | 0.4796332           | 0.4224427           | False               |\n",
       "| The Last Continent  | 1998                | 50.01               | False               | 0.4832143           | 0.4210362           | False               |\n",
       "| Carpe Jugulum       | 1998                | 50.52               | False               | 0.4838771           | 0.4235338           | False               |\n",
       "| The Fifth Elephant  | 1999                | 51.52               | False               | 0.4827825           | 0.4272658           | False               |\n",
       "| The Truth           | 2000                | 52.52               | False               | 0.4735015           | 0.4104510           | True                |\n",
       "| Thief of Time       | 2001                | 53.01               | False               | 0.4738934           | 0.4116913           | False               |\n",
       "| The Last Hero       | 2001                | 53.47               | False               | 0.4757464           | 0.4124668           | True                |\n",
       "| Night Watch         | 2002                | 54.53               | False               | 0.4795305           | 0.4164564           | False               |\n",
       "| Monstrous Regiment  | 2003                | 55.43               | False               | 0.4831568           | 0.4204845           | True                |\n",
       "| Going Postal        | 2004                | 56.43               | False               | 0.4773863           | 0.4111641           | True                |\n",
       "| Thud!               | 2005                | 57.41               | False               | 0.4783798           | 0.4144242           | False               |\n",
       "| Making Money        | 2007                | 59.41               | False               | 0.4801262           | 0.4171418           | False               |\n",
       "| Unseen Academicals  | 2009                | 61.45               | False               | 0.4836945           | 0.4104170           | True                |\n",
       "| Snuff               | 2011                | 63.46               | False               | 0.4885433           | 0.4063744           | False               |\n",
       "| Raising Steam       | 2013                | 65.49               | False               | 0.4874784           | 0.4158717           | False               |\n",
       "\n"
      ],
      "text/plain": [
       "   title               year_of_publication age_at_publication YA   \n",
       "1  The Color Of Magic  1983                35.58              False\n",
       "2  The Light Fantastic 1986                38.10              False\n",
       "3  Equal Rites         1987                38.72              False\n",
       "4  Mort                1987                39.51              False\n",
       "5  Sourcery            1988                40.08              False\n",
       "6  Wyrd Sisters        1988                40.54              False\n",
       "7  Pyramids            1989                41.13              False\n",
       "8  Guards! Guards!     1989                41.53              False\n",
       "9  Eric                1990                42.30              False\n",
       "10 Moving Pictures     1990                42.51              False\n",
       "11 Reaper Man          1991                43.07              False\n",
       "12 Witches Abroad      1991                43.53              False\n",
       "13 Small Gods          1992                44.06              False\n",
       "14 Lords and Ladies    1992                44.52              False\n",
       "15 Men at Arms         1993                45.54              False\n",
       "16 Soul Music          1994                46.06              False\n",
       "17 Interesting Times   1994                46.52              False\n",
       "18 Maskerade           1995                47.52              False\n",
       "19 Feet of Clay        1996                48.08              False\n",
       "20 Hogfather           1996                48.51              False\n",
       "21 Jingo               1997                49.53              False\n",
       "22 The Last Continent  1998                50.01              False\n",
       "23 Carpe Jugulum       1998                50.52              False\n",
       "24 The Fifth Elephant  1999                51.52              False\n",
       "25 The Truth           2000                52.52              False\n",
       "26 Thief of Time       2001                53.01              False\n",
       "27 The Last Hero       2001                53.47              False\n",
       "28 Night Watch         2002                54.53              False\n",
       "29 Monstrous Regiment  2003                55.43              False\n",
       "30 Going Postal        2004                56.43              False\n",
       "31 Thud!               2005                57.41              False\n",
       "32 Making Money        2007                59.41              False\n",
       "33 Unseen Academicals  2009                61.45              False\n",
       "34 Snuff               2011                63.46              False\n",
       "35 Raising Steam       2013                65.49              False\n",
       "   propositional_idea_density mean_propositional_rep_idea_density_100p\n",
       "1  0.5111897                  0.4592834                               \n",
       "2  0.4954551                  0.4349658                               \n",
       "3  0.4939956                  0.4344293                               \n",
       "4  0.4986607                  0.4412229                               \n",
       "5  0.5017615                  0.4453618                               \n",
       "6  0.4924516                  0.4314733                               \n",
       "7  0.4967409                  0.4337458                               \n",
       "8  0.4868302                  0.4254707                               \n",
       "9  0.4865470                  0.4213794                               \n",
       "10 0.4794307                  0.4171827                               \n",
       "11 0.4774417                  0.4226952                               \n",
       "12 0.4847644                  0.4175379                               \n",
       "13 0.4843447                  0.4210454                               \n",
       "14 0.4769963                  0.4187111                               \n",
       "15 0.4749909                  0.4149310                               \n",
       "16 0.4758782                  0.4162852                               \n",
       "17 0.4782784                  0.4190672                               \n",
       "18 0.4765079                  0.4213541                               \n",
       "19 0.4686431                  0.4131936                               \n",
       "20 0.4726027                  0.4128011                               \n",
       "21 0.4796332                  0.4224427                               \n",
       "22 0.4832143                  0.4210362                               \n",
       "23 0.4838771                  0.4235338                               \n",
       "24 0.4827825                  0.4272658                               \n",
       "25 0.4735015                  0.4104510                               \n",
       "26 0.4738934                  0.4116913                               \n",
       "27 0.4757464                  0.4124668                               \n",
       "28 0.4795305                  0.4164564                               \n",
       "29 0.4831568                  0.4204845                               \n",
       "30 0.4773863                  0.4111641                               \n",
       "31 0.4783798                  0.4144242                               \n",
       "32 0.4801262                  0.4171418                               \n",
       "33 0.4836945                  0.4104170                               \n",
       "34 0.4885433                  0.4063744                               \n",
       "35 0.4874784                  0.4158717                               \n",
       "   DEPIDR_sig_internalvar\n",
       "1  False                 \n",
       "2  False                 \n",
       "3  False                 \n",
       "4  False                 \n",
       "5  False                 \n",
       "6  False                 \n",
       "7  False                 \n",
       "8  False                 \n",
       "9  False                 \n",
       "10 False                 \n",
       "11 False                 \n",
       "12 False                 \n",
       "13 False                 \n",
       "14 False                 \n",
       "15 False                 \n",
       "16 False                 \n",
       "17 False                 \n",
       "18 False                 \n",
       "19 False                 \n",
       "20 False                 \n",
       "21 False                 \n",
       "22 False                 \n",
       "23 False                 \n",
       "24 False                 \n",
       "25 True                  \n",
       "26 False                 \n",
       "27 True                  \n",
       "28 False                 \n",
       "29 True                  \n",
       "30 True                  \n",
       "31 False                 \n",
       "32 False                 \n",
       "33 True                  \n",
       "34 False                 \n",
       "35 False                 "
      ]
     },
     "metadata": {},
     "output_type": "display_data"
    }
   ],
   "source": [
    "df <- read.csv('propositional_ID_df.csv', sep=',')\n",
    "df"
   ]
  },
  {
   "cell_type": "code",
   "execution_count": 3,
   "id": "470965ca",
   "metadata": {},
   "outputs": [
    {
     "data": {
      "text/plain": [
       "\n",
       "Call:\n",
       "lm(formula = age_at_publication ~ scale(propositional_idea_density) + \n",
       "    scale(mean_propositional_rep_idea_density_100p), data = df)\n",
       "\n",
       "Residuals:\n",
       "    Min      1Q  Median      3Q     Max \n",
       "-8.9906 -3.8632 -0.1382  3.4743 10.2289 \n",
       "\n",
       "Coefficients:\n",
       "                                                Estimate Std. Error t value\n",
       "(Intercept)                                      48.3314     0.8415  57.433\n",
       "scale(propositional_idea_density)                 4.5600     1.6667   2.736\n",
       "scale(mean_propositional_rep_idea_density_100p)  -9.3299     1.6667  -5.598\n",
       "                                                Pr(>|t|)    \n",
       "(Intercept)                                      < 2e-16 ***\n",
       "scale(propositional_idea_density)                 0.0101 *  \n",
       "scale(mean_propositional_rep_idea_density_100p) 3.49e-06 ***\n",
       "---\n",
       "Signif. codes:  0 '***' 0.001 '**' 0.01 '*' 0.05 '.' 0.1 ' ' 1\n",
       "\n",
       "Residual standard error: 4.979 on 32 degrees of freedom\n",
       "Multiple R-squared:  0.5984,\tAdjusted R-squared:  0.5733 \n",
       "F-statistic: 23.84 on 2 and 32 DF,  p-value: 4.572e-07\n"
      ]
     },
     "metadata": {},
     "output_type": "display_data"
    }
   ],
   "source": [
    "m = lm(age_at_publication~scale(propositional_idea_density) + scale(mean_propositional_rep_idea_density_100p), data=df)\n",
    "summary(m)"
   ]
  },
  {
   "cell_type": "code",
   "execution_count": 13,
   "id": "f0d9173b",
   "metadata": {},
   "outputs": [
    {
     "data": {
      "text/html": [
       "<table>\n",
       "<thead><tr><th></th><th scope=col>Sum Sq</th><th scope=col>Df</th><th scope=col>F value</th><th scope=col>Pr(&gt;F)</th></tr></thead>\n",
       "<tbody>\n",
       "\t<tr><th scope=row>scale(propositional_idea_density)</th><td>185.5392    </td><td> 1          </td><td> 7.485619   </td><td>1.006141e-02</td></tr>\n",
       "\t<tr><th scope=row>scale(mean_propositional_rep_idea_density_100p)</th><td>776.6921    </td><td> 1          </td><td>31.335814   </td><td>3.487827e-06</td></tr>\n",
       "\t<tr><th scope=row>Residuals</th><td>793.1547    </td><td>32          </td><td>       NA   </td><td>          NA</td></tr>\n",
       "</tbody>\n",
       "</table>\n"
      ],
      "text/latex": [
       "\\begin{tabular}{r|llll}\n",
       "  & Sum Sq & Df & F value & Pr(>F)\\\\\n",
       "\\hline\n",
       "\tscale(propositional\\_idea\\_density) & 185.5392     &  1           &  7.485619    & 1.006141e-02\\\\\n",
       "\tscale(mean\\_propositional\\_rep\\_idea\\_density\\_100p) & 776.6921     &  1           & 31.335814    & 3.487827e-06\\\\\n",
       "\tResiduals & 793.1547     & 32           &        NA    &           NA\\\\\n",
       "\\end{tabular}\n"
      ],
      "text/markdown": [
       "\n",
       "| <!--/--> | Sum Sq | Df | F value | Pr(>F) |\n",
       "|---|---|---|---|---|\n",
       "| scale(propositional_idea_density) | 185.5392     |  1           |  7.485619    | 1.006141e-02 |\n",
       "| scale(mean_propositional_rep_idea_density_100p) | 776.6921     |  1           | 31.335814    | 3.487827e-06 |\n",
       "| Residuals | 793.1547     | 32           |        NA    |           NA |\n",
       "\n"
      ],
      "text/plain": [
       "                                                Sum Sq   Df F value  \n",
       "scale(propositional_idea_density)               185.5392  1  7.485619\n",
       "scale(mean_propositional_rep_idea_density_100p) 776.6921  1 31.335814\n",
       "Residuals                                       793.1547 32        NA\n",
       "                                                Pr(>F)      \n",
       "scale(propositional_idea_density)               1.006141e-02\n",
       "scale(mean_propositional_rep_idea_density_100p) 3.487827e-06\n",
       "Residuals                                                 NA"
      ]
     },
     "metadata": {},
     "output_type": "display_data"
    }
   ],
   "source": [
    "Anova(m, test='F')"
   ]
  },
  {
   "cell_type": "markdown",
   "id": "1def12fb",
   "metadata": {},
   "source": [
    "# Correlation testing"
   ]
  },
  {
   "cell_type": "code",
   "execution_count": 7,
   "id": "23cd1275",
   "metadata": {},
   "outputs": [
    {
     "data": {
      "text/plain": [
       "\n",
       "\tKendall's rank correlation tau\n",
       "\n",
       "data:  df$age_at_publication and df$propositional_idea_density\n",
       "T = 206, p-value = 0.009033\n",
       "alternative hypothesis: true tau is not equal to 0\n",
       "sample estimates:\n",
       "      tau \n",
       "-0.307563 \n"
      ]
     },
     "metadata": {},
     "output_type": "display_data"
    },
    {
     "data": {
      "text/plain": [
       "\n",
       "\tKendall's rank correlation tau\n",
       "\n",
       "data:  df$age_at_publication and df$mean_propositional_rep_idea_density_100p\n",
       "T = 124, p-value = 1.539e-07\n",
       "alternative hypothesis: true tau is not equal to 0\n",
       "sample estimates:\n",
       "       tau \n",
       "-0.5831933 \n"
      ]
     },
     "metadata": {},
     "output_type": "display_data"
    }
   ],
   "source": [
    "cor.test(df$age_at_publication, df$propositional_idea_density, method=\"kendall\")\n",
    "cor.test(df$age_at_publication, df$mean_propositional_rep_idea_density_100p, method=\"kendall\")"
   ]
  },
  {
   "cell_type": "code",
   "execution_count": 10,
   "id": "08f49786",
   "metadata": {},
   "outputs": [
    {
     "data": {
      "text/plain": [
       "\n",
       "\tKendall's rank correlation tau\n",
       "\n",
       "data:  no_sig_var$age_at_publication and no_sig_var$mean_propositional_rep_idea_density_100p\n",
       "T = 96, p-value = 4.98e-06\n",
       "alternative hypothesis: true tau is not equal to 0\n",
       "sample estimates:\n",
       "       tau \n",
       "-0.5586207 \n"
      ]
     },
     "metadata": {},
     "output_type": "display_data"
    }
   ],
   "source": [
    "no_sig_var = df[df$DEPIDR_sig_internalvar == 'False',]\n",
    "cor.test(no_sig_var$age_at_publication, no_sig_var$mean_propositional_rep_idea_density_100p, method=\"kendall\")"
   ]
  }
 ],
 "metadata": {
  "kernelspec": {
   "display_name": "R",
   "language": "R",
   "name": "ir"
  },
  "language_info": {
   "codemirror_mode": "r",
   "file_extension": ".r",
   "mimetype": "text/x-r-source",
   "name": "R",
   "pygments_lexer": "r",
   "version": "3.6.1"
  }
 },
 "nbformat": 4,
 "nbformat_minor": 5
}
