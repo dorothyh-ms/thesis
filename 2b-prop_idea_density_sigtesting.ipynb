{
 "cells": [
  {
   "cell_type": "markdown",
   "id": "9915c6ff",
   "metadata": {},
   "source": [
    "# II. Propositional Idea Density "
   ]
  },
  {
   "cell_type": "code",
   "execution_count": 11,
   "id": "8765df5b",
   "metadata": {},
   "outputs": [],
   "source": [
    "library(lme4) # necessary for model fitting: glmer\n",
    "library(car) # necessary for significance testing: Anova\n",
    "library(effects) # necessary for making effect plots\n",
    "library(blmeco) # necessary for dispersion test for mixed effects models"
   ]
  },
  {
   "cell_type": "code",
   "execution_count": 1,
   "id": "c9b505ca",
   "metadata": {},
   "outputs": [
    {
     "data": {
      "text/html": [
       "<table>\n",
       "<thead><tr><th scope=col>title</th><th scope=col>year_of_publication</th><th scope=col>age_at_publication</th><th scope=col>YA</th><th scope=col>propositional_idea_density</th><th scope=col>mean_propositional_rep_idea_density_100p</th><th scope=col>DEPIDR_sig_internalvar</th></tr></thead>\n",
       "<tbody>\n",
       "\t<tr><td>The Color Of Magic </td><td>1983               </td><td>35.58              </td><td>False              </td><td>0.5111897          </td><td>0.4592834          </td><td>False              </td></tr>\n",
       "\t<tr><td>The Light Fantastic</td><td>1986               </td><td>38.10              </td><td>False              </td><td>0.4954551          </td><td>0.4349658          </td><td>False              </td></tr>\n",
       "\t<tr><td>Equal Rites        </td><td>1987               </td><td>38.72              </td><td>False              </td><td>0.4939956          </td><td>0.4344293          </td><td>False              </td></tr>\n",
       "\t<tr><td>Mort               </td><td>1987               </td><td>39.51              </td><td>False              </td><td>0.4986607          </td><td>0.4412229          </td><td>False              </td></tr>\n",
       "\t<tr><td>Sourcery           </td><td>1988               </td><td>40.08              </td><td>False              </td><td>0.5017615          </td><td>0.4453618          </td><td>False              </td></tr>\n",
       "\t<tr><td>Wyrd Sisters       </td><td>1988               </td><td>40.54              </td><td>False              </td><td>0.4924516          </td><td>0.4314733          </td><td>False              </td></tr>\n",
       "</tbody>\n",
       "</table>\n"
      ],
      "text/latex": [
       "\\begin{tabular}{r|lllllll}\n",
       " title & year\\_of\\_publication & age\\_at\\_publication & YA & propositional\\_idea\\_density & mean\\_propositional\\_rep\\_idea\\_density\\_100p & DEPIDR\\_sig\\_internalvar\\\\\n",
       "\\hline\n",
       "\t The Color Of Magic  & 1983                & 35.58               & False               & 0.5111897           & 0.4592834           & False              \\\\\n",
       "\t The Light Fantastic & 1986                & 38.10               & False               & 0.4954551           & 0.4349658           & False              \\\\\n",
       "\t Equal Rites         & 1987                & 38.72               & False               & 0.4939956           & 0.4344293           & False              \\\\\n",
       "\t Mort                & 1987                & 39.51               & False               & 0.4986607           & 0.4412229           & False              \\\\\n",
       "\t Sourcery            & 1988                & 40.08               & False               & 0.5017615           & 0.4453618           & False              \\\\\n",
       "\t Wyrd Sisters        & 1988                & 40.54               & False               & 0.4924516           & 0.4314733           & False              \\\\\n",
       "\\end{tabular}\n"
      ],
      "text/markdown": [
       "\n",
       "| title | year_of_publication | age_at_publication | YA | propositional_idea_density | mean_propositional_rep_idea_density_100p | DEPIDR_sig_internalvar |\n",
       "|---|---|---|---|---|---|---|\n",
       "| The Color Of Magic  | 1983                | 35.58               | False               | 0.5111897           | 0.4592834           | False               |\n",
       "| The Light Fantastic | 1986                | 38.10               | False               | 0.4954551           | 0.4349658           | False               |\n",
       "| Equal Rites         | 1987                | 38.72               | False               | 0.4939956           | 0.4344293           | False               |\n",
       "| Mort                | 1987                | 39.51               | False               | 0.4986607           | 0.4412229           | False               |\n",
       "| Sourcery            | 1988                | 40.08               | False               | 0.5017615           | 0.4453618           | False               |\n",
       "| Wyrd Sisters        | 1988                | 40.54               | False               | 0.4924516           | 0.4314733           | False               |\n",
       "\n"
      ],
      "text/plain": [
       "  title               year_of_publication age_at_publication YA   \n",
       "1 The Color Of Magic  1983                35.58              False\n",
       "2 The Light Fantastic 1986                38.10              False\n",
       "3 Equal Rites         1987                38.72              False\n",
       "4 Mort                1987                39.51              False\n",
       "5 Sourcery            1988                40.08              False\n",
       "6 Wyrd Sisters        1988                40.54              False\n",
       "  propositional_idea_density mean_propositional_rep_idea_density_100p\n",
       "1 0.5111897                  0.4592834                               \n",
       "2 0.4954551                  0.4349658                               \n",
       "3 0.4939956                  0.4344293                               \n",
       "4 0.4986607                  0.4412229                               \n",
       "5 0.5017615                  0.4453618                               \n",
       "6 0.4924516                  0.4314733                               \n",
       "  DEPIDR_sig_internalvar\n",
       "1 False                 \n",
       "2 False                 \n",
       "3 False                 \n",
       "4 False                 \n",
       "5 False                 \n",
       "6 False                 "
      ]
     },
     "metadata": {},
     "output_type": "display_data"
    }
   ],
   "source": [
    "df <- read.csv('propositional_ID_df.csv', sep=',')\n",
    "head(df)"
   ]
  },
  {
   "cell_type": "markdown",
   "id": "e48397f5",
   "metadata": {},
   "source": [
    "## 1. Multivariate Linear Regression"
   ]
  },
  {
   "cell_type": "code",
   "execution_count": 3,
   "id": "470965ca",
   "metadata": {},
   "outputs": [
    {
     "data": {
      "text/plain": [
       "\n",
       "Call:\n",
       "lm(formula = age_at_publication ~ scale(propositional_idea_density) + \n",
       "    scale(mean_propositional_rep_idea_density_100p), data = df)\n",
       "\n",
       "Residuals:\n",
       "    Min      1Q  Median      3Q     Max \n",
       "-8.9906 -3.8632 -0.1382  3.4743 10.2289 \n",
       "\n",
       "Coefficients:\n",
       "                                                Estimate Std. Error t value\n",
       "(Intercept)                                      48.3314     0.8415  57.433\n",
       "scale(propositional_idea_density)                 4.5600     1.6667   2.736\n",
       "scale(mean_propositional_rep_idea_density_100p)  -9.3299     1.6667  -5.598\n",
       "                                                Pr(>|t|)    \n",
       "(Intercept)                                      < 2e-16 ***\n",
       "scale(propositional_idea_density)                 0.0101 *  \n",
       "scale(mean_propositional_rep_idea_density_100p) 3.49e-06 ***\n",
       "---\n",
       "Signif. codes:  0 '***' 0.001 '**' 0.01 '*' 0.05 '.' 0.1 ' ' 1\n",
       "\n",
       "Residual standard error: 4.979 on 32 degrees of freedom\n",
       "Multiple R-squared:  0.5984,\tAdjusted R-squared:  0.5733 \n",
       "F-statistic: 23.84 on 2 and 32 DF,  p-value: 4.572e-07\n"
      ]
     },
     "metadata": {},
     "output_type": "display_data"
    }
   ],
   "source": [
    "m = lm(age_at_publication~scale(propositional_idea_density) + scale(mean_propositional_rep_idea_density_100p), data=df)\n",
    "summary(m)"
   ]
  },
  {
   "cell_type": "code",
   "execution_count": 13,
   "id": "f0d9173b",
   "metadata": {},
   "outputs": [
    {
     "data": {
      "text/html": [
       "<table>\n",
       "<thead><tr><th></th><th scope=col>Sum Sq</th><th scope=col>Df</th><th scope=col>F value</th><th scope=col>Pr(&gt;F)</th></tr></thead>\n",
       "<tbody>\n",
       "\t<tr><th scope=row>scale(propositional_idea_density)</th><td>185.5392    </td><td> 1          </td><td> 7.485619   </td><td>1.006141e-02</td></tr>\n",
       "\t<tr><th scope=row>scale(mean_propositional_rep_idea_density_100p)</th><td>776.6921    </td><td> 1          </td><td>31.335814   </td><td>3.487827e-06</td></tr>\n",
       "\t<tr><th scope=row>Residuals</th><td>793.1547    </td><td>32          </td><td>       NA   </td><td>          NA</td></tr>\n",
       "</tbody>\n",
       "</table>\n"
      ],
      "text/latex": [
       "\\begin{tabular}{r|llll}\n",
       "  & Sum Sq & Df & F value & Pr(>F)\\\\\n",
       "\\hline\n",
       "\tscale(propositional\\_idea\\_density) & 185.5392     &  1           &  7.485619    & 1.006141e-02\\\\\n",
       "\tscale(mean\\_propositional\\_rep\\_idea\\_density\\_100p) & 776.6921     &  1           & 31.335814    & 3.487827e-06\\\\\n",
       "\tResiduals & 793.1547     & 32           &        NA    &           NA\\\\\n",
       "\\end{tabular}\n"
      ],
      "text/markdown": [
       "\n",
       "| <!--/--> | Sum Sq | Df | F value | Pr(>F) |\n",
       "|---|---|---|---|---|\n",
       "| scale(propositional_idea_density) | 185.5392     |  1           |  7.485619    | 1.006141e-02 |\n",
       "| scale(mean_propositional_rep_idea_density_100p) | 776.6921     |  1           | 31.335814    | 3.487827e-06 |\n",
       "| Residuals | 793.1547     | 32           |        NA    |           NA |\n",
       "\n"
      ],
      "text/plain": [
       "                                                Sum Sq   Df F value  \n",
       "scale(propositional_idea_density)               185.5392  1  7.485619\n",
       "scale(mean_propositional_rep_idea_density_100p) 776.6921  1 31.335814\n",
       "Residuals                                       793.1547 32        NA\n",
       "                                                Pr(>F)      \n",
       "scale(propositional_idea_density)               1.006141e-02\n",
       "scale(mean_propositional_rep_idea_density_100p) 3.487827e-06\n",
       "Residuals                                                 NA"
      ]
     },
     "metadata": {},
     "output_type": "display_data"
    }
   ],
   "source": [
    "Anova(m, test='F')"
   ]
  },
  {
   "cell_type": "markdown",
   "id": "1def12fb",
   "metadata": {},
   "source": [
    "## 2. Correlation Testing"
   ]
  },
  {
   "cell_type": "code",
   "execution_count": 7,
   "id": "23cd1275",
   "metadata": {},
   "outputs": [
    {
     "data": {
      "text/plain": [
       "\n",
       "\tKendall's rank correlation tau\n",
       "\n",
       "data:  df$age_at_publication and df$propositional_idea_density\n",
       "T = 206, p-value = 0.009033\n",
       "alternative hypothesis: true tau is not equal to 0\n",
       "sample estimates:\n",
       "      tau \n",
       "-0.307563 \n"
      ]
     },
     "metadata": {},
     "output_type": "display_data"
    },
    {
     "data": {
      "text/plain": [
       "\n",
       "\tKendall's rank correlation tau\n",
       "\n",
       "data:  df$age_at_publication and df$mean_propositional_rep_idea_density_100p\n",
       "T = 124, p-value = 1.539e-07\n",
       "alternative hypothesis: true tau is not equal to 0\n",
       "sample estimates:\n",
       "       tau \n",
       "-0.5831933 \n"
      ]
     },
     "metadata": {},
     "output_type": "display_data"
    }
   ],
   "source": [
    "cor.test(df$age_at_publication, df$propositional_idea_density, method=\"kendall\")\n",
    "cor.test(df$age_at_publication, df$mean_propositional_rep_idea_density_100p, method=\"kendall\")"
   ]
  }
 ],
 "metadata": {
  "kernelspec": {
   "display_name": "R",
   "language": "R",
   "name": "ir"
  },
  "language_info": {
   "codemirror_mode": "r",
   "file_extension": ".r",
   "mimetype": "text/x-r-source",
   "name": "R",
   "pygments_lexer": "r",
   "version": "3.6.1"
  }
 },
 "nbformat": 4,
 "nbformat_minor": 5
}
