{
 "cells": [
  {
   "cell_type": "code",
   "execution_count": 60,
   "id": "d8d40e78",
   "metadata": {},
   "outputs": [],
   "source": [
    "import argparse\n",
    "import os\n",
    "import glob\n",
    "import sys\n",
    "import lxml.etree\n",
    "from tqdm import tqdm\n",
    "import spacy\n",
    "import pandas as pd\n",
    "import numpy as np\n",
    "from depid.utils import safe_division\n",
    "import matplotlib.pyplot as plt\n",
    "from depid.pid import Depid\n",
    "os.environ['KMP_DUPLICATE_LIB_OK']='True'\n",
    "plt.style.use('ggplot')"
   ]
  },
  {
   "cell_type": "markdown",
   "id": "0b65b294",
   "metadata": {},
   "source": [
    "# I. Test"
   ]
  },
  {
   "cell_type": "code",
   "execution_count": 61,
   "id": "71ace1b7",
   "metadata": {},
   "outputs": [
    {
     "data": {
      "text/plain": [
       "'Fourscore and seven years ago our fathers brought forth, on this continent, a new nation, conceived in liberty, and dedicated to the proposition that all men are created equal. Now we are engaged in a great civil war, testing whether that nation, or any nation so conceived, and so dedicated, can long endure. We are met on a great battle-field of that war. We have come to dedicate a portion of that field, as a final resting-place for those who here gave their lives, that that nation might live. It is altogether fitting and proper that we should do this. But, in a larger sense, we cannot dedicate, we cannot consecrate—we cannot hallow—this ground. The brave men, living and dead, who struggled here, have consecrated it far above our poor power to add or detract. The world will little note, nor long remember what we say here, but it can never forget what they did here. It is for us the living, rather, to be dedicated here to the unfinished work which they who fought here have thus far so nobly advanced. It is rather for us to be here dedicated to the great task remaining before us—that from these honored dead we take increased devotion to that cause for which they here gave the last full measure of devotion—that we here highly resolve that these dead shall not have died in vain—that this nation, under God, shall have a new birth of freedom, and that government of the people, by the people, for the people, shall not perish from the earth.'"
      ]
     },
     "execution_count": 61,
     "metadata": {},
     "output_type": "execute_result"
    }
   ],
   "source": [
    "# Gettysburg Address\n",
    "p = 'Fourscore and seven years ago our fathers brought forth, on this continent, a new nation, conceived in liberty, and dedicated to the proposition that all men are created equal. Now we are engaged in a great civil war, testing whether that nation, or any nation so conceived, and so dedicated, can long endure. We are met on a great battle-field of that war. We have come to dedicate a portion of that field, as a final resting-place for those who here gave their lives, that that nation might live. It is altogether fitting and proper that we should do this. But, in a larger sense, we cannot dedicate, we cannot consecrate—we cannot hallow—this ground. The brave men, living and dead, who struggled here, have consecrated it far above our poor power to add or detract. The world will little note, nor long remember what we say here, but it can never forget what they did here. It is for us the living, rather, to be dedicated here to the unfinished work which they who fought here have thus far so nobly advanced. It is rather for us to be here dedicated to the great task remaining before us—that from these honored dead we take increased devotion to that cause for which they here gave the last full measure of devotion—that we here highly resolve that these dead shall not have died in vain—that this nation, under God, shall have a new birth of freedom, and that government of the people, by the people, for the people, shall not perish from the earth.'\n",
    "p"
   ]
  },
  {
   "cell_type": "code",
   "execution_count": 62,
   "id": "b5ccfb60",
   "metadata": {},
   "outputs": [],
   "source": [
    "description = \"\"\"\n",
    "Compute PID score by counting dependency types.\n",
    "\"\"\"\n",
    "parser = argparse.ArgumentParser(description=description)\n",
    "parser.add_argument('-F', '--folder', help='Input folder containing text files')\n",
    "parser.add_argument('-f', '--file', help='Single input file')\n",
    "parser.add_argument('-O', '--output', help=\"\"\"Write propositions report files into this folder. \n",
    "                        If not given then creates a new 'output' folder in the current working directory\"\"\")\n",
    "parser.add_argument('-C', '--conj', action='store_true',\n",
    "                        help=\"\"\"\n",
    "                        Count also conjunctions as propositions. This has the side effect of counting \n",
    "                        as propositions the sentence-initial conjunction words that serve as lexical fillers. \n",
    "                        \"\"\")\n",
    "args = parser.parse_args()"
   ]
  },
  {
   "cell_type": "code",
   "execution_count": 63,
   "id": "e1c043d6",
   "metadata": {},
   "outputs": [
    {
     "name": "stdout",
     "output_type": "stream",
     "text": [
      "1\tFourscore\tfourscore\tNOUN\t1\tROOT\tT\t\t\n",
      "2\tand\tand\tCCONJ\t1\tcc\tT\t\t\n",
      "3\tseven\tseven\tNUM\t4\tnummod\tT\tnummod: seven year\tR\n",
      "4\tyears\tyear\tNOUN\t5\tnpadvmod\tT\tnpadvmod: year ago\tR\n",
      "5\tago\tago\tADV\t8\tadvmod\tT\tadvmod: ago bring\tR\n",
      "6\tour\tour\tPRON\t7\tposs\tT\tposs: our father\tR\n",
      "7\tfathers\tfather\tNOUN\t8\tnsubj\tT\tnsubj: father bring\tR\n",
      "8\tbrought\tbring\tVERB\t1\tconj\tT\t\t\n",
      "9\tforth\tforth\tADV\t8\tadvmod\tT\tadvmod: forth bring\tR\n",
      "10\t,\t,\tPUNCT\t8\tpunct\t\t\t\n",
      "11\ton\ton\tADP\t8\tprep\tT\tprep: on bring\tR\n",
      "12\tthis\tthis\tDET\t13\tdet\tT\tdet: this continent\tR\n",
      "13\tcontinent\tcontinent\tNOUN\t11\tpobj\tT\tpobj: continent on\tR\n",
      "14\t,\t,\tPUNCT\t11\tpunct\t\t\t\n",
      "15\ta\ta\tDET\t17\tdet\tT\t\t\n",
      "16\tnew\tnew\tADJ\t17\tamod\tT\tamod: new nation\tR\n",
      "17\tnation\tnation\tNOUN\t11\tpobj\tT\tpobj: nation on\tR\n",
      "18\t,\t,\tPUNCT\t17\tpunct\t\t\t\n",
      "19\tconceived\tconceive\tVERB\t17\tacl\tT\t\t\n",
      "20\tin\tin\tADP\t19\tprep\tT\tprep: in conceive\tR\n",
      "21\tliberty\tliberty\tNOUN\t20\tpobj\tT\tpobj: liberty in\tR\n",
      "22\t,\t,\tPUNCT\t19\tpunct\t\t\t\n",
      "23\tand\tand\tCCONJ\t19\tcc\tT\t\t\n",
      "24\tdedicated\tdedicate\tVERB\t19\tconj\tT\t\t\n",
      "25\tto\tto\tADP\t24\tprep\tT\tprep: to dedicate\tR\n",
      "26\tthe\tthe\tDET\t27\tdet\tT\t\t\n",
      "27\tproposition\tproposition\tNOUN\t25\tpobj\tT\tpobj: proposition to\tR\n",
      "28\tthat\tthat\tDET\t32\tmark\tT\t\t\n",
      "29\tall\tall\tDET\t30\tdet\tT\tdet: all man\tR\n",
      "30\tmen\tman\tNOUN\t32\tnsubjpass\tT\tnsubjpass: man create\tR\n",
      "31\tare\tbe\tAUX\t32\tauxpass\tT\t\t\n",
      "32\tcreated\tcreate\tVERB\t27\trelcl\tT\t\t\n",
      "33\tequal\tequal\tADJ\t32\toprd\tT\t\t\n",
      "34\t.\t.\tPUNCT\t8\tpunct\t\t\t\n",
      "1\tNow\tnow\tADV\t4\tadvmod\tT\tadvmod: now engage\tR\n",
      "2\twe\twe\tPRON\t4\tnsubjpass\tT\tnsubjpass: we engage\tR\n",
      "3\tare\tbe\tAUX\t4\tauxpass\tT\t\t\n",
      "4\tengaged\tengage\tVERB\t4\tROOT\tT\t\t\n",
      "5\tin\tin\tADP\t4\tprep\tT\tprep: in engage\tR\n",
      "6\ta\ta\tDET\t9\tdet\tT\t\t\n",
      "7\tgreat\tgreat\tADJ\t9\tamod\tT\tamod: great war\tR\n",
      "8\tcivil\tcivil\tADJ\t9\tamod\tT\tamod: civil war\tR\n",
      "9\twar\twar\tNOUN\t5\tpobj\tT\tpobj: war in\tR\n",
      "10\t,\t,\tPUNCT\t4\tpunct\t\t\t\n",
      "11\ttesting\ttest\tVERB\t4\tadvcl\tT\tadvcl: test engage\tR\n",
      "12\twhether\twhether\tSCONJ\t20\tmark\tT\t\t\n",
      "13\tthat\tthat\tDET\t14\tdet\tT\tdet: that nation\tR\n",
      "14\tnation\tnation\tNOUN\t20\tnsubj\tT\tnsubj: nation conceived\tR\n",
      "15\t,\t,\tPUNCT\t14\tpunct\t\t\t\n",
      "16\tor\tor\tCCONJ\t14\tcc\tT\t\t\n",
      "17\tany\tany\tDET\t18\tdet\tT\tdet: any nation\tR\n",
      "18\tnation\tnation\tNOUN\t14\tconj\tT\t\t\n",
      "19\tso\tso\tADV\t20\tadvmod\tT\tadvmod: so conceived\tR\n",
      "20\tconceived\tconceived\tADJ\t11\tccomp\tT\t\t\n",
      "21\t,\t,\tPUNCT\t20\tpunct\t\t\t\n",
      "22\tand\tand\tCCONJ\t20\tcc\tT\t\t\n",
      "23\tso\tso\tADV\t24\tadvmod\tT\tadvmod: so dedicated\tR\n",
      "24\tdedicated\tdedicated\tADJ\t20\tconj\tT\t\t\n",
      "25\t,\t,\tPUNCT\t28\tpunct\t\t\t\n",
      "26\tcan\tcan\tAUX\t28\taux\tT\t\t\n",
      "27\tlong\tlong\tADV\t28\tadvmod\tT\tadvmod: long endure\tR\n",
      "28\tendure\tendure\tVERB\t11\tccomp\tT\t\t\n",
      "29\t.\t.\tPUNCT\t4\tpunct\t\t\t\n",
      "1\tWe\twe\tPRON\t3\tnsubjpass\tT\tnsubjpass: we meet\tR\n",
      "2\tare\tbe\tAUX\t3\tauxpass\tT\t\t\n",
      "3\tmet\tmeet\tVERB\t3\tROOT\tT\t\t\n",
      "4\ton\ton\tADP\t3\tprep\tT\tprep: on meet\tR\n",
      "5\ta\ta\tDET\t9\tdet\tT\t\t\n",
      "6\tgreat\tgreat\tADJ\t9\tamod\tT\tamod: great field\tR\n",
      "7\tbattle\tbattle\tNOUN\t9\tcompound\tT\t\t\n",
      "8\t-\t-\tPUNCT\t9\tpunct\t\t\t\n",
      "9\tfield\tfield\tNOUN\t4\tpobj\tT\tpobj: field on\tR\n",
      "10\tof\tof\tADP\t9\tprep\tT\tprep: of field\tR\n",
      "11\tthat\tthat\tDET\t12\tdet\tT\tdet: that war\tR\n",
      "12\twar\twar\tNOUN\t10\tpobj\tT\tpobj: war of\tR\n",
      "13\t.\t.\tPUNCT\t3\tpunct\t\t\t\n",
      "1\tWe\twe\tPRON\t3\tnsubj\tT\tnsubj: we come\tR\n",
      "2\thave\thave\tAUX\t3\taux\tT\t\t\n",
      "3\tcome\tcome\tVERB\t3\tROOT\tT\t\t\n",
      "4\tto\tto\tPART\t5\taux\tT\t\t\n",
      "5\tdedicate\tdedicate\tVERB\t3\tadvcl\tT\tadvcl: dedicate come\tR\n",
      "6\ta\ta\tDET\t7\tdet\tT\t\t\n",
      "7\tportion\tportion\tNOUN\t5\tdobj\tT\t\t\n",
      "8\tof\tof\tADP\t7\tprep\tT\tprep: of portion\tR\n",
      "9\tthat\tthat\tDET\t10\tdet\tT\tdet: that field\tR\n",
      "10\tfield\tfield\tNOUN\t8\tpobj\tT\tpobj: field of\tR\n",
      "11\t,\t,\tPUNCT\t5\tpunct\t\t\t\n",
      "12\tas\tas\tADP\t3\tprep\tT\tprep: as come\tR\n",
      "13\ta\ta\tDET\t17\tdet\tT\t\t\n",
      "14\tfinal\tfinal\tADJ\t17\tamod\tT\tamod: final place\tR\n",
      "15\tresting\tresting\tNOUN\t17\tcompound\tT\t\t\n",
      "16\t-\t-\tPUNCT\t17\tpunct\t\t\t\n",
      "17\tplace\tplace\tNOUN\t12\tpobj\tT\tpobj: place as\tR\n",
      "18\tfor\tfor\tADP\t17\tprep\tT\tprep: for place\tR\n",
      "19\tthose\tthose\tDET\t18\tpobj\tT\tpobj: those for\tR\n",
      "20\twho\twho\tPRON\t22\tnsubj\tT\tnsubj: who give\tR\n",
      "21\there\there\tADV\t22\tadvmod\tT\tadvmod: here give\tR\n",
      "22\tgave\tgive\tVERB\t19\trelcl\tT\t\t\n",
      "23\ttheir\ttheir\tPRON\t24\tposs\tT\tposs: their life\tR\n",
      "24\tlives\tlife\tNOUN\t22\tdobj\tT\t\t\n",
      "25\t,\t,\tPUNCT\t3\tpunct\t\t\t\n",
      "26\tthat\tthat\tSCONJ\t30\tmark\tT\t\t\n",
      "27\tthat\tthat\tDET\t28\tdet\tT\tdet: that nation\t\n",
      "28\tnation\tnation\tNOUN\t30\tnsubj\tT\tnsubj: nation live\tR\n",
      "29\tmight\tmight\tAUX\t30\taux\tT\t\t\n",
      "30\tlive\tlive\tVERB\t3\tadvcl\tT\tadvcl: live come\tR\n",
      "31\t.\t.\tPUNCT\t3\tpunct\t\t\t\n",
      "1\tIt\tit\tPRON\t2\tnsubj\tT\t\t\n",
      "2\tis\tbe\tAUX\t2\tROOT\tT\t\t\n",
      "3\taltogether\taltogether\tADV\t2\tadvmod\tT\tadvmod: altogether be\tR\n",
      "4\tfitting\tfitting\tADJ\t2\tacomp\tT\t\t\n",
      "5\tand\tand\tCCONJ\t4\tcc\tT\t\t\n",
      "6\tproper\tproper\tADJ\t4\tconj\tT\t\t\n",
      "7\tthat\tthat\tSCONJ\t10\tmark\tT\t\t\n",
      "8\twe\twe\tPRON\t10\tnsubj\tT\tnsubj: we do\tR\n",
      "9\tshould\tshould\tAUX\t10\taux\tT\t\t\n",
      "10\tdo\tdo\tVERB\t2\tccomp\tT\t\t\n",
      "11\tthis\tthis\tDET\t10\tdobj\tT\t\t\n",
      "12\t.\t.\tPUNCT\t2\tpunct\t\t\t\n",
      "1\tBut\tbut\tCCONJ\t11\tcc\tT\t\t\n",
      "2\t,\t,\tPUNCT\t11\tpunct\t\t\t\n",
      "3\tin\tin\tADP\t11\tprep\tT\tprep: in dedicate\tR\n",
      "4\ta\ta\tDET\t6\tdet\tT\t\t\n",
      "5\tlarger\tlarge\tADJ\t6\tamod\tT\tamod: large sense\tR\n",
      "6\tsense\tsense\tNOUN\t3\tpobj\tT\tpobj: sense in\tR\n",
      "7\t,\t,\tPUNCT\t11\tpunct\t\t\t\n",
      "8\twe\twe\tPRON\t11\tnsubj\tT\tnsubj: we dedicate\tR\n",
      "9\tcan\tcan\tAUX\t11\taux\tT\t\t\n",
      "10\tnot\tnot\tPART\t11\tneg\tT\tneg: not dedicate\tR\n",
      "11\tdedicate\tdedicate\tVERB\t16\tadvcl\tT\tadvcl: dedicate consecrate\tR\n",
      "12\t,\t,\tPUNCT\t16\tpunct\t\t\t\n",
      "13\twe\twe\tPRON\t16\tnsubj\tT\tnsubj: we consecrate\tR\n",
      "14\tcan\tcan\tAUX\t16\taux\tT\t\t\n",
      "15\tnot\tnot\tPART\t16\tneg\tT\tneg: not consecrate\tR\n",
      "16\tconsecrate\tconsecrate\tVERB\t21\tccomp\tT\t\t\n",
      "17\t—\t—\tPUNCT\t21\tpunct\t\t\t\n",
      "18\twe\twe\tPRON\t21\tnsubj\tT\tnsubj: we hallow\tR\n",
      "19\tcan\tcan\tAUX\t21\taux\tT\t\t\n",
      "20\tnot\tnot\tPART\t21\tneg\tT\tneg: not hallow\tR\n",
      "21\thallow\thallow\tVERB\t21\tROOT\tT\t\t\n",
      "22\t—\t—\tPUNCT\t21\tpunct\t\t\t\n",
      "23\tthis\tthis\tDET\t24\tdet\tT\tdet: this ground\tR\n",
      "24\tground\tground\tNOUN\t21\tnpadvmod\tT\tnpadvmod: ground hallow\tR\n",
      "25\t.\t.\tPUNCT\t21\tpunct\t\t\t\n",
      "1\tThe\tthe\tDET\t3\tdet\tT\t\t\n",
      "2\tbrave\tbrave\tADJ\t3\tamod\tT\tamod: brave man\tR\n",
      "3\tmen\tman\tNOUN\t14\tnsubj\tT\tnsubj: man consecrate\tR\n",
      "4\t,\t,\tPUNCT\t3\tpunct\t\t\t\n",
      "5\tliving\tliving\tNOUN\t3\tconj\tT\t\t\n",
      "6\tand\tand\tCCONJ\t5\tcc\tT\t\t\n",
      "7\tdead\tdead\tADJ\t5\tconj\tT\t\t\n",
      "8\t,\t,\tPUNCT\t3\tpunct\t\t\t\n",
      "9\twho\twho\tPRON\t10\tnsubj\tT\tnsubj: who struggle\tR\n",
      "10\tstruggled\tstruggle\tVERB\t3\trelcl\tT\t\t\n",
      "11\there\there\tADV\t10\tadvmod\tT\tadvmod: here struggle\tR\n",
      "12\t,\t,\tPUNCT\t14\tpunct\t\t\t\n",
      "13\thave\thave\tAUX\t14\taux\tT\t\t\n",
      "14\tconsecrated\tconsecrate\tVERB\t14\tROOT\tT\t\t\n",
      "15\tit\tit\tPRON\t14\tdobj\tT\t\t\n",
      "16\tfar\tfar\tADV\t17\tadvmod\tT\tadvmod: far above\tR\n",
      "17\tabove\tabove\tADP\t14\tprep\tT\tprep: above consecrate\tR\n",
      "18\tour\tour\tPRON\t20\tposs\tT\tposs: our power\tR\n",
      "19\tpoor\tpoor\tADJ\t20\tamod\tT\tamod: poor power\tR\n",
      "20\tpower\tpower\tNOUN\t17\tpobj\tT\tpobj: power above\tR\n",
      "21\tto\tto\tPART\t22\taux\tT\t\t\n",
      "22\tadd\tadd\tVERB\t14\tadvcl\tT\tadvcl: add consecrate\tR\n",
      "23\tor\tor\tCCONJ\t22\tcc\tT\t\t\n",
      "24\tdetract\tdetract\tNOUN\t22\tconj\tT\t\t\n",
      "25\t.\t.\tPUNCT\t14\tpunct\t\t\t\n",
      "1\tThe\tthe\tDET\t2\tdet\tT\t\t\n",
      "2\tworld\tworld\tNOUN\t5\tnsubj\tT\tnsubj: world note\tR\n",
      "3\twill\twill\tAUX\t5\taux\tT\t\t\n",
      "4\tlittle\tlittle\tADJ\t5\tamod\tT\tamod: little note\tR\n",
      "5\tnote\tnote\tVERB\t5\tROOT\tT\t\t\n",
      "6\t,\t,\tPUNCT\t5\tpunct\t\t\t\n",
      "7\tnor\tnor\tCCONJ\t5\tcc\tT\t\t\n",
      "8\tlong\tlong\tADV\t9\tadvmod\tT\tadvmod: long remember\tR\n",
      "9\tremember\tremember\tVERB\t5\tconj\tT\t\t\n",
      "10\twhat\twhat\tPRON\t12\tdobj\tT\t\t\n",
      "11\twe\twe\tPRON\t12\tnsubj\tT\tnsubj: we say\tR\n",
      "12\tsay\tsay\tVERB\t9\tccomp\tT\t\t\n",
      "13\there\there\tADV\t12\tadvmod\tT\tadvmod: here say\tR\n",
      "14\t,\t,\tPUNCT\t9\tpunct\t\t\t\n",
      "15\tbut\tbut\tCCONJ\t9\tcc\tT\t\t\n",
      "16\tit\tit\tPRON\t19\tnsubj\tT\t\t\n",
      "17\tcan\tcan\tAUX\t19\taux\tT\t\t\n",
      "18\tnever\tnever\tADV\t19\tneg\tT\tneg: never forget\tR\n",
      "19\tforget\tforget\tVERB\t9\tconj\tT\t\t\n",
      "20\twhat\twhat\tPRON\t22\tdobj\tT\t\t\n",
      "21\tthey\tthey\tPRON\t22\tnsubj\tT\tnsubj: they do\tR\n",
      "22\tdid\tdo\tVERB\t19\tccomp\tT\t\t\n",
      "23\there\there\tADV\t22\tadvmod\tT\tadvmod: here do\tR\n",
      "24\t.\t.\tPUNCT\t5\tpunct\t\t\t\n",
      "1\tIt\tit\tPRON\t2\tnsubj\tT\t\t\n",
      "2\tis\tbe\tAUX\t2\tROOT\tT\t\t\n",
      "3\tfor\tfor\tADP\t2\tprep\tT\tprep: for be\tR\n",
      "4\tus\twe\tPRON\t3\tpobj\tT\tpobj: we for\tR\n",
      "5\tthe\tthe\tDET\t6\tdet\tT\t\t\n",
      "6\tliving\tliving\tNOUN\t4\tappos\tT\tappos: living we\tR\n",
      "7\t,\t,\tPUNCT\t2\tpunct\t\t\t\n",
      "8\trather\trather\tADV\t12\tadvmod\tT\tadvmod: rather dedicate\tR\n",
      "9\t,\t,\tPUNCT\t12\tpunct\t\t\t\n",
      "10\tto\tto\tPART\t12\taux\tT\t\t\n",
      "11\tbe\tbe\tAUX\t12\tauxpass\tT\t\t\n",
      "12\tdedicated\tdedicate\tVERB\t2\tadvcl\tT\tadvcl: dedicate be\tR\n",
      "13\there\there\tADV\t12\tadvmod\tT\tadvmod: here dedicate\tR\n",
      "14\tto\tto\tADP\t12\tprep\tT\tprep: to dedicate\t\n",
      "15\tthe\tthe\tDET\t17\tdet\tT\t\t\n",
      "16\tunfinished\tunfinished\tADJ\t17\tamod\tT\tamod: unfinished work\tR\n",
      "17\twork\twork\tNOUN\t14\tpobj\tT\tpobj: work to\tR\n",
      "18\twhich\twhich\tDET\t23\tdobj\tT\t\t\n",
      "19\tthey\tthey\tPRON\t23\tnsubj\tT\tnsubj: they have\tR\n",
      "20\twho\twho\tPRON\t21\tnsubj\tT\tnsubj: who fight\tR\n",
      "21\tfought\tfight\tVERB\t19\trelcl\tT\t\t\n",
      "22\there\there\tADV\t21\tadvmod\tT\tadvmod: here fight\tR\n",
      "23\thave\thave\tAUX\t28\taux\tT\t\t\n",
      "24\tthus\tthus\tADV\t25\tadvmod\tT\tadvmod: thus far\tR\n",
      "25\tfar\tfar\tADV\t28\tadvmod\tT\tadvmod: far advanced\tR\n",
      "26\tso\tso\tADV\t27\tadvmod\tT\tadvmod: so nobly\tR\n",
      "27\tnobly\tnobly\tADV\t28\tadvmod\tT\tadvmod: nobly advanced\tR\n",
      "28\tadvanced\tadvanced\tADJ\t12\tadvcl\tT\tadvcl: advanced dedicate\tR\n",
      "29\t.\t.\tPUNCT\t2\tpunct\t\t\t\n",
      "1\tIt\tit\tPRON\t2\tnsubj\tT\t\t\n",
      "2\tis\tbe\tAUX\t2\tROOT\tT\t\t\n",
      "3\trather\trather\tADV\t2\tadvmod\tT\tadvmod: rather be\tR\n",
      "4\tfor\tfor\tADP\t7\tmark\tT\t\t\n",
      "5\tus\twe\tPRON\t7\tnsubj\tT\tnsubj: we be\tR\n",
      "6\tto\tto\tPART\t7\taux\tT\t\t\n",
      "7\tbe\tbe\tVERB\t2\tadvcl\tT\tadvcl: be be\tR\n",
      "8\there\there\tADV\t7\tadvmod\tT\tadvmod: here be\tR\n",
      "9\tdedicated\tdedicate\tVERB\t7\tacomp\tT\t\t\n",
      "10\tto\tto\tADP\t9\tprep\tT\tprep: to dedicate\t\n",
      "11\tthe\tthe\tDET\t13\tdet\tT\t\t\n",
      "12\tgreat\tgreat\tADJ\t13\tamod\tT\tamod: great task\tR\n",
      "13\ttask\ttask\tNOUN\t10\tpobj\tT\tpobj: task to\tR\n",
      "14\tremaining\tremain\tVERB\t13\tacl\tT\t\t\n",
      "15\tbefore\tbefore\tADP\t14\tprep\tT\tprep: before remain\tR\n",
      "16\tus\twe\tPRON\t15\tpobj\tT\tpobj: we before\tR\n",
      "17\t—\t—\tPUNCT\t7\tpunct\t\t\t\n",
      "18\tthat\tthat\tSCONJ\t24\tmark\tT\t\t\n",
      "19\tfrom\tfrom\tADP\t24\tprep\tT\tprep: from take\tR\n",
      "20\tthese\tthese\tDET\t22\tdet\tT\tdet: these dead\tR\n",
      "21\thonored\thonor\tVERB\t22\tamod\tT\tamod: honor dead\tR\n",
      "22\tdead\tdead\tADJ\t19\tpobj\tT\tpobj: dead from\tR\n",
      "23\twe\twe\tPRON\t24\tnsubj\tT\tnsubj: we take\tR\n",
      "24\ttake\ttake\tVERB\t2\tccomp\tT\t\t\n",
      "25\tincreased\tincrease\tVERB\t26\tamod\tT\tamod: increase devotion\tR\n",
      "26\tdevotion\tdevotion\tNOUN\t24\tdobj\tT\t\t\n",
      "27\tto\tto\tADP\t26\tprep\tT\tprep: to devotion\tR\n",
      "28\tthat\tthat\tDET\t29\tdet\tT\tdet: that cause\tR\n",
      "29\tcause\tcause\tNOUN\t27\tpobj\tT\tpobj: cause to\tR\n",
      "30\tfor\tfor\tADP\t34\tprep\tT\tprep: for give\tR\n",
      "31\twhich\twhich\tDET\t30\tpobj\tT\tpobj: which for\tR\n",
      "32\tthey\tthey\tPRON\t34\tnsubj\tT\tnsubj: they give\tR\n",
      "33\there\there\tADV\t34\tadvmod\tT\tadvmod: here give\t\n",
      "34\tgave\tgive\tVERB\t29\trelcl\tT\t\t\n",
      "35\tthe\tthe\tDET\t38\tdet\tT\t\t\n",
      "36\tlast\tlast\tADJ\t38\tamod\tT\tamod: last measure\tR\n",
      "37\tfull\tfull\tADJ\t38\tamod\tT\tamod: full measure\tR\n",
      "38\tmeasure\tmeasure\tNOUN\t34\tdobj\tT\t\t\n",
      "39\tof\tof\tADP\t38\tprep\tT\tprep: of measure\tR\n",
      "40\tdevotion\tdevotion\tNOUN\t39\tpobj\tT\tpobj: devotion of\tR\n",
      "41\t—\t—\tPUNCT\t24\tpunct\t\t\t\n",
      "42\tthat\tthat\tSCONJ\t46\tmark\tT\t\t\n",
      "43\twe\twe\tPRON\t46\tnsubj\tT\tnsubj: we resolve\tR\n",
      "44\there\there\tADV\t43\tadvmod\tT\tadvmod: here we\tR\n",
      "45\thighly\thighly\tADV\t46\tadvmod\tT\tadvmod: highly resolve\tR\n",
      "46\tresolve\tresolve\tVERB\t24\tconj\tT\t\t\n",
      "47\tthat\tthat\tSCONJ\t53\tmark\tT\t\t\n",
      "48\tthese\tthese\tDET\t49\tdet\tT\tdet: these dead\t\n",
      "49\tdead\tdead\tADJ\t53\tnsubj\tT\tnsubj: dead die\tR\n",
      "50\tshall\tshall\tAUX\t53\taux\tT\t\t\n",
      "51\tnot\tnot\tPART\t53\tneg\tT\tneg: not die\tR\n",
      "52\thave\thave\tAUX\t53\taux\tT\t\t\n",
      "53\tdied\tdie\tVERB\t46\tccomp\tT\t\t\n",
      "54\tin\tin\tADP\t53\tprep\tT\tprep: in die\tR\n",
      "55\tvain\tvain\tADJ\t54\tpobj\tT\tpobj: vain in\tR\n",
      "56\t—\t—\tPUNCT\t53\tpunct\t\t\t\n",
      "57\tthat\tthat\tSCONJ\t65\tmark\tT\t\t\n",
      "58\tthis\tthis\tDET\t59\tdet\tT\tdet: this nation\tR\n",
      "59\tnation\tnation\tNOUN\t65\tnsubj\tT\tnsubj: nation have\tR\n",
      "60\t,\t,\tPUNCT\t65\tpunct\t\t\t\n",
      "61\tunder\tunder\tADP\t65\tprep\tT\tprep: under have\tR\n",
      "62\tGod\tGod\tPROPN\t61\tpobj\tT\tpobj: God under\tR\n",
      "63\t,\t,\tPUNCT\t65\tpunct\t\t\t\n",
      "64\tshall\tshall\tAUX\t65\taux\tT\t\t\n",
      "65\thave\thave\tVERB\t53\tadvcl\tT\tadvcl: have die\tR\n",
      "66\ta\ta\tDET\t68\tdet\tT\t\t\n",
      "67\tnew\tnew\tADJ\t68\tamod\tT\tamod: new birth\tR\n",
      "68\tbirth\tbirth\tNOUN\t65\tdobj\tT\t\t\n",
      "69\tof\tof\tADP\t68\tprep\tT\tprep: of birth\tR\n",
      "70\tfreedom\tfreedom\tNOUN\t69\tpobj\tT\tpobj: freedom of\tR\n",
      "71\t,\t,\tPUNCT\t65\tpunct\t\t\t\n",
      "72\tand\tand\tCCONJ\t65\tcc\tT\t\t\n",
      "73\tthat\tthat\tDET\t74\tdet\tT\tdet: that government\tR\n",
      "74\tgovernment\tgovernment\tNOUN\t89\tnsubj\tT\tnsubj: government perish\tR\n",
      "75\tof\tof\tADP\t74\tprep\tT\tprep: of government\tR\n",
      "76\tthe\tthe\tDET\t77\tdet\tT\t\t\n",
      "77\tpeople\tpeople\tNOUN\t75\tpobj\tT\tpobj: people of\tR\n",
      "78\t,\t,\tPUNCT\t74\tpunct\t\t\t\n",
      "79\tby\tby\tADP\t74\tprep\tT\tprep: by government\tR\n",
      "80\tthe\tthe\tDET\t81\tdet\tT\t\t\n",
      "81\tpeople\tpeople\tNOUN\t79\tpobj\tT\tpobj: people by\tR\n",
      "82\t,\t,\tPUNCT\t74\tpunct\t\t\t\n",
      "83\tfor\tfor\tADP\t74\tprep\tT\tprep: for government\tR\n",
      "84\tthe\tthe\tDET\t85\tdet\tT\t\t\n",
      "85\tpeople\tpeople\tNOUN\t83\tpobj\tT\tpobj: people for\tR\n",
      "86\t,\t,\tPUNCT\t89\tpunct\t\t\t\n",
      "87\tshall\tshall\tAUX\t89\taux\tT\t\t\n",
      "88\tnot\tnot\tPART\t89\tneg\tT\tneg: not perish\tR\n",
      "89\tperish\tperish\tVERB\t65\tconj\tT\t\t\n",
      "90\tfrom\tfrom\tADP\t89\tprep\tT\tprep: from perish\tR\n",
      "91\tthe\tthe\tDET\t92\tdet\tT\t\t\n",
      "92\tearth\tearth\tNOUN\t90\tpobj\tT\tpobj: earth from\tR\n",
      "93\t.\t.\tPUNCT\t2\tpunct\t\t\t\n",
      "155\t150\t272\t0.570\t0.551\n",
      "-----------------------------------------------------------------------------\n"
     ]
    }
   ],
   "source": [
    "nlp = spacy.load('en_core_web_sm', disable=[\"ner\"])\n",
    "\n",
    "prop_counter = Depid(count_conjunctions=args.conj)\n",
    "txt = nlp(p.strip())\n",
    "for sent in txt.sents:\n",
    "    tokens_out = prop_counter.count_propositions(sent)\n",
    "    for i, (word, lemma, pos, head, dep, tok, prop, rep) in enumerate(tokens_out):\n",
    "        print(f'{i+1}\\t{word}\\t{lemma}\\t{pos}\\t{head}\\t{dep}\\t{tok}\\t{prop}\\t{rep}')\n",
    "num_props = prop_counter.num_propositions()\n",
    "num_props_rep = prop_counter.num_propositions(rep=True)\n",
    "num_tokens = prop_counter.num_tokens\n",
    "prop_id = safe_division(num_props, num_tokens)\n",
    "prop_rep_id = safe_division(num_props_rep, num_tokens)\n",
    "\n",
    "print(f'{num_props}\\t{num_props_rep}\\t{num_tokens}\\t{prop_id:.3f}\\t{prop_rep_id:.3f}')  \n",
    "print(\"-----------------------------------------------------------------------------\")"
   ]
  },
  {
   "cell_type": "markdown",
   "id": "84226ae1",
   "metadata": {},
   "source": [
    "# II. Prepare Pratchett Corpus"
   ]
  },
  {
   "cell_type": "code",
   "execution_count": 65,
   "id": "46a7eb5d",
   "metadata": {},
   "outputs": [],
   "source": [
    "NSMAP = {'tei': 'http://www.tei-c.org/ns/1.0'}\n",
    "\n",
    "def get_alltext_from_plist(plist) -> str:\n",
    "    textlist = []\n",
    "    for item in plist:\n",
    "        if isinstance(item.text, str):\n",
    "            textlist.append(item.text)\n",
    "    alltext = \"\\n\".join(textlist)\n",
    "    return alltext\n",
    "\n",
    "os.chdir('C:/Users/Dora Sperling/Desktop/Thesis/xml_files')\n",
    "directory = 'C:/Users/Dora Sperling/Desktop/Thesis/xml_files'"
   ]
  },
  {
   "cell_type": "code",
   "execution_count": 66,
   "id": "5d2c6cbf",
   "metadata": {},
   "outputs": [],
   "source": [
    "def get_metadata_df(directory):\n",
    "    '''\n",
    "    Takes the directory containing the Pratchett full text files.\n",
    "    Returns them as a dataframe with basic metadata and the full tokenized text. \n",
    "    '''\n",
    "    ya_novels = [\"Johnny and the Bomb\", 'Only You Can Save Mankind', 'Johnny and the Dead',\n",
    "                 'The Wee Free Men', 'A Hat Full of Sky', \"Wintersmith\", 'Nation', 'I Shall Wear Midnight',\n",
    "                \"The Shepherd's Crown\", 'The Amazing Maurice and His Educated Rodents']\n",
    "    titles = []\n",
    "    ages = []\n",
    "    years = []\n",
    "    young_adult = []\n",
    "    texts = []\n",
    "    for file in tqdm(os.scandir(directory)):\n",
    "        if file.name.endswith(\".xml\"):\n",
    "            tree = lxml.etree.parse(file.name)\n",
    "            root = tree.getroot()\n",
    "            # Get the book's title\n",
    "            title = root.find(\"./tei:teiHeader/tei:fileDesc/tei:sourceDesc//tei:title\", \n",
    "                              namespaces=NSMAP).text\n",
    "            \n",
    "            # Get the year the book was published\n",
    "            year_of_publication = root.find(\"./tei:teiHeader/tei:profileDesc/tei:particDesc//tei:age\", \n",
    "                                            namespaces=NSMAP).attrib['when']\n",
    "            \n",
    "            # Get the age that Terry Pratchett was when the book was published \n",
    "            age_at_publication = root.find(\"./tei:teiHeader/tei:profileDesc/tei:particDesc//tei:age\", \n",
    "                                           namespaces=NSMAP).attrib['value']\n",
    "            \n",
    "            # Get a list of all the paragraph elements\n",
    "            plist = root.findall(\"./tei:text//tei:p\", namespaces=NSMAP)\n",
    "            text = get_alltext_from_plist(plist)\n",
    "            \n",
    "            # Determine whether the book is in the list of books for younger readers \n",
    "            if title in ya_novels:\n",
    "                 ya=True\n",
    "            else:\n",
    "                 ya=False\n",
    "            \n",
    "            # Add all above information to lists to be made into a dataframe\n",
    "            titles.append(title)\n",
    "            ages.append(age_at_publication)\n",
    "            years.append(year_of_publication)\n",
    "            young_adult.append(ya)\n",
    "            texts.append(text)\n",
    "    \n",
    "    # Paste finished lists together into dataframe\n",
    "    \n",
    "    df = pd.DataFrame({'title': titles, \n",
    "                   'year_of_publication':years, \n",
    "                   'age_at_publication':ages,\n",
    "                    'YA':young_adult,\n",
    "                   'text':texts})  \n",
    "    \n",
    "    # Do not include a default index column, sort by Terry Pratchett's age in ascending order\n",
    "    df = df.sort_values(by='age_at_publication').reset_index(drop=True)\n",
    "    return df"
   ]
  },
  {
   "cell_type": "code",
   "execution_count": 67,
   "id": "27f241b4",
   "metadata": {},
   "outputs": [
    {
     "name": "stderr",
     "output_type": "stream",
     "text": [
      "47it [00:01, 44.50it/s]\n"
     ]
    }
   ],
   "source": [
    "metadata_df = get_metadata_df('C:/Users/Dora Sperling/Desktop/Thesis/xml_files')"
   ]
  },
  {
   "cell_type": "code",
   "execution_count": 68,
   "id": "141a9037",
   "metadata": {},
   "outputs": [
    {
     "data": {
      "text/html": [
       "<div>\n",
       "<style scoped>\n",
       "    .dataframe tbody tr th:only-of-type {\n",
       "        vertical-align: middle;\n",
       "    }\n",
       "\n",
       "    .dataframe tbody tr th {\n",
       "        vertical-align: top;\n",
       "    }\n",
       "\n",
       "    .dataframe thead th {\n",
       "        text-align: right;\n",
       "    }\n",
       "</style>\n",
       "<table border=\"1\" class=\"dataframe\">\n",
       "  <thead>\n",
       "    <tr style=\"text-align: right;\">\n",
       "      <th></th>\n",
       "      <th>title</th>\n",
       "      <th>year_of_publication</th>\n",
       "      <th>age_at_publication</th>\n",
       "      <th>YA</th>\n",
       "      <th>text</th>\n",
       "    </tr>\n",
       "  </thead>\n",
       "  <tbody>\n",
       "    <tr>\n",
       "      <th>0</th>\n",
       "      <td>The Color Of Magic</td>\n",
       "      <td>1983</td>\n",
       "      <td>35.58</td>\n",
       "      <td>False</td>\n",
       "      <td>In A distant and secondhand set of dimensions,...</td>\n",
       "    </tr>\n",
       "    <tr>\n",
       "      <th>1</th>\n",
       "      <td>The Light Fantastic</td>\n",
       "      <td>1986</td>\n",
       "      <td>38.10</td>\n",
       "      <td>False</td>\n",
       "      <td>The sun rose slowly, as if it wasn’t sure it w...</td>\n",
       "    </tr>\n",
       "    <tr>\n",
       "      <th>2</th>\n",
       "      <td>Equal Rites</td>\n",
       "      <td>1987</td>\n",
       "      <td>38.72</td>\n",
       "      <td>False</td>\n",
       "      <td>This is a story about magic and where it goes ...</td>\n",
       "    </tr>\n",
       "    <tr>\n",
       "      <th>3</th>\n",
       "      <td>Mort</td>\n",
       "      <td>1987</td>\n",
       "      <td>39.51</td>\n",
       "      <td>False</td>\n",
       "      <td>This is the bright candlelit room where the li...</td>\n",
       "    </tr>\n",
       "    <tr>\n",
       "      <th>4</th>\n",
       "      <td>Sourcery</td>\n",
       "      <td>1988</td>\n",
       "      <td>40.08</td>\n",
       "      <td>False</td>\n",
       "      <td>There was a man and he had eight sons. Apart f...</td>\n",
       "    </tr>\n",
       "    <tr>\n",
       "      <th>5</th>\n",
       "      <td>Wyrd Sisters</td>\n",
       "      <td>1988</td>\n",
       "      <td>40.54</td>\n",
       "      <td>False</td>\n",
       "      <td>The wind howled. Lightning stabbed at the eart...</td>\n",
       "    </tr>\n",
       "    <tr>\n",
       "      <th>6</th>\n",
       "      <td>Pyramids</td>\n",
       "      <td>1989</td>\n",
       "      <td>41.13</td>\n",
       "      <td>False</td>\n",
       "      <td>Nothing but stars, scattered across the blackn...</td>\n",
       "    </tr>\n",
       "    <tr>\n",
       "      <th>7</th>\n",
       "      <td>Guards! Guards!</td>\n",
       "      <td>1989</td>\n",
       "      <td>41.53</td>\n",
       "      <td>False</td>\n",
       "      <td>This is where the dragons went.\\nThey lie...\\n...</td>\n",
       "    </tr>\n",
       "    <tr>\n",
       "      <th>8</th>\n",
       "      <td>Eric</td>\n",
       "      <td>1990</td>\n",
       "      <td>42.30</td>\n",
       "      <td>False</td>\n",
       "      <td>The bees of Death are big and black, they buzz...</td>\n",
       "    </tr>\n",
       "    <tr>\n",
       "      <th>9</th>\n",
       "      <td>Moving Pictures</td>\n",
       "      <td>1990</td>\n",
       "      <td>42.51</td>\n",
       "      <td>False</td>\n",
       "      <td>Watch...\\nThis is space. It’s sometimes called...</td>\n",
       "    </tr>\n",
       "    <tr>\n",
       "      <th>10</th>\n",
       "      <td>Reaper Man</td>\n",
       "      <td>1991</td>\n",
       "      <td>43.07</td>\n",
       "      <td>False</td>\n",
       "      <td>The Morris dance is common to all inhabited wo...</td>\n",
       "    </tr>\n",
       "    <tr>\n",
       "      <th>11</th>\n",
       "      <td>Witches Abroad</td>\n",
       "      <td>1991</td>\n",
       "      <td>43.53</td>\n",
       "      <td>False</td>\n",
       "      <td>This is the Discworld, which travels through s...</td>\n",
       "    </tr>\n",
       "    <tr>\n",
       "      <th>12</th>\n",
       "      <td>Small Gods</td>\n",
       "      <td>1992</td>\n",
       "      <td>44.06</td>\n",
       "      <td>False</td>\n",
       "      <td>Now consider the tortoise and the eagle.\\nThe ...</td>\n",
       "    </tr>\n",
       "    <tr>\n",
       "      <th>13</th>\n",
       "      <td>Lords and Ladies</td>\n",
       "      <td>1992</td>\n",
       "      <td>44.52</td>\n",
       "      <td>False</td>\n",
       "      <td>Now read on...\\nWhen does it start?\\nThere are...</td>\n",
       "    </tr>\n",
       "    <tr>\n",
       "      <th>14</th>\n",
       "      <td>Men at Arms</td>\n",
       "      <td>1993</td>\n",
       "      <td>45.54</td>\n",
       "      <td>False</td>\n",
       "      <td>Corporal Carrot, Ankh-Morpork City Guard (Nigh...</td>\n",
       "    </tr>\n",
       "    <tr>\n",
       "      <th>15</th>\n",
       "      <td>Soul Music</td>\n",
       "      <td>1994</td>\n",
       "      <td>46.06</td>\n",
       "      <td>False</td>\n",
       "      <td>Where to finish?\\nA dark, stormy night. A coac...</td>\n",
       "    </tr>\n",
       "    <tr>\n",
       "      <th>16</th>\n",
       "      <td>Interesting Times</td>\n",
       "      <td>1994</td>\n",
       "      <td>46.52</td>\n",
       "      <td>False</td>\n",
       "      <td>This is where the gods play games with the liv...</td>\n",
       "    </tr>\n",
       "    <tr>\n",
       "      <th>17</th>\n",
       "      <td>Maskerade</td>\n",
       "      <td>1995</td>\n",
       "      <td>47.52</td>\n",
       "      <td>False</td>\n",
       "      <td>The wind howled. The storm crackled on the mou...</td>\n",
       "    </tr>\n",
       "    <tr>\n",
       "      <th>18</th>\n",
       "      <td>Feet of Clay</td>\n",
       "      <td>1996</td>\n",
       "      <td>48.08</td>\n",
       "      <td>False</td>\n",
       "      <td>It was a warm spring night when a fist knocked...</td>\n",
       "    </tr>\n",
       "    <tr>\n",
       "      <th>19</th>\n",
       "      <td>Hogfather</td>\n",
       "      <td>1996</td>\n",
       "      <td>48.51</td>\n",
       "      <td>False</td>\n",
       "      <td>Everything starts somewhere, although many phy...</td>\n",
       "    </tr>\n",
       "    <tr>\n",
       "      <th>20</th>\n",
       "      <td>Jingo</td>\n",
       "      <td>1997</td>\n",
       "      <td>49.53</td>\n",
       "      <td>False</td>\n",
       "      <td>It was a moonless night, which was good for th...</td>\n",
       "    </tr>\n",
       "    <tr>\n",
       "      <th>21</th>\n",
       "      <td>The Last Continent</td>\n",
       "      <td>1998</td>\n",
       "      <td>50.01</td>\n",
       "      <td>False</td>\n",
       "      <td>Against the stars a turtle passes, carrying fo...</td>\n",
       "    </tr>\n",
       "    <tr>\n",
       "      <th>22</th>\n",
       "      <td>Carpe Jugulum</td>\n",
       "      <td>1998</td>\n",
       "      <td>50.52</td>\n",
       "      <td>False</td>\n",
       "      <td>Through the shredded black clouds a fire moved...</td>\n",
       "    </tr>\n",
       "    <tr>\n",
       "      <th>23</th>\n",
       "      <td>The Fifth Elephant</td>\n",
       "      <td>1999</td>\n",
       "      <td>51.52</td>\n",
       "      <td>False</td>\n",
       "      <td>They say the world is flat and supported on th...</td>\n",
       "    </tr>\n",
       "    <tr>\n",
       "      <th>24</th>\n",
       "      <td>The Truth</td>\n",
       "      <td>2000</td>\n",
       "      <td>52.52</td>\n",
       "      <td>False</td>\n",
       "      <td>The rumor spread through the city like wildfir...</td>\n",
       "    </tr>\n",
       "    <tr>\n",
       "      <th>25</th>\n",
       "      <td>Thief of Time</td>\n",
       "      <td>2001</td>\n",
       "      <td>53.01</td>\n",
       "      <td>False</td>\n",
       "      <td>According to the First Scroll of Wen the Etern...</td>\n",
       "    </tr>\n",
       "    <tr>\n",
       "      <th>26</th>\n",
       "      <td>The Last Hero</td>\n",
       "      <td>2001</td>\n",
       "      <td>53.47</td>\n",
       "      <td>False</td>\n",
       "      <td>The place where the story happened was a world...</td>\n",
       "    </tr>\n",
       "    <tr>\n",
       "      <th>27</th>\n",
       "      <td>Night Watch</td>\n",
       "      <td>2002</td>\n",
       "      <td>54.53</td>\n",
       "      <td>False</td>\n",
       "      <td>Sam Vimes sighed when he heard the scream, but...</td>\n",
       "    </tr>\n",
       "    <tr>\n",
       "      <th>28</th>\n",
       "      <td>Monstrous Regiment</td>\n",
       "      <td>2003</td>\n",
       "      <td>55.43</td>\n",
       "      <td>False</td>\n",
       "      <td>Polly cut off her hair in front of the mirror,...</td>\n",
       "    </tr>\n",
       "    <tr>\n",
       "      <th>29</th>\n",
       "      <td>Going Postal</td>\n",
       "      <td>2004</td>\n",
       "      <td>56.43</td>\n",
       "      <td>False</td>\n",
       "      <td>The flotillas of the dead sailed around the wo...</td>\n",
       "    </tr>\n",
       "    <tr>\n",
       "      <th>30</th>\n",
       "      <td>Thud!</td>\n",
       "      <td>2005</td>\n",
       "      <td>57.41</td>\n",
       "      <td>False</td>\n",
       "      <td>Thud...\\n...that was the sound the heavy club ...</td>\n",
       "    </tr>\n",
       "    <tr>\n",
       "      <th>31</th>\n",
       "      <td>Making Money</td>\n",
       "      <td>2007</td>\n",
       "      <td>59.41</td>\n",
       "      <td>False</td>\n",
       "      <td>THEY LAY IN the dark, guarding. There was no w...</td>\n",
       "    </tr>\n",
       "    <tr>\n",
       "      <th>32</th>\n",
       "      <td>Unseen Academicals</td>\n",
       "      <td>2009</td>\n",
       "      <td>61.45</td>\n",
       "      <td>False</td>\n",
       "      <td>It was midnight in Ankh-Morpork’s Royal Art Mu...</td>\n",
       "    </tr>\n",
       "    <tr>\n",
       "      <th>33</th>\n",
       "      <td>Snuff</td>\n",
       "      <td>2011</td>\n",
       "      <td>63.46</td>\n",
       "      <td>False</td>\n",
       "      <td>The goblin experience of the world is the cult...</td>\n",
       "    </tr>\n",
       "    <tr>\n",
       "      <th>34</th>\n",
       "      <td>Raising Steam</td>\n",
       "      <td>2013</td>\n",
       "      <td>65.49</td>\n",
       "      <td>False</td>\n",
       "      <td>It is hard to understand nothing, but the mult...</td>\n",
       "    </tr>\n",
       "  </tbody>\n",
       "</table>\n",
       "</div>"
      ],
      "text/plain": [
       "                  title year_of_publication age_at_publication     YA  \\\n",
       "0    The Color Of Magic                1983              35.58  False   \n",
       "1   The Light Fantastic                1986              38.10  False   \n",
       "2           Equal Rites                1987              38.72  False   \n",
       "3                  Mort                1987              39.51  False   \n",
       "4              Sourcery                1988              40.08  False   \n",
       "5          Wyrd Sisters                1988              40.54  False   \n",
       "6              Pyramids                1989              41.13  False   \n",
       "7       Guards! Guards!                1989              41.53  False   \n",
       "8                  Eric                1990              42.30  False   \n",
       "9       Moving Pictures                1990              42.51  False   \n",
       "10           Reaper Man                1991              43.07  False   \n",
       "11       Witches Abroad                1991              43.53  False   \n",
       "12           Small Gods                1992              44.06  False   \n",
       "13     Lords and Ladies                1992              44.52  False   \n",
       "14          Men at Arms                1993              45.54  False   \n",
       "15           Soul Music                1994              46.06  False   \n",
       "16    Interesting Times                1994              46.52  False   \n",
       "17            Maskerade                1995              47.52  False   \n",
       "18         Feet of Clay                1996              48.08  False   \n",
       "19            Hogfather                1996              48.51  False   \n",
       "20                Jingo                1997              49.53  False   \n",
       "21   The Last Continent                1998              50.01  False   \n",
       "22        Carpe Jugulum                1998              50.52  False   \n",
       "23   The Fifth Elephant                1999              51.52  False   \n",
       "24            The Truth                2000              52.52  False   \n",
       "25        Thief of Time                2001              53.01  False   \n",
       "26        The Last Hero                2001              53.47  False   \n",
       "27          Night Watch                2002              54.53  False   \n",
       "28   Monstrous Regiment                2003              55.43  False   \n",
       "29         Going Postal                2004              56.43  False   \n",
       "30                Thud!                2005              57.41  False   \n",
       "31         Making Money                2007              59.41  False   \n",
       "32   Unseen Academicals                2009              61.45  False   \n",
       "33                Snuff                2011              63.46  False   \n",
       "34        Raising Steam                2013              65.49  False   \n",
       "\n",
       "                                                 text  \n",
       "0   In A distant and secondhand set of dimensions,...  \n",
       "1   The sun rose slowly, as if it wasn’t sure it w...  \n",
       "2   This is a story about magic and where it goes ...  \n",
       "3   This is the bright candlelit room where the li...  \n",
       "4   There was a man and he had eight sons. Apart f...  \n",
       "5   The wind howled. Lightning stabbed at the eart...  \n",
       "6   Nothing but stars, scattered across the blackn...  \n",
       "7   This is where the dragons went.\\nThey lie...\\n...  \n",
       "8   The bees of Death are big and black, they buzz...  \n",
       "9   Watch...\\nThis is space. It’s sometimes called...  \n",
       "10  The Morris dance is common to all inhabited wo...  \n",
       "11  This is the Discworld, which travels through s...  \n",
       "12  Now consider the tortoise and the eagle.\\nThe ...  \n",
       "13  Now read on...\\nWhen does it start?\\nThere are...  \n",
       "14  Corporal Carrot, Ankh-Morpork City Guard (Nigh...  \n",
       "15  Where to finish?\\nA dark, stormy night. A coac...  \n",
       "16  This is where the gods play games with the liv...  \n",
       "17  The wind howled. The storm crackled on the mou...  \n",
       "18  It was a warm spring night when a fist knocked...  \n",
       "19  Everything starts somewhere, although many phy...  \n",
       "20  It was a moonless night, which was good for th...  \n",
       "21  Against the stars a turtle passes, carrying fo...  \n",
       "22  Through the shredded black clouds a fire moved...  \n",
       "23  They say the world is flat and supported on th...  \n",
       "24  The rumor spread through the city like wildfir...  \n",
       "25  According to the First Scroll of Wen the Etern...  \n",
       "26  The place where the story happened was a world...  \n",
       "27  Sam Vimes sighed when he heard the scream, but...  \n",
       "28  Polly cut off her hair in front of the mirror,...  \n",
       "29  The flotillas of the dead sailed around the wo...  \n",
       "30  Thud...\\n...that was the sound the heavy club ...  \n",
       "31  THEY LAY IN the dark, guarding. There was no w...  \n",
       "32  It was midnight in Ankh-Morpork’s Royal Art Mu...  \n",
       "33  The goblin experience of the world is the cult...  \n",
       "34  It is hard to understand nothing, but the mult...  "
      ]
     },
     "execution_count": 68,
     "metadata": {},
     "output_type": "execute_result"
    }
   ],
   "source": [
    "metadata_df = metadata_df[metadata_df.YA == False].reset_index(drop=True)\n",
    "metadata_df"
   ]
  },
  {
   "cell_type": "markdown",
   "id": "289872e3",
   "metadata": {},
   "source": [
    "# III. DEPID - Full Text"
   ]
  },
  {
   "cell_type": "code",
   "execution_count": 70,
   "id": "3f7f4e24",
   "metadata": {},
   "outputs": [
    {
     "name": "stdout",
     "output_type": "stream",
     "text": [
      "33989\t66490\t0.511\n",
      "-----------------------------------------------------------------------------\n",
      "22784\t45986\t0.495\n",
      "-----------------------------------------------------------------------------\n",
      "33279\t67367\t0.494\n",
      "-----------------------------------------------------------------------------\n",
      "36860\t73918\t0.499\n",
      "-----------------------------------------------------------------------------\n",
      "39878\t79476\t0.502\n",
      "-----------------------------------------------------------------------------\n",
      "42471\t86244\t0.492\n",
      "-----------------------------------------------------------------------------\n",
      "43820\t88215\t0.497\n",
      "-----------------------------------------------------------------------------\n",
      "48573\t99774\t0.487\n",
      "-----------------------------------------------------------------------------\n",
      "16962\t34862\t0.487\n",
      "-----------------------------------------------------------------------------\n",
      "47292\t98642\t0.479\n",
      "-----------------------------------------------------------------------------\n",
      "37885\t79350\t0.477\n",
      "-----------------------------------------------------------------------------\n",
      "40011\t82537\t0.485\n",
      "-----------------------------------------------------------------------------\n",
      "44953\t92812\t0.484\n",
      "-----------------------------------------------------------------------------\n",
      "42902\t89942\t0.477\n",
      "-----------------------------------------------------------------------------\n",
      "45535\t95865\t0.475\n",
      "-----------------------------------------------------------------------------\n",
      "45858\t96365\t0.476\n",
      "-----------------------------------------------------------------------------\n",
      "45193\t94491\t0.478\n",
      "-----------------------------------------------------------------------------\n",
      "41460\t87008\t0.477\n",
      "-----------------------------------------------------------------------------\n",
      "45068\t96167\t0.469\n",
      "-----------------------------------------------------------------------------\n",
      "45238\t95721\t0.473\n",
      "-----------------------------------------------------------------------------\n",
      "51209\t106767\t0.480\n",
      "-----------------------------------------------------------------------------\n",
      "46333\t95885\t0.483\n",
      "-----------------------------------------------------------------------------\n",
      "48514\t100261\t0.484\n",
      "-----------------------------------------------------------------------------\n",
      "52982\t109743\t0.483\n",
      "-----------------------------------------------------------------------------\n",
      "50480\t106610\t0.474\n",
      "-----------------------------------------------------------------------------\n",
      "49129\t103671\t0.474\n",
      "-----------------------------------------------------------------------------\n",
      "19282\t40530\t0.476\n",
      "-----------------------------------------------------------------------------\n",
      "56095\t116979\t0.480\n",
      "-----------------------------------------------------------------------------\n",
      "57328\t118653\t0.483\n",
      "-----------------------------------------------------------------------------\n",
      "56935\t119264\t0.477\n",
      "-----------------------------------------------------------------------------\n",
      "53668\t112187\t0.478\n",
      "-----------------------------------------------------------------------------\n",
      "55070\t114699\t0.480\n",
      "-----------------------------------------------------------------------------\n",
      "66656\t137806\t0.484\n",
      "-----------------------------------------------------------------------------\n",
      "65030\t133110\t0.489\n",
      "-----------------------------------------------------------------------------\n",
      "61394\t125942\t0.487\n",
      "-----------------------------------------------------------------------------\n"
     ]
    }
   ],
   "source": [
    "prop_idea_density = []\n",
    "\n",
    "\n",
    "for book in metadata_df.text:\n",
    "    prop_counter = Depid(count_conjunctions=args.conj)\n",
    "    ps = book.split('\\n')    \n",
    "    for p in ps:\n",
    "        txt = nlp(p.strip())\n",
    "        for sent in txt.sents:\n",
    "            tokens_out = prop_counter.count_propositions(sent)\n",
    "#             for i, (word, lemma, pos, head, dep, tok, prop, rep) in enumerate(tokens_out):\n",
    "#                 #print(f'{i+1}\\t{word}\\t{lemma}\\t{pos}\\t{head}\\t{dep}\\t{tok}\\t{prop}\\t{rep}')\n",
    "    num_props = prop_counter.num_propositions()\n",
    "\n",
    "    num_tokens = prop_counter.num_tokens\n",
    "    prop_id = safe_division(num_props, num_tokens)\n",
    "    prop_idea_density.append(prop_id)\n",
    "    \n",
    "    print(f'{num_props}\\t{num_tokens}\\t{prop_id:.3f}')  \n",
    "    print(\"-----------------------------------------------------------------------------\")\n",
    "\n"
   ]
  },
  {
   "cell_type": "code",
   "execution_count": 71,
   "id": "5e198747",
   "metadata": {},
   "outputs": [],
   "source": [
    "metadata_df.age_at_publication = pd.to_numeric(metadata_df.age_at_publication, downcast=\"float\")"
   ]
  },
  {
   "cell_type": "code",
   "execution_count": 72,
   "id": "b888c20a",
   "metadata": {},
   "outputs": [
    {
     "data": {
      "text/plain": [
       "Text(0.5, 0, 'Age at publication (years)')"
      ]
     },
     "execution_count": 72,
     "metadata": {},
     "output_type": "execute_result"
    },
    {
     "data": {
      "image/png": "[encoded data removed]",
      "text/plain": [
       "<Figure size 720x720 with 1 Axes>"
      ]
     },
     "metadata": {},
     "output_type": "display_data"
    }
   ],
   "source": [
    "f, ax = plt.subplots(figsize=(10,10))\n",
    "\n",
    "ax.scatter(metadata_df.age_at_publication, prop_idea_density)\n",
    "#ax.errorbar(metadata_df.age_at_publication, mean_ttr_2000tok, yerr=std_ttr_2000tok, fmt=\"o\")\n",
    "\n",
    "plt.xticks(rotation=45);\n",
    "ax.set_ylabel('DEPID')\n",
    "ax.set_xlabel('Age at publication (years)')"
   ]
  },
  {
   "cell_type": "markdown",
   "id": "9df4d3c1",
   "metadata": {},
   "source": [
    "# IV. DEPID-R - 100-paragraph segments"
   ]
  },
  {
   "cell_type": "code",
   "execution_count": 73,
   "id": "f4895466",
   "metadata": {},
   "outputs": [],
   "source": [
    "def get_chunks(text, windowsize):\n",
    "    '''\n",
    "    Takes a text, and divides it into non-overlapping segments.\n",
    "    Returns the segments as a list. \n",
    "    '''\n",
    "    tokenlist = text.split()\n",
    "    chunks = []\n",
    "    for i in range(0, len(tokenlist), windowsize):\n",
    "        if len(tokenlist[i:i + windowsize]) == windowsize: # do not include trailing words after the the last whole segment\n",
    "            chunks.append(\" \".join(tokenlist[i:i + windowsize]))\n",
    "    return chunks"
   ]
  },
  {
   "cell_type": "code",
   "execution_count": 74,
   "id": "5db0d7c3",
   "metadata": {},
   "outputs": [
    {
     "name": "stdout",
     "output_type": "stream",
     "text": [
      "0 24\n",
      "1 21\n",
      "2 28\n",
      "3 34\n",
      "4 38\n",
      "5 41\n",
      "6 39\n",
      "7 45\n",
      "8 16\n",
      "9 52\n",
      "10 48\n",
      "11 44\n",
      "12 52\n",
      "13 51\n",
      "14 56\n",
      "15 57\n",
      "16 51\n",
      "17 48\n",
      "18 48\n",
      "19 52\n",
      "20 57\n",
      "21 46\n",
      "22 50\n",
      "23 56\n",
      "24 52\n",
      "25 50\n",
      "26 20\n",
      "27 49\n",
      "28 50\n",
      "29 44\n",
      "30 43\n",
      "31 45\n",
      "32 48\n",
      "33 24\n",
      "34 24\n"
     ]
    }
   ],
   "source": [
    "for ii, book in enumerate(metadata_df.text):\n",
    "    ps = book.split('\\n')\n",
    "    chunks = []\n",
    "    for i in range(0, len(ps), 100):\n",
    "        if len(ps[i:i + 100]) == 100: # do not include trailing words after the the last whole segment\n",
    "            chunks.append(ps[i:i + 100])\n",
    "    print(ii, len(chunks))"
   ]
  },
  {
   "cell_type": "code",
   "execution_count": 77,
   "id": "8bcbace2",
   "metadata": {},
   "outputs": [
    {
     "name": "stderr",
     "output_type": "stream",
     "text": [
      "100%|██████████████████████████████████████████████████████████████████████████████████| 24/24 [00:15<00:00,  1.51it/s]\n",
      "  0%|                                                                                           | 0/21 [00:00<?, ?it/s]"
     ]
    },
    {
     "name": "stdout",
     "output_type": "stream",
     "text": [
      "\t0.459\n",
      "-------------\n"
     ]
    },
    {
     "name": "stderr",
     "output_type": "stream",
     "text": [
      "100%|██████████████████████████████████████████████████████████████████████████████████| 21/21 [00:13<00:00,  1.51it/s]\n",
      "  0%|                                                                                           | 0/28 [00:00<?, ?it/s]"
     ]
    },
    {
     "name": "stdout",
     "output_type": "stream",
     "text": [
      "\t0.435\n",
      "-------------\n"
     ]
    },
    {
     "name": "stderr",
     "output_type": "stream",
     "text": [
      "100%|██████████████████████████████████████████████████████████████████████████████████| 28/28 [00:15<00:00,  1.77it/s]\n",
      "  0%|                                                                                           | 0/34 [00:00<?, ?it/s]"
     ]
    },
    {
     "name": "stdout",
     "output_type": "stream",
     "text": [
      "\t0.434\n",
      "-------------\n"
     ]
    },
    {
     "name": "stderr",
     "output_type": "stream",
     "text": [
      "100%|██████████████████████████████████████████████████████████████████████████████████| 34/34 [00:24<00:00,  1.39it/s]\n",
      "  0%|                                                                                           | 0/38 [00:00<?, ?it/s]"
     ]
    },
    {
     "name": "stdout",
     "output_type": "stream",
     "text": [
      "\t0.441\n",
      "-------------\n"
     ]
    },
    {
     "name": "stderr",
     "output_type": "stream",
     "text": [
      "100%|██████████████████████████████████████████████████████████████████████████████████| 38/38 [00:20<00:00,  1.88it/s]\n",
      "  0%|                                                                                           | 0/41 [00:00<?, ?it/s]"
     ]
    },
    {
     "name": "stdout",
     "output_type": "stream",
     "text": [
      "\t0.445\n",
      "-------------\n"
     ]
    },
    {
     "name": "stderr",
     "output_type": "stream",
     "text": [
      "100%|██████████████████████████████████████████████████████████████████████████████████| 41/41 [00:26<00:00,  1.53it/s]\n",
      "  0%|                                                                                           | 0/39 [00:00<?, ?it/s]"
     ]
    },
    {
     "name": "stdout",
     "output_type": "stream",
     "text": [
      "\t0.431\n",
      "-------------\n"
     ]
    },
    {
     "name": "stderr",
     "output_type": "stream",
     "text": [
      "100%|██████████████████████████████████████████████████████████████████████████████████| 39/39 [00:26<00:00,  1.49it/s]\n",
      "  0%|                                                                                           | 0/45 [00:00<?, ?it/s]"
     ]
    },
    {
     "name": "stdout",
     "output_type": "stream",
     "text": [
      "\t0.434\n",
      "-------------\n"
     ]
    },
    {
     "name": "stderr",
     "output_type": "stream",
     "text": [
      "100%|██████████████████████████████████████████████████████████████████████████████████| 45/45 [00:28<00:00,  1.58it/s]\n",
      "  0%|                                                                                           | 0/16 [00:00<?, ?it/s]"
     ]
    },
    {
     "name": "stdout",
     "output_type": "stream",
     "text": [
      "\t0.425\n",
      "-------------\n"
     ]
    },
    {
     "name": "stderr",
     "output_type": "stream",
     "text": [
      "100%|██████████████████████████████████████████████████████████████████████████████████| 16/16 [00:10<00:00,  1.54it/s]\n",
      "  0%|                                                                                           | 0/52 [00:00<?, ?it/s]"
     ]
    },
    {
     "name": "stdout",
     "output_type": "stream",
     "text": [
      "\t0.421\n",
      "-------------\n"
     ]
    },
    {
     "name": "stderr",
     "output_type": "stream",
     "text": [
      "100%|██████████████████████████████████████████████████████████████████████████████████| 52/52 [00:33<00:00,  1.55it/s]\n",
      "  0%|                                                                                           | 0/48 [00:00<?, ?it/s]"
     ]
    },
    {
     "name": "stdout",
     "output_type": "stream",
     "text": [
      "\t0.417\n",
      "-------------\n"
     ]
    },
    {
     "name": "stderr",
     "output_type": "stream",
     "text": [
      "100%|██████████████████████████████████████████████████████████████████████████████████| 48/48 [00:27<00:00,  1.73it/s]\n",
      "  0%|                                                                                           | 0/44 [00:00<?, ?it/s]"
     ]
    },
    {
     "name": "stdout",
     "output_type": "stream",
     "text": [
      "\t0.423\n",
      "-------------\n"
     ]
    },
    {
     "name": "stderr",
     "output_type": "stream",
     "text": [
      "100%|██████████████████████████████████████████████████████████████████████████████████| 44/44 [00:29<00:00,  1.48it/s]\n",
      "  0%|                                                                                           | 0/52 [00:00<?, ?it/s]"
     ]
    },
    {
     "name": "stdout",
     "output_type": "stream",
     "text": [
      "\t0.418\n",
      "-------------\n"
     ]
    },
    {
     "name": "stderr",
     "output_type": "stream",
     "text": [
      "100%|██████████████████████████████████████████████████████████████████████████████████| 52/52 [00:31<00:00,  1.63it/s]\n",
      "  0%|                                                                                           | 0/51 [00:00<?, ?it/s]"
     ]
    },
    {
     "name": "stdout",
     "output_type": "stream",
     "text": [
      "\t0.421\n",
      "-------------\n"
     ]
    },
    {
     "name": "stderr",
     "output_type": "stream",
     "text": [
      "100%|██████████████████████████████████████████████████████████████████████████████████| 51/51 [00:29<00:00,  1.75it/s]\n",
      "  0%|                                                                                           | 0/56 [00:00<?, ?it/s]"
     ]
    },
    {
     "name": "stdout",
     "output_type": "stream",
     "text": [
      "\t0.419\n",
      "-------------\n"
     ]
    },
    {
     "name": "stderr",
     "output_type": "stream",
     "text": [
      "100%|██████████████████████████████████████████████████████████████████████████████████| 56/56 [00:34<00:00,  1.61it/s]\n",
      "  0%|                                                                                           | 0/57 [00:00<?, ?it/s]"
     ]
    },
    {
     "name": "stdout",
     "output_type": "stream",
     "text": [
      "\t0.415\n",
      "-------------\n"
     ]
    },
    {
     "name": "stderr",
     "output_type": "stream",
     "text": [
      "100%|██████████████████████████████████████████████████████████████████████████████████| 57/57 [00:36<00:00,  1.58it/s]\n",
      "  0%|                                                                                           | 0/51 [00:00<?, ?it/s]"
     ]
    },
    {
     "name": "stdout",
     "output_type": "stream",
     "text": [
      "\t0.416\n",
      "-------------\n"
     ]
    },
    {
     "name": "stderr",
     "output_type": "stream",
     "text": [
      "100%|██████████████████████████████████████████████████████████████████████████████████| 51/51 [00:32<00:00,  1.58it/s]\n",
      "  0%|                                                                                           | 0/48 [00:00<?, ?it/s]"
     ]
    },
    {
     "name": "stdout",
     "output_type": "stream",
     "text": [
      "\t0.419\n",
      "-------------\n"
     ]
    },
    {
     "name": "stderr",
     "output_type": "stream",
     "text": [
      "100%|██████████████████████████████████████████████████████████████████████████████████| 48/48 [00:30<00:00,  1.56it/s]\n",
      "  0%|                                                                                           | 0/48 [00:00<?, ?it/s]"
     ]
    },
    {
     "name": "stdout",
     "output_type": "stream",
     "text": [
      "\t0.421\n",
      "-------------\n"
     ]
    },
    {
     "name": "stderr",
     "output_type": "stream",
     "text": [
      "100%|██████████████████████████████████████████████████████████████████████████████████| 48/48 [00:28<00:00,  1.68it/s]\n",
      "  0%|                                                                                           | 0/52 [00:00<?, ?it/s]"
     ]
    },
    {
     "name": "stdout",
     "output_type": "stream",
     "text": [
      "\t0.413\n",
      "-------------\n"
     ]
    },
    {
     "name": "stderr",
     "output_type": "stream",
     "text": [
      "100%|██████████████████████████████████████████████████████████████████████████████████| 52/52 [00:35<00:00,  1.47it/s]\n",
      "  0%|                                                                                           | 0/57 [00:00<?, ?it/s]"
     ]
    },
    {
     "name": "stdout",
     "output_type": "stream",
     "text": [
      "\t0.413\n",
      "-------------\n"
     ]
    },
    {
     "name": "stderr",
     "output_type": "stream",
     "text": [
      "100%|██████████████████████████████████████████████████████████████████████████████████| 57/57 [00:36<00:00,  1.56it/s]\n",
      "  0%|                                                                                           | 0/46 [00:00<?, ?it/s]"
     ]
    },
    {
     "name": "stdout",
     "output_type": "stream",
     "text": [
      "\t0.422\n",
      "-------------\n"
     ]
    },
    {
     "name": "stderr",
     "output_type": "stream",
     "text": [
      "100%|██████████████████████████████████████████████████████████████████████████████████| 46/46 [00:27<00:00,  1.66it/s]\n",
      "  0%|                                                                                           | 0/50 [00:00<?, ?it/s]"
     ]
    },
    {
     "name": "stdout",
     "output_type": "stream",
     "text": [
      "\t0.421\n",
      "-------------\n"
     ]
    },
    {
     "name": "stderr",
     "output_type": "stream",
     "text": [
      "100%|██████████████████████████████████████████████████████████████████████████████████| 50/50 [00:30<00:00,  1.62it/s]\n",
      "  0%|                                                                                           | 0/56 [00:00<?, ?it/s]"
     ]
    },
    {
     "name": "stdout",
     "output_type": "stream",
     "text": [
      "\t0.424\n",
      "-------------\n"
     ]
    },
    {
     "name": "stderr",
     "output_type": "stream",
     "text": [
      "100%|██████████████████████████████████████████████████████████████████████████████████| 56/56 [00:32<00:00,  1.73it/s]\n",
      "  0%|                                                                                           | 0/52 [00:00<?, ?it/s]"
     ]
    },
    {
     "name": "stdout",
     "output_type": "stream",
     "text": [
      "\t0.427\n",
      "-------------\n"
     ]
    },
    {
     "name": "stderr",
     "output_type": "stream",
     "text": [
      "100%|██████████████████████████████████████████████████████████████████████████████████| 52/52 [00:32<00:00,  1.61it/s]\n",
      "  0%|                                                                                           | 0/50 [00:00<?, ?it/s]"
     ]
    },
    {
     "name": "stdout",
     "output_type": "stream",
     "text": [
      "\t0.410\n",
      "-------------\n"
     ]
    },
    {
     "name": "stderr",
     "output_type": "stream",
     "text": [
      "100%|██████████████████████████████████████████████████████████████████████████████████| 50/50 [00:31<00:00,  1.59it/s]\n",
      "  0%|                                                                                           | 0/20 [00:00<?, ?it/s]"
     ]
    },
    {
     "name": "stdout",
     "output_type": "stream",
     "text": [
      "\t0.412\n",
      "-------------\n"
     ]
    },
    {
     "name": "stderr",
     "output_type": "stream",
     "text": [
      "100%|██████████████████████████████████████████████████████████████████████████████████| 20/20 [00:12<00:00,  1.66it/s]\n",
      "  0%|                                                                                           | 0/49 [00:00<?, ?it/s]"
     ]
    },
    {
     "name": "stdout",
     "output_type": "stream",
     "text": [
      "\t0.412\n",
      "-------------\n"
     ]
    },
    {
     "name": "stderr",
     "output_type": "stream",
     "text": [
      "100%|██████████████████████████████████████████████████████████████████████████████████| 49/49 [00:32<00:00,  1.51it/s]\n",
      "  0%|                                                                                           | 0/50 [00:00<?, ?it/s]"
     ]
    },
    {
     "name": "stdout",
     "output_type": "stream",
     "text": [
      "\t0.416\n",
      "-------------\n"
     ]
    },
    {
     "name": "stderr",
     "output_type": "stream",
     "text": [
      "100%|██████████████████████████████████████████████████████████████████████████████████| 50/50 [00:34<00:00,  1.45it/s]\n",
      "  0%|                                                                                           | 0/44 [00:00<?, ?it/s]"
     ]
    },
    {
     "name": "stdout",
     "output_type": "stream",
     "text": [
      "\t0.420\n",
      "-------------\n"
     ]
    },
    {
     "name": "stderr",
     "output_type": "stream",
     "text": [
      "100%|██████████████████████████████████████████████████████████████████████████████████| 44/44 [00:31<00:00,  1.40it/s]\n",
      "  0%|                                                                                           | 0/43 [00:00<?, ?it/s]"
     ]
    },
    {
     "name": "stdout",
     "output_type": "stream",
     "text": [
      "\t0.411\n",
      "-------------\n"
     ]
    },
    {
     "name": "stderr",
     "output_type": "stream",
     "text": [
      "100%|██████████████████████████████████████████████████████████████████████████████████| 43/43 [00:31<00:00,  1.35it/s]\n",
      "  0%|                                                                                           | 0/45 [00:00<?, ?it/s]"
     ]
    },
    {
     "name": "stdout",
     "output_type": "stream",
     "text": [
      "\t0.414\n",
      "-------------\n"
     ]
    },
    {
     "name": "stderr",
     "output_type": "stream",
     "text": [
      "100%|██████████████████████████████████████████████████████████████████████████████████| 45/45 [00:31<00:00,  1.43it/s]\n",
      "  0%|                                                                                           | 0/48 [00:00<?, ?it/s]"
     ]
    },
    {
     "name": "stdout",
     "output_type": "stream",
     "text": [
      "\t0.417\n",
      "-------------\n"
     ]
    },
    {
     "name": "stderr",
     "output_type": "stream",
     "text": [
      "100%|██████████████████████████████████████████████████████████████████████████████████| 48/48 [00:35<00:00,  1.37it/s]\n",
      "  0%|                                                                                           | 0/24 [00:00<?, ?it/s]"
     ]
    },
    {
     "name": "stdout",
     "output_type": "stream",
     "text": [
      "\t0.410\n",
      "-------------\n"
     ]
    },
    {
     "name": "stderr",
     "output_type": "stream",
     "text": [
      "100%|██████████████████████████████████████████████████████████████████████████████████| 24/24 [00:26<00:00,  1.11s/it]\n",
      "  0%|                                                                                           | 0/24 [00:00<?, ?it/s]"
     ]
    },
    {
     "name": "stdout",
     "output_type": "stream",
     "text": [
      "\t0.406\n",
      "-------------\n"
     ]
    },
    {
     "name": "stderr",
     "output_type": "stream",
     "text": [
      "100%|██████████████████████████████████████████████████████████████████████████████████| 24/24 [00:25<00:00,  1.05s/it]"
     ]
    },
    {
     "name": "stdout",
     "output_type": "stream",
     "text": [
      "\t0.416\n",
      "-------------\n"
     ]
    },
    {
     "name": "stderr",
     "output_type": "stream",
     "text": [
      "\n"
     ]
    }
   ],
   "source": [
    "mean_prop_rep_idea_density = []\n",
    "\n",
    "for book in metadata_df.text:\n",
    "    ps = book.split('\\n')\n",
    "    chunks = []\n",
    "    \n",
    "    # Get a list of chunks containing 100 paragraph elements each\n",
    "    for i in range(0, len(ps), 100):\n",
    "        if len(ps[i:i + 100]) == 100: # do not include trailing words after the the last whole segment\n",
    "            chunks.append(ps[i:i + 100])\n",
    "    \n",
    "    # Initialize lists to store DEPID-R measurements in \n",
    "    book_rep_idea_densities_per100_paragraphs = []\n",
    "    \n",
    "    for chunk in tqdm(chunks):\n",
    "        # reset proposition counter\n",
    "        prop_counter = Depid(count_conjunctions=args.conj)\n",
    "        \n",
    "        # Count propositions in each of the 100 paragraph elements\n",
    "        for p in chunk:\n",
    "            txt = nlp(p.strip())\n",
    "            for sent in txt.sents:\n",
    "                tokens_out = prop_counter.count_propositions(sent)\n",
    "                \n",
    "        num_props = prop_counter.num_propositions()\n",
    "        num_props_rep = prop_counter.num_propositions(rep=True)\n",
    "        num_tokens = prop_counter.num_tokens\n",
    "\n",
    "        prop_rep_id = safe_division(num_props_rep, num_tokens)\n",
    "        \n",
    "        book_rep_idea_densities_per100_paragraphs.append(prop_rep_id)\n",
    "    \n",
    "    # Add the mean DEPID-R of the book to the list of mean DEPIDs\n",
    "    \n",
    "    mean_prop_rep_idea_density.append(np.mean(book_rep_idea_densities_per100_paragraphs))\n",
    "    \n",
    "    print(f'\\t{np.mean(book_rep_idea_densities_per100_paragraphs):.3f}') \n",
    "    print(\"-------------\")\n"
   ]
  },
  {
   "cell_type": "code",
   "execution_count": 78,
   "id": "6947a0c5",
   "metadata": {},
   "outputs": [
    {
     "data": {
      "text/plain": [
       "Text(0.5, 0, 'Age at publication (years)')"
      ]
     },
     "execution_count": 78,
     "metadata": {},
     "output_type": "execute_result"
    },
    {
     "data": {
      "image/png": "[encoded data removed]",
      "text/plain": [
       "<Figure size 720x720 with 1 Axes>"
      ]
     },
     "metadata": {},
     "output_type": "display_data"
    }
   ],
   "source": [
    "f, ax = plt.subplots(figsize=(10,10))\n",
    "\n",
    "ax.scatter(metadata_df.age_at_publication, mean_prop_rep_idea_density)\n",
    "\n",
    "\n",
    "plt.xticks(rotation=45);\n",
    "ax.set_ylabel('DEPID-R')\n",
    "ax.set_xlabel('Age at publication (years)')"
   ]
  },
  {
   "cell_type": "code",
   "execution_count": 80,
   "id": "f442491e",
   "metadata": {},
   "outputs": [],
   "source": [
    "from scipy.stats import kendalltau"
   ]
  },
  {
   "cell_type": "code",
   "execution_count": 85,
   "id": "c55db5d5",
   "metadata": {},
   "outputs": [
    {
     "name": "stderr",
     "output_type": "stream",
     "text": [
      "100%|██████████████████████████████████████████████████████████████████████████████████| 24/24 [00:15<00:00,  1.57it/s]\n",
      "  0%|                                                                                           | 0/21 [00:00<?, ?it/s]"
     ]
    },
    {
     "name": "stdout",
     "output_type": "stream",
     "text": [
      "KendalltauResult(correlation=0.16666666666666669, pvalue=0.2675071977260416)\n"
     ]
    },
    {
     "name": "stderr",
     "output_type": "stream",
     "text": [
      "100%|██████████████████████████████████████████████████████████████████████████████████| 21/21 [00:11<00:00,  1.76it/s]\n",
      "  0%|                                                                                           | 0/28 [00:00<?, ?it/s]"
     ]
    },
    {
     "name": "stdout",
     "output_type": "stream",
     "text": [
      "KendalltauResult(correlation=-0.29523809523809524, pvalue=0.06493357769830031)\n"
     ]
    },
    {
     "name": "stderr",
     "output_type": "stream",
     "text": [
      "100%|██████████████████████████████████████████████████████████████████████████████████| 28/28 [00:17<00:00,  1.64it/s]\n",
      "  0%|                                                                                           | 0/34 [00:00<?, ?it/s]"
     ]
    },
    {
     "name": "stdout",
     "output_type": "stream",
     "text": [
      "KendalltauResult(correlation=0.07407407407407407, pvalue=0.5969690066080101)\n"
     ]
    },
    {
     "name": "stderr",
     "output_type": "stream",
     "text": [
      "100%|██████████████████████████████████████████████████████████████████████████████████| 34/34 [00:19<00:00,  1.71it/s]\n",
      "  0%|                                                                                           | 0/38 [00:00<?, ?it/s]"
     ]
    },
    {
     "name": "stdout",
     "output_type": "stream",
     "text": [
      "KendalltauResult(correlation=0.08021390374331552, pvalue=0.5047082923756476)\n"
     ]
    },
    {
     "name": "stderr",
     "output_type": "stream",
     "text": [
      "100%|██████████████████████████████████████████████████████████████████████████████████| 38/38 [00:23<00:00,  1.60it/s]\n",
      "  0%|                                                                                           | 0/41 [00:00<?, ?it/s]"
     ]
    },
    {
     "name": "stdout",
     "output_type": "stream",
     "text": [
      "KendalltauResult(correlation=-0.052631578947368425, pvalue=0.6418165399455933)\n"
     ]
    },
    {
     "name": "stderr",
     "output_type": "stream",
     "text": [
      "100%|██████████████████████████████████████████████████████████████████████████████████| 41/41 [00:25<00:00,  1.59it/s]\n",
      "  0%|                                                                                           | 0/39 [00:00<?, ?it/s]"
     ]
    },
    {
     "name": "stdout",
     "output_type": "stream",
     "text": [
      "KendalltauResult(correlation=-0.18536585365853658, pvalue=0.08777474156950767)\n"
     ]
    },
    {
     "name": "stderr",
     "output_type": "stream",
     "text": [
      "100%|██████████████████████████████████████████████████████████████████████████████████| 39/39 [00:24<00:00,  1.56it/s]\n",
      "  0%|                                                                                           | 0/45 [00:00<?, ?it/s]"
     ]
    },
    {
     "name": "stdout",
     "output_type": "stream",
     "text": [
      "KendalltauResult(correlation=-0.07692307692307693, pvalue=0.49049500055979334)\n"
     ]
    },
    {
     "name": "stderr",
     "output_type": "stream",
     "text": [
      "100%|██████████████████████████████████████████████████████████████████████████████████| 45/45 [00:28<00:00,  1.59it/s]\n",
      "  0%|                                                                                           | 0/16 [00:00<?, ?it/s]"
     ]
    },
    {
     "name": "stdout",
     "output_type": "stream",
     "text": [
      "KendalltauResult(correlation=0.07676767676767676, pvalue=0.4572054683185859)\n"
     ]
    },
    {
     "name": "stderr",
     "output_type": "stream",
     "text": [
      "100%|██████████████████████████████████████████████████████████████████████████████████| 16/16 [00:08<00:00,  1.95it/s]\n",
      "  0%|                                                                                           | 0/52 [00:00<?, ?it/s]"
     ]
    },
    {
     "name": "stdout",
     "output_type": "stream",
     "text": [
      "KendalltauResult(correlation=-0.19999999999999998, pvalue=0.3057265481534429)\n"
     ]
    },
    {
     "name": "stderr",
     "output_type": "stream",
     "text": [
      "100%|██████████████████████████████████████████████████████████████████████████████████| 52/52 [00:30<00:00,  1.73it/s]\n",
      "  0%|                                                                                           | 0/48 [00:00<?, ?it/s]"
     ]
    },
    {
     "name": "stdout",
     "output_type": "stream",
     "text": [
      "KendalltauResult(correlation=0.15233785822021118, pvalue=0.11093661355967166)\n"
     ]
    },
    {
     "name": "stderr",
     "output_type": "stream",
     "text": [
      "100%|██████████████████████████████████████████████████████████████████████████████████| 48/48 [00:26<00:00,  1.79it/s]\n",
      "  0%|                                                                                           | 0/44 [00:00<?, ?it/s]"
     ]
    },
    {
     "name": "stdout",
     "output_type": "stream",
     "text": [
      "KendalltauResult(correlation=-0.009756098520272663, pvalue=0.9221130986855427)\n"
     ]
    },
    {
     "name": "stderr",
     "output_type": "stream",
     "text": [
      "100%|██████████████████████████████████████████████████████████████████████████████████| 44/44 [00:26<00:00,  1.68it/s]\n",
      "  0%|                                                                                           | 0/52 [00:00<?, ?it/s]"
     ]
    },
    {
     "name": "stdout",
     "output_type": "stream",
     "text": [
      "KendalltauResult(correlation=0.02959830866807611, pvalue=0.7770240309114536)\n"
     ]
    },
    {
     "name": "stderr",
     "output_type": "stream",
     "text": [
      "100%|██████████████████████████████████████████████████████████████████████████████████| 52/52 [00:29<00:00,  1.75it/s]\n",
      "  0%|                                                                                           | 0/51 [00:00<?, ?it/s]"
     ]
    },
    {
     "name": "stdout",
     "output_type": "stream",
     "text": [
      "KendalltauResult(correlation=-0.10256410256410256, pvalue=0.28318750066025977)\n"
     ]
    },
    {
     "name": "stderr",
     "output_type": "stream",
     "text": [
      "100%|██████████████████████████████████████████████████████████████████████████████████| 51/51 [00:28<00:00,  1.82it/s]\n",
      "  0%|                                                                                           | 0/56 [00:00<?, ?it/s]"
     ]
    },
    {
     "name": "stdout",
     "output_type": "stream",
     "text": [
      "KendalltauResult(correlation=0.04470588235294118, pvalue=0.6433887141131246)\n"
     ]
    },
    {
     "name": "stderr",
     "output_type": "stream",
     "text": [
      "100%|██████████████████████████████████████████████████████████████████████████████████| 56/56 [00:32<00:00,  1.70it/s]\n",
      "  0%|                                                                                           | 0/57 [00:00<?, ?it/s]"
     ]
    },
    {
     "name": "stdout",
     "output_type": "stream",
     "text": [
      "KendalltauResult(correlation=-0.02727272727272728, pvalue=0.7665913629461374)\n"
     ]
    },
    {
     "name": "stderr",
     "output_type": "stream",
     "text": [
      "100%|██████████████████████████████████████████████████████████████████████████████████| 57/57 [00:32<00:00,  1.75it/s]\n",
      "  0%|                                                                                           | 0/51 [00:00<?, ?it/s]"
     ]
    },
    {
     "name": "stdout",
     "output_type": "stream",
     "text": [
      "KendalltauResult(correlation=0.030075187969924817, pvalue=0.7410790442047155)\n"
     ]
    },
    {
     "name": "stderr",
     "output_type": "stream",
     "text": [
      "100%|██████████████████████████████████████████████████████████████████████████████████| 51/51 [00:28<00:00,  1.78it/s]\n",
      "  0%|                                                                                           | 0/48 [00:00<?, ?it/s]"
     ]
    },
    {
     "name": "stdout",
     "output_type": "stream",
     "text": [
      "KendalltauResult(correlation=-0.18431372549019612, pvalue=0.05629827186566439)\n"
     ]
    },
    {
     "name": "stderr",
     "output_type": "stream",
     "text": [
      "100%|██████████████████████████████████████████████████████████████████████████████████| 48/48 [00:27<00:00,  1.74it/s]\n",
      "  0%|                                                                                           | 0/48 [00:00<?, ?it/s]"
     ]
    },
    {
     "name": "stdout",
     "output_type": "stream",
     "text": [
      "KendalltauResult(correlation=0.010638297872340427, pvalue=0.915061506100966)\n"
     ]
    },
    {
     "name": "stderr",
     "output_type": "stream",
     "text": [
      "100%|██████████████████████████████████████████████████████████████████████████████████| 48/48 [00:27<00:00,  1.75it/s]\n",
      "  0%|                                                                                           | 0/52 [00:00<?, ?it/s]"
     ]
    },
    {
     "name": "stdout",
     "output_type": "stream",
     "text": [
      "KendalltauResult(correlation=-0.05141843971631206, pvalue=0.6061992398238222)\n"
     ]
    },
    {
     "name": "stderr",
     "output_type": "stream",
     "text": [
      "100%|██████████████████████████████████████████████████████████████████████████████████| 52/52 [00:24<00:00,  2.10it/s]\n",
      "  0%|                                                                                           | 0/57 [00:00<?, ?it/s]"
     ]
    },
    {
     "name": "stdout",
     "output_type": "stream",
     "text": [
      "KendalltauResult(correlation=-0.10407239819004525, pvalue=0.2761677627161072)\n"
     ]
    },
    {
     "name": "stderr",
     "output_type": "stream",
     "text": [
      "100%|██████████████████████████████████████████████████████████████████████████████████| 57/57 [00:19<00:00,  3.00it/s]\n",
      "  0%|                                                                                           | 0/46 [00:00<?, ?it/s]"
     ]
    },
    {
     "name": "stdout",
     "output_type": "stream",
     "text": [
      "KendalltauResult(correlation=-0.15664160401002508, pvalue=0.08525767775033599)\n"
     ]
    },
    {
     "name": "stderr",
     "output_type": "stream",
     "text": [
      "100%|██████████████████████████████████████████████████████████████████████████████████| 46/46 [00:16<00:00,  2.81it/s]\n",
      "  0%|                                                                                           | 0/50 [00:00<?, ?it/s]"
     ]
    },
    {
     "name": "stdout",
     "output_type": "stream",
     "text": [
      "KendalltauResult(correlation=0.0009661835748792271, pvalue=0.9924456207213618)\n"
     ]
    },
    {
     "name": "stderr",
     "output_type": "stream",
     "text": [
      "100%|██████████████████████████████████████████████████████████████████████████████████| 50/50 [00:17<00:00,  2.80it/s]\n",
      "  0%|                                                                                           | 0/56 [00:00<?, ?it/s]"
     ]
    },
    {
     "name": "stdout",
     "output_type": "stream",
     "text": [
      "KendalltauResult(correlation=-0.044897959183673466, pvalue=0.6454680027221649)\n"
     ]
    },
    {
     "name": "stderr",
     "output_type": "stream",
     "text": [
      "100%|██████████████████████████████████████████████████████████████████████████████████| 56/56 [00:18<00:00,  3.04it/s]\n",
      "  0%|                                                                                           | 0/52 [00:00<?, ?it/s]"
     ]
    },
    {
     "name": "stdout",
     "output_type": "stream",
     "text": [
      "KendalltauResult(correlation=-0.07272727272727274, pvalue=0.4286149963228659)\n"
     ]
    },
    {
     "name": "stderr",
     "output_type": "stream",
     "text": [
      "100%|██████████████████████████████████████████████████████████████████████████████████| 52/52 [00:17<00:00,  2.89it/s]\n",
      "  0%|                                                                                           | 0/50 [00:00<?, ?it/s]"
     ]
    },
    {
     "name": "stdout",
     "output_type": "stream",
     "text": [
      "KendalltauResult(correlation=-0.3936651583710407, pvalue=3.8028601951543816e-05)\n",
      "Repetition rates vary significantly with place in text: The Truth\n",
      "\tKendall's tau: -0.3936651583710407\n"
     ]
    },
    {
     "name": "stderr",
     "output_type": "stream",
     "text": [
      "100%|██████████████████████████████████████████████████████████████████████████████████| 50/50 [00:16<00:00,  2.97it/s]\n",
      "  0%|                                                                                           | 0/20 [00:00<?, ?it/s]"
     ]
    },
    {
     "name": "stdout",
     "output_type": "stream",
     "text": [
      "KendalltauResult(correlation=-0.09551020408163266, pvalue=0.3277339857249213)\n"
     ]
    },
    {
     "name": "stderr",
     "output_type": "stream",
     "text": [
      "100%|██████████████████████████████████████████████████████████████████████████████████| 20/20 [00:06<00:00,  2.98it/s]\n",
      "  0%|                                                                                           | 0/49 [00:00<?, ?it/s]"
     ]
    },
    {
     "name": "stdout",
     "output_type": "stream",
     "text": [
      "KendalltauResult(correlation=-0.3473684210526316, pvalue=0.033643947242160896)\n",
      "Repetition rates vary significantly with place in text: The Last Hero\n",
      "\tKendall's tau: -0.3473684210526316\n"
     ]
    },
    {
     "name": "stderr",
     "output_type": "stream",
     "text": [
      "100%|██████████████████████████████████████████████████████████████████████████████████| 49/49 [00:17<00:00,  2.73it/s]\n",
      "  0%|                                                                                           | 0/50 [00:00<?, ?it/s]"
     ]
    },
    {
     "name": "stdout",
     "output_type": "stream",
     "text": [
      "KendalltauResult(correlation=0.08163265306122447, pvalue=0.40795133408745543)\n"
     ]
    },
    {
     "name": "stderr",
     "output_type": "stream",
     "text": [
      "100%|██████████████████████████████████████████████████████████████████████████████████| 50/50 [00:18<00:00,  2.74it/s]\n",
      "  0%|                                                                                           | 0/44 [00:00<?, ?it/s]"
     ]
    },
    {
     "name": "stdout",
     "output_type": "stream",
     "text": [
      "KendalltauResult(correlation=-0.20816326530612245, pvalue=0.0329215491285852)\n",
      "Repetition rates vary significantly with place in text: Monstrous Regiment\n",
      "\tKendall's tau: -0.20816326530612245\n"
     ]
    },
    {
     "name": "stderr",
     "output_type": "stream",
     "text": [
      "100%|██████████████████████████████████████████████████████████████████████████████████| 44/44 [00:17<00:00,  2.50it/s]\n",
      "  0%|                                                                                           | 0/43 [00:00<?, ?it/s]"
     ]
    },
    {
     "name": "stdout",
     "output_type": "stream",
     "text": [
      "KendalltauResult(correlation=-0.25581395348837205, pvalue=0.014379066957998192)\n",
      "Repetition rates vary significantly with place in text: Going Postal\n",
      "\tKendall's tau: -0.25581395348837205\n"
     ]
    },
    {
     "name": "stderr",
     "output_type": "stream",
     "text": [
      "100%|██████████████████████████████████████████████████████████████████████████████████| 43/43 [00:16<00:00,  2.62it/s]\n",
      "  0%|                                                                                           | 0/45 [00:00<?, ?it/s]"
     ]
    },
    {
     "name": "stdout",
     "output_type": "stream",
     "text": [
      "KendalltauResult(correlation=-0.034330011074197114, pvalue=0.7456139970722526)\n"
     ]
    },
    {
     "name": "stderr",
     "output_type": "stream",
     "text": [
      "100%|██████████████████████████████████████████████████████████████████████████████████| 45/45 [00:18<00:00,  2.43it/s]\n",
      "  0%|                                                                                           | 0/48 [00:00<?, ?it/s]"
     ]
    },
    {
     "name": "stdout",
     "output_type": "stream",
     "text": [
      "KendalltauResult(correlation=-0.0404040404040404, pvalue=0.6955808273182372)\n"
     ]
    },
    {
     "name": "stderr",
     "output_type": "stream",
     "text": [
      "100%|██████████████████████████████████████████████████████████████████████████████████| 48/48 [00:21<00:00,  2.19it/s]\n",
      "  0%|                                                                                           | 0/24 [00:00<?, ?it/s]"
     ]
    },
    {
     "name": "stdout",
     "output_type": "stream",
     "text": [
      "KendalltauResult(correlation=-0.3510638297872341, pvalue=0.0004320938371330456)\n",
      "Repetition rates vary significantly with place in text: Unseen Academicals\n",
      "\tKendall's tau: -0.3510638297872341\n"
     ]
    },
    {
     "name": "stderr",
     "output_type": "stream",
     "text": [
      "100%|██████████████████████████████████████████████████████████████████████████████████| 24/24 [00:15<00:00,  1.59it/s]\n",
      "  0%|                                                                                           | 0/24 [00:00<?, ?it/s]"
     ]
    },
    {
     "name": "stdout",
     "output_type": "stream",
     "text": [
      "KendalltauResult(correlation=-0.24637681159420288, pvalue=0.09679484130838545)\n"
     ]
    },
    {
     "name": "stderr",
     "output_type": "stream",
     "text": [
      "100%|██████████████████████████████████████████████████████████████████████████████████| 24/24 [00:17<00:00,  1.41it/s]"
     ]
    },
    {
     "name": "stdout",
     "output_type": "stream",
     "text": [
      "KendalltauResult(correlation=0.057971014492753624, pvalue=0.7128203407600773)\n"
     ]
    },
    {
     "name": "stderr",
     "output_type": "stream",
     "text": [
      "\n"
     ]
    }
   ],
   "source": [
    "problematic_books = []\n",
    "\n",
    "\n",
    "for i in range(metadata_df.shape[0]):\n",
    "    book = metadata_df.loc[i, 'text']\n",
    "    ps = book.split('\\n')\n",
    "    chunks = []\n",
    "    \n",
    "    # Get a list of chunks containing 100 paragraph elements each\n",
    "    for ii in range(0, len(ps), 100):\n",
    "        if len(ps[ii:ii + 100]) == 100: # do not include trailing words after the the last whole segment\n",
    "            chunks.append(ps[ii:ii + 100])\n",
    "    \n",
    "    # Initialize lists to store DEPID-R measurements in \n",
    "    book_rep_idea_densities_per100_paragraphs = []\n",
    "    \n",
    "    for chunk in tqdm(chunks):\n",
    "        # reset proposition counter\n",
    "        prop_counter = Depid(count_conjunctions=args.conj)\n",
    "        \n",
    "        # Count propositions in each of the 100 paragraph elements\n",
    "        for p in chunk:\n",
    "            txt = nlp(p.strip())\n",
    "            for sent in txt.sents:\n",
    "                tokens_out = prop_counter.count_propositions(sent)\n",
    "                \n",
    "        num_props = prop_counter.num_propositions()\n",
    "        num_props_rep = prop_counter.num_propositions(rep=True)\n",
    "        num_tokens = prop_counter.num_tokens\n",
    "\n",
    "        prop_rep_id = safe_division(num_props_rep, num_tokens)\n",
    "        \n",
    "        book_rep_idea_densities_per100_paragraphs.append(prop_rep_id)\n",
    "     \n",
    "    num_indices = len(book_rep_idea_densities_per100_paragraphs)\n",
    "    tau_results = kendalltau(range(num_indices), book_rep_idea_densities_per100_paragraphs)\n",
    "    print(tau_results)\n",
    "    if tau_results[1] <= 0.05:\n",
    "        print(\"Repetition rates vary significantly with place in text: \" + metadata_df.loc[i, 'title'])\n",
    "        print(\"\\tKendall's tau: \" + str(tau_results[0]))\n",
    "        problematic_books.append(metadata_df.loc[i, 'title'])"
   ]
  },
  {
   "cell_type": "code",
   "execution_count": 86,
   "id": "6a402938",
   "metadata": {},
   "outputs": [
    {
     "data": {
      "text/plain": [
       "['The Truth',\n",
       " 'The Last Hero',\n",
       " 'Monstrous Regiment',\n",
       " 'Going Postal',\n",
       " 'Unseen Academicals']"
      ]
     },
     "execution_count": 86,
     "metadata": {},
     "output_type": "execute_result"
    }
   ],
   "source": [
    "problematic_books"
   ]
  },
  {
   "cell_type": "code",
   "execution_count": 87,
   "id": "69285b13",
   "metadata": {},
   "outputs": [
    {
     "data": {
      "text/plain": [
       "Text(0.5, 0, 'Age at publication (years)')"
      ]
     },
     "execution_count": 87,
     "metadata": {},
     "output_type": "execute_result"
    },
    {
     "data": {
      "image/png": "[encoded data removed]",
      "text/plain": [
       "<Figure size 720x720 with 1 Axes>"
      ]
     },
     "metadata": {},
     "output_type": "display_data"
    }
   ],
   "source": [
    "col =[]\n",
    "  \n",
    "for title in metadata_df.title:\n",
    "    if title not in problematic_books:\n",
    "        col.append('blue')  \n",
    "    else:\n",
    "        col.append('red')\n",
    "        \n",
    "f, ax = plt.subplots(figsize=(10,10))\n",
    "\n",
    "ax.scatter(metadata_df.age_at_publication, mean_prop_rep_idea_density, c=col)\n",
    "#ax.errorbar(metadata_df.age_at_publication, mean_ttr_2000tok, yerr=std_ttr_2000tok, fmt=\"o\")\n",
    "\n",
    "\n",
    "plt.xticks(rotation=45);\n",
    "ax.set_ylabel('Mean DEPID-R (100-paragraph samples)')\n",
    "ax.set_xlabel('Age at publication (years)')"
   ]
  },
  {
   "cell_type": "code",
   "execution_count": 88,
   "id": "ae42aaf4",
   "metadata": {},
   "outputs": [
    {
     "data": {
      "text/plain": [
       "[False,\n",
       " False,\n",
       " False,\n",
       " False,\n",
       " False,\n",
       " False,\n",
       " False,\n",
       " False,\n",
       " False,\n",
       " False,\n",
       " False,\n",
       " False,\n",
       " False,\n",
       " False,\n",
       " False,\n",
       " False,\n",
       " False,\n",
       " False,\n",
       " False,\n",
       " False,\n",
       " False,\n",
       " False,\n",
       " False,\n",
       " False,\n",
       " True,\n",
       " False,\n",
       " True,\n",
       " False,\n",
       " True,\n",
       " True,\n",
       " False,\n",
       " False,\n",
       " True,\n",
       " False,\n",
       " False]"
      ]
     },
     "execution_count": 88,
     "metadata": {},
     "output_type": "execute_result"
    }
   ],
   "source": [
    "DEPIDR_sig_internal_variation = [True if title in problematic_books else False for title in metadata_df.title]\n",
    "DEPIDR_sig_internal_variation"
   ]
  },
  {
   "cell_type": "code",
   "execution_count": 89,
   "id": "61457749",
   "metadata": {},
   "outputs": [
    {
     "data": {
      "text/html": [
       "<div>\n",
       "<style scoped>\n",
       "    .dataframe tbody tr th:only-of-type {\n",
       "        vertical-align: middle;\n",
       "    }\n",
       "\n",
       "    .dataframe tbody tr th {\n",
       "        vertical-align: top;\n",
       "    }\n",
       "\n",
       "    .dataframe thead th {\n",
       "        text-align: right;\n",
       "    }\n",
       "</style>\n",
       "<table border=\"1\" class=\"dataframe\">\n",
       "  <thead>\n",
       "    <tr style=\"text-align: right;\">\n",
       "      <th></th>\n",
       "      <th>title</th>\n",
       "      <th>year_of_publication</th>\n",
       "      <th>age_at_publication</th>\n",
       "      <th>YA</th>\n",
       "      <th>propositional_idea_density</th>\n",
       "      <th>mean_propositional_rep_idea_density_100p</th>\n",
       "      <th>DEPIDR_sig_internalvar</th>\n",
       "    </tr>\n",
       "  </thead>\n",
       "  <tbody>\n",
       "    <tr>\n",
       "      <th>0</th>\n",
       "      <td>The Color Of Magic</td>\n",
       "      <td>1983</td>\n",
       "      <td>35.580002</td>\n",
       "      <td>False</td>\n",
       "      <td>0.511190</td>\n",
       "      <td>0.459283</td>\n",
       "      <td>False</td>\n",
       "    </tr>\n",
       "    <tr>\n",
       "      <th>1</th>\n",
       "      <td>The Light Fantastic</td>\n",
       "      <td>1986</td>\n",
       "      <td>38.099998</td>\n",
       "      <td>False</td>\n",
       "      <td>0.495455</td>\n",
       "      <td>0.434966</td>\n",
       "      <td>False</td>\n",
       "    </tr>\n",
       "    <tr>\n",
       "      <th>2</th>\n",
       "      <td>Equal Rites</td>\n",
       "      <td>1987</td>\n",
       "      <td>38.720001</td>\n",
       "      <td>False</td>\n",
       "      <td>0.493996</td>\n",
       "      <td>0.434429</td>\n",
       "      <td>False</td>\n",
       "    </tr>\n",
       "    <tr>\n",
       "      <th>3</th>\n",
       "      <td>Mort</td>\n",
       "      <td>1987</td>\n",
       "      <td>39.509998</td>\n",
       "      <td>False</td>\n",
       "      <td>0.498661</td>\n",
       "      <td>0.441223</td>\n",
       "      <td>False</td>\n",
       "    </tr>\n",
       "    <tr>\n",
       "      <th>4</th>\n",
       "      <td>Sourcery</td>\n",
       "      <td>1988</td>\n",
       "      <td>40.080002</td>\n",
       "      <td>False</td>\n",
       "      <td>0.501762</td>\n",
       "      <td>0.445362</td>\n",
       "      <td>False</td>\n",
       "    </tr>\n",
       "    <tr>\n",
       "      <th>5</th>\n",
       "      <td>Wyrd Sisters</td>\n",
       "      <td>1988</td>\n",
       "      <td>40.540001</td>\n",
       "      <td>False</td>\n",
       "      <td>0.492452</td>\n",
       "      <td>0.431473</td>\n",
       "      <td>False</td>\n",
       "    </tr>\n",
       "    <tr>\n",
       "      <th>6</th>\n",
       "      <td>Pyramids</td>\n",
       "      <td>1989</td>\n",
       "      <td>41.130001</td>\n",
       "      <td>False</td>\n",
       "      <td>0.496741</td>\n",
       "      <td>0.433746</td>\n",
       "      <td>False</td>\n",
       "    </tr>\n",
       "    <tr>\n",
       "      <th>7</th>\n",
       "      <td>Guards! Guards!</td>\n",
       "      <td>1989</td>\n",
       "      <td>41.529999</td>\n",
       "      <td>False</td>\n",
       "      <td>0.486830</td>\n",
       "      <td>0.425471</td>\n",
       "      <td>False</td>\n",
       "    </tr>\n",
       "    <tr>\n",
       "      <th>8</th>\n",
       "      <td>Eric</td>\n",
       "      <td>1990</td>\n",
       "      <td>42.299999</td>\n",
       "      <td>False</td>\n",
       "      <td>0.486547</td>\n",
       "      <td>0.421379</td>\n",
       "      <td>False</td>\n",
       "    </tr>\n",
       "    <tr>\n",
       "      <th>9</th>\n",
       "      <td>Moving Pictures</td>\n",
       "      <td>1990</td>\n",
       "      <td>42.509998</td>\n",
       "      <td>False</td>\n",
       "      <td>0.479431</td>\n",
       "      <td>0.417183</td>\n",
       "      <td>False</td>\n",
       "    </tr>\n",
       "    <tr>\n",
       "      <th>10</th>\n",
       "      <td>Reaper Man</td>\n",
       "      <td>1991</td>\n",
       "      <td>43.070000</td>\n",
       "      <td>False</td>\n",
       "      <td>0.477442</td>\n",
       "      <td>0.422695</td>\n",
       "      <td>False</td>\n",
       "    </tr>\n",
       "    <tr>\n",
       "      <th>11</th>\n",
       "      <td>Witches Abroad</td>\n",
       "      <td>1991</td>\n",
       "      <td>43.529999</td>\n",
       "      <td>False</td>\n",
       "      <td>0.484764</td>\n",
       "      <td>0.417538</td>\n",
       "      <td>False</td>\n",
       "    </tr>\n",
       "    <tr>\n",
       "      <th>12</th>\n",
       "      <td>Small Gods</td>\n",
       "      <td>1992</td>\n",
       "      <td>44.060001</td>\n",
       "      <td>False</td>\n",
       "      <td>0.484345</td>\n",
       "      <td>0.421045</td>\n",
       "      <td>False</td>\n",
       "    </tr>\n",
       "    <tr>\n",
       "      <th>13</th>\n",
       "      <td>Lords and Ladies</td>\n",
       "      <td>1992</td>\n",
       "      <td>44.520000</td>\n",
       "      <td>False</td>\n",
       "      <td>0.476996</td>\n",
       "      <td>0.418711</td>\n",
       "      <td>False</td>\n",
       "    </tr>\n",
       "    <tr>\n",
       "      <th>14</th>\n",
       "      <td>Men at Arms</td>\n",
       "      <td>1993</td>\n",
       "      <td>45.540001</td>\n",
       "      <td>False</td>\n",
       "      <td>0.474991</td>\n",
       "      <td>0.414931</td>\n",
       "      <td>False</td>\n",
       "    </tr>\n",
       "    <tr>\n",
       "      <th>15</th>\n",
       "      <td>Soul Music</td>\n",
       "      <td>1994</td>\n",
       "      <td>46.060001</td>\n",
       "      <td>False</td>\n",
       "      <td>0.475878</td>\n",
       "      <td>0.416285</td>\n",
       "      <td>False</td>\n",
       "    </tr>\n",
       "    <tr>\n",
       "      <th>16</th>\n",
       "      <td>Interesting Times</td>\n",
       "      <td>1994</td>\n",
       "      <td>46.520000</td>\n",
       "      <td>False</td>\n",
       "      <td>0.478278</td>\n",
       "      <td>0.419067</td>\n",
       "      <td>False</td>\n",
       "    </tr>\n",
       "    <tr>\n",
       "      <th>17</th>\n",
       "      <td>Maskerade</td>\n",
       "      <td>1995</td>\n",
       "      <td>47.520000</td>\n",
       "      <td>False</td>\n",
       "      <td>0.476508</td>\n",
       "      <td>0.421354</td>\n",
       "      <td>False</td>\n",
       "    </tr>\n",
       "    <tr>\n",
       "      <th>18</th>\n",
       "      <td>Feet of Clay</td>\n",
       "      <td>1996</td>\n",
       "      <td>48.080002</td>\n",
       "      <td>False</td>\n",
       "      <td>0.468643</td>\n",
       "      <td>0.413194</td>\n",
       "      <td>False</td>\n",
       "    </tr>\n",
       "    <tr>\n",
       "      <th>19</th>\n",
       "      <td>Hogfather</td>\n",
       "      <td>1996</td>\n",
       "      <td>48.509998</td>\n",
       "      <td>False</td>\n",
       "      <td>0.472603</td>\n",
       "      <td>0.412801</td>\n",
       "      <td>False</td>\n",
       "    </tr>\n",
       "    <tr>\n",
       "      <th>20</th>\n",
       "      <td>Jingo</td>\n",
       "      <td>1997</td>\n",
       "      <td>49.529999</td>\n",
       "      <td>False</td>\n",
       "      <td>0.479633</td>\n",
       "      <td>0.422443</td>\n",
       "      <td>False</td>\n",
       "    </tr>\n",
       "    <tr>\n",
       "      <th>21</th>\n",
       "      <td>The Last Continent</td>\n",
       "      <td>1998</td>\n",
       "      <td>50.009998</td>\n",
       "      <td>False</td>\n",
       "      <td>0.483214</td>\n",
       "      <td>0.421036</td>\n",
       "      <td>False</td>\n",
       "    </tr>\n",
       "    <tr>\n",
       "      <th>22</th>\n",
       "      <td>Carpe Jugulum</td>\n",
       "      <td>1998</td>\n",
       "      <td>50.520000</td>\n",
       "      <td>False</td>\n",
       "      <td>0.483877</td>\n",
       "      <td>0.423534</td>\n",
       "      <td>False</td>\n",
       "    </tr>\n",
       "    <tr>\n",
       "      <th>23</th>\n",
       "      <td>The Fifth Elephant</td>\n",
       "      <td>1999</td>\n",
       "      <td>51.520000</td>\n",
       "      <td>False</td>\n",
       "      <td>0.482783</td>\n",
       "      <td>0.427266</td>\n",
       "      <td>False</td>\n",
       "    </tr>\n",
       "    <tr>\n",
       "      <th>24</th>\n",
       "      <td>The Truth</td>\n",
       "      <td>2000</td>\n",
       "      <td>52.520000</td>\n",
       "      <td>False</td>\n",
       "      <td>0.473502</td>\n",
       "      <td>0.410451</td>\n",
       "      <td>True</td>\n",
       "    </tr>\n",
       "    <tr>\n",
       "      <th>25</th>\n",
       "      <td>Thief of Time</td>\n",
       "      <td>2001</td>\n",
       "      <td>53.009998</td>\n",
       "      <td>False</td>\n",
       "      <td>0.473893</td>\n",
       "      <td>0.411691</td>\n",
       "      <td>False</td>\n",
       "    </tr>\n",
       "    <tr>\n",
       "      <th>26</th>\n",
       "      <td>The Last Hero</td>\n",
       "      <td>2001</td>\n",
       "      <td>53.470001</td>\n",
       "      <td>False</td>\n",
       "      <td>0.475746</td>\n",
       "      <td>0.412467</td>\n",
       "      <td>True</td>\n",
       "    </tr>\n",
       "    <tr>\n",
       "      <th>27</th>\n",
       "      <td>Night Watch</td>\n",
       "      <td>2002</td>\n",
       "      <td>54.529999</td>\n",
       "      <td>False</td>\n",
       "      <td>0.479531</td>\n",
       "      <td>0.416456</td>\n",
       "      <td>False</td>\n",
       "    </tr>\n",
       "    <tr>\n",
       "      <th>28</th>\n",
       "      <td>Monstrous Regiment</td>\n",
       "      <td>2003</td>\n",
       "      <td>55.430000</td>\n",
       "      <td>False</td>\n",
       "      <td>0.483157</td>\n",
       "      <td>0.420484</td>\n",
       "      <td>True</td>\n",
       "    </tr>\n",
       "    <tr>\n",
       "      <th>29</th>\n",
       "      <td>Going Postal</td>\n",
       "      <td>2004</td>\n",
       "      <td>56.430000</td>\n",
       "      <td>False</td>\n",
       "      <td>0.477386</td>\n",
       "      <td>0.411164</td>\n",
       "      <td>True</td>\n",
       "    </tr>\n",
       "    <tr>\n",
       "      <th>30</th>\n",
       "      <td>Thud!</td>\n",
       "      <td>2005</td>\n",
       "      <td>57.410000</td>\n",
       "      <td>False</td>\n",
       "      <td>0.478380</td>\n",
       "      <td>0.414424</td>\n",
       "      <td>False</td>\n",
       "    </tr>\n",
       "    <tr>\n",
       "      <th>31</th>\n",
       "      <td>Making Money</td>\n",
       "      <td>2007</td>\n",
       "      <td>59.410000</td>\n",
       "      <td>False</td>\n",
       "      <td>0.480126</td>\n",
       "      <td>0.417142</td>\n",
       "      <td>False</td>\n",
       "    </tr>\n",
       "    <tr>\n",
       "      <th>32</th>\n",
       "      <td>Unseen Academicals</td>\n",
       "      <td>2009</td>\n",
       "      <td>61.450001</td>\n",
       "      <td>False</td>\n",
       "      <td>0.483694</td>\n",
       "      <td>0.410417</td>\n",
       "      <td>True</td>\n",
       "    </tr>\n",
       "    <tr>\n",
       "      <th>33</th>\n",
       "      <td>Snuff</td>\n",
       "      <td>2011</td>\n",
       "      <td>63.459999</td>\n",
       "      <td>False</td>\n",
       "      <td>0.488543</td>\n",
       "      <td>0.406374</td>\n",
       "      <td>False</td>\n",
       "    </tr>\n",
       "    <tr>\n",
       "      <th>34</th>\n",
       "      <td>Raising Steam</td>\n",
       "      <td>2013</td>\n",
       "      <td>65.489998</td>\n",
       "      <td>False</td>\n",
       "      <td>0.487478</td>\n",
       "      <td>0.415872</td>\n",
       "      <td>False</td>\n",
       "    </tr>\n",
       "  </tbody>\n",
       "</table>\n",
       "</div>"
      ],
      "text/plain": [
       "                  title year_of_publication  age_at_publication     YA  \\\n",
       "0    The Color Of Magic                1983           35.580002  False   \n",
       "1   The Light Fantastic                1986           38.099998  False   \n",
       "2           Equal Rites                1987           38.720001  False   \n",
       "3                  Mort                1987           39.509998  False   \n",
       "4              Sourcery                1988           40.080002  False   \n",
       "5          Wyrd Sisters                1988           40.540001  False   \n",
       "6              Pyramids                1989           41.130001  False   \n",
       "7       Guards! Guards!                1989           41.529999  False   \n",
       "8                  Eric                1990           42.299999  False   \n",
       "9       Moving Pictures                1990           42.509998  False   \n",
       "10           Reaper Man                1991           43.070000  False   \n",
       "11       Witches Abroad                1991           43.529999  False   \n",
       "12           Small Gods                1992           44.060001  False   \n",
       "13     Lords and Ladies                1992           44.520000  False   \n",
       "14          Men at Arms                1993           45.540001  False   \n",
       "15           Soul Music                1994           46.060001  False   \n",
       "16    Interesting Times                1994           46.520000  False   \n",
       "17            Maskerade                1995           47.520000  False   \n",
       "18         Feet of Clay                1996           48.080002  False   \n",
       "19            Hogfather                1996           48.509998  False   \n",
       "20                Jingo                1997           49.529999  False   \n",
       "21   The Last Continent                1998           50.009998  False   \n",
       "22        Carpe Jugulum                1998           50.520000  False   \n",
       "23   The Fifth Elephant                1999           51.520000  False   \n",
       "24            The Truth                2000           52.520000  False   \n",
       "25        Thief of Time                2001           53.009998  False   \n",
       "26        The Last Hero                2001           53.470001  False   \n",
       "27          Night Watch                2002           54.529999  False   \n",
       "28   Monstrous Regiment                2003           55.430000  False   \n",
       "29         Going Postal                2004           56.430000  False   \n",
       "30                Thud!                2005           57.410000  False   \n",
       "31         Making Money                2007           59.410000  False   \n",
       "32   Unseen Academicals                2009           61.450001  False   \n",
       "33                Snuff                2011           63.459999  False   \n",
       "34        Raising Steam                2013           65.489998  False   \n",
       "\n",
       "    propositional_idea_density  mean_propositional_rep_idea_density_100p  \\\n",
       "0                     0.511190                                  0.459283   \n",
       "1                     0.495455                                  0.434966   \n",
       "2                     0.493996                                  0.434429   \n",
       "3                     0.498661                                  0.441223   \n",
       "4                     0.501762                                  0.445362   \n",
       "5                     0.492452                                  0.431473   \n",
       "6                     0.496741                                  0.433746   \n",
       "7                     0.486830                                  0.425471   \n",
       "8                     0.486547                                  0.421379   \n",
       "9                     0.479431                                  0.417183   \n",
       "10                    0.477442                                  0.422695   \n",
       "11                    0.484764                                  0.417538   \n",
       "12                    0.484345                                  0.421045   \n",
       "13                    0.476996                                  0.418711   \n",
       "14                    0.474991                                  0.414931   \n",
       "15                    0.475878                                  0.416285   \n",
       "16                    0.478278                                  0.419067   \n",
       "17                    0.476508                                  0.421354   \n",
       "18                    0.468643                                  0.413194   \n",
       "19                    0.472603                                  0.412801   \n",
       "20                    0.479633                                  0.422443   \n",
       "21                    0.483214                                  0.421036   \n",
       "22                    0.483877                                  0.423534   \n",
       "23                    0.482783                                  0.427266   \n",
       "24                    0.473502                                  0.410451   \n",
       "25                    0.473893                                  0.411691   \n",
       "26                    0.475746                                  0.412467   \n",
       "27                    0.479531                                  0.416456   \n",
       "28                    0.483157                                  0.420484   \n",
       "29                    0.477386                                  0.411164   \n",
       "30                    0.478380                                  0.414424   \n",
       "31                    0.480126                                  0.417142   \n",
       "32                    0.483694                                  0.410417   \n",
       "33                    0.488543                                  0.406374   \n",
       "34                    0.487478                                  0.415872   \n",
       "\n",
       "    DEPIDR_sig_internalvar  \n",
       "0                    False  \n",
       "1                    False  \n",
       "2                    False  \n",
       "3                    False  \n",
       "4                    False  \n",
       "5                    False  \n",
       "6                    False  \n",
       "7                    False  \n",
       "8                    False  \n",
       "9                    False  \n",
       "10                   False  \n",
       "11                   False  \n",
       "12                   False  \n",
       "13                   False  \n",
       "14                   False  \n",
       "15                   False  \n",
       "16                   False  \n",
       "17                   False  \n",
       "18                   False  \n",
       "19                   False  \n",
       "20                   False  \n",
       "21                   False  \n",
       "22                   False  \n",
       "23                   False  \n",
       "24                    True  \n",
       "25                   False  \n",
       "26                    True  \n",
       "27                   False  \n",
       "28                    True  \n",
       "29                    True  \n",
       "30                   False  \n",
       "31                   False  \n",
       "32                    True  \n",
       "33                   False  \n",
       "34                   False  "
      ]
     },
     "execution_count": 89,
     "metadata": {},
     "output_type": "execute_result"
    }
   ],
   "source": [
    "metadata_df['propositional_idea_density'] = prop_idea_density\n",
    "\n",
    "metadata_df['mean_propositional_rep_idea_density_100p'] = mean_prop_rep_idea_density\n",
    "metadata_df['DEPIDR_sig_internalvar'] = DEPIDR_sig_internal_variation\n",
    "\n",
    "\n",
    "notext = metadata_df.drop(['text'], axis=1)\n",
    "notext"
   ]
  },
  {
   "cell_type": "code",
   "execution_count": 90,
   "id": "a37f0117",
   "metadata": {},
   "outputs": [],
   "source": [
    "os.chdir('C:/Users/Dora Sperling/Desktop/Thesis')\n",
    "notext.to_csv(\"propositional_ID_df.csv\", index=False, encoding='utf8')"
   ]
  }
 ],
 "metadata": {
  "kernelspec": {
   "display_name": "Python 3",
   "language": "python",
   "name": "python3"
  },
  "language_info": {
   "codemirror_mode": {
    "name": "ipython",
    "version": 3
   },
   "file_extension": ".py",
   "mimetype": "text/x-python",
   "name": "python",
   "nbconvert_exporter": "python",
   "pygments_lexer": "ipython3",
   "version": "3.8.8"
  }
 },
 "nbformat": 4,
 "nbformat_minor": 5
}
