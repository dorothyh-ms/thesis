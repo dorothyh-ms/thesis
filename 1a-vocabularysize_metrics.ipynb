{
 "cells": [
  {
   "cell_type": "code",
   "execution_count": 1,
   "metadata": {},
   "outputs": [],
   "source": [
    "import lxml.etree\n",
    "import re\n",
    "import pandas as pd\n",
    "import numpy as np\n",
    "import matplotlib.pyplot as plt\n",
    "from collections import Counter\n",
    "#!pip install spacy\n",
    "import spacy\n",
    "from tqdm import tqdm\n",
    "from scipy.stats import kendalltau\n",
    "import os \n",
    "plt.style.use('ggplot')\n",
    "os.environ['KMP_DUPLICATE_LIB_OK']='True'\n",
    "os.chdir('C:/Users/Dora Sperling/Desktop/Thesis/')"
   ]
  },
  {
   "cell_type": "code",
   "execution_count": 13,
   "metadata": {},
   "outputs": [],
   "source": [
    "def clean_text(\n",
    "    string: str, \n",
    "    punctuation=r'''!()[]{};:-'\"‘’“”\\,<>.…/?@#$%^&*_~''') -> str:\n",
    "    '''\n",
    "    Takes a string, removes punctuation, and lowercases.\n",
    "    Returns a string. \n",
    "    '''\n",
    "    # Removing the punctuation\n",
    "    for x in string.lower(): \n",
    "        if x in punctuation: \n",
    "            string = string.replace(x, \"\") \n",
    "    string = re.sub('—', ' ', string)\n",
    "    # Converting the text to lower\n",
    "    string = string.lower()\n",
    "    string = ' '.join([word for word in string.split()])\n",
    "    # Cleaning the whitespaces\n",
    "    string = re.sub(r'\\s+', ' ', string).strip()\n",
    "    return string"
   ]
  },
  {
   "cell_type": "code",
   "execution_count": 14,
   "metadata": {},
   "outputs": [
    {
     "data": {
      "text/html": [
       "<div>\n",
       "<style scoped>\n",
       "    .dataframe tbody tr th:only-of-type {\n",
       "        vertical-align: middle;\n",
       "    }\n",
       "\n",
       "    .dataframe tbody tr th {\n",
       "        vertical-align: top;\n",
       "    }\n",
       "\n",
       "    .dataframe thead th {\n",
       "        text-align: right;\n",
       "    }\n",
       "</style>\n",
       "<table border=\"1\" class=\"dataframe\">\n",
       "  <thead>\n",
       "    <tr style=\"text-align: right;\">\n",
       "      <th></th>\n",
       "      <th>title</th>\n",
       "      <th>year_of_publication</th>\n",
       "      <th>age_at_publication</th>\n",
       "      <th>YA</th>\n",
       "      <th>number_of_words</th>\n",
       "      <th>text</th>\n",
       "      <th>untokenized_text</th>\n",
       "    </tr>\n",
       "  </thead>\n",
       "  <tbody>\n",
       "    <tr>\n",
       "      <th>0</th>\n",
       "      <td>The Color Of Magic</td>\n",
       "      <td>1983</td>\n",
       "      <td>35.58</td>\n",
       "      <td>False</td>\n",
       "      <td>66492</td>\n",
       "      <td>in a distant and secondhand set of dimensions ...</td>\n",
       "      <td>In A distant and secondhand set of dimensions,...</td>\n",
       "    </tr>\n",
       "    <tr>\n",
       "      <th>1</th>\n",
       "      <td>The Light Fantastic</td>\n",
       "      <td>1986</td>\n",
       "      <td>38.10</td>\n",
       "      <td>False</td>\n",
       "      <td>45998</td>\n",
       "      <td>the sun rose slowly as if it was nt sure it wa...</td>\n",
       "      <td>The sun rose slowly, as if it wasn’t sure it w...</td>\n",
       "    </tr>\n",
       "    <tr>\n",
       "      <th>2</th>\n",
       "      <td>Equal Rites</td>\n",
       "      <td>1987</td>\n",
       "      <td>38.72</td>\n",
       "      <td>False</td>\n",
       "      <td>67372</td>\n",
       "      <td>this is a story about magic and where it goes ...</td>\n",
       "      <td>This is a story about magic and where it goes ...</td>\n",
       "    </tr>\n",
       "    <tr>\n",
       "      <th>3</th>\n",
       "      <td>Mort</td>\n",
       "      <td>1987</td>\n",
       "      <td>39.51</td>\n",
       "      <td>False</td>\n",
       "      <td>73987</td>\n",
       "      <td>this is the bright candlelit room where the li...</td>\n",
       "      <td>This is the bright candlelit room where the li...</td>\n",
       "    </tr>\n",
       "    <tr>\n",
       "      <th>4</th>\n",
       "      <td>Sourcery</td>\n",
       "      <td>1988</td>\n",
       "      <td>40.08</td>\n",
       "      <td>False</td>\n",
       "      <td>79536</td>\n",
       "      <td>there was a man and he had eight sons apart fr...</td>\n",
       "      <td>There was a man and he had eight sons. Apart f...</td>\n",
       "    </tr>\n",
       "  </tbody>\n",
       "</table>\n",
       "</div>"
      ],
      "text/plain": [
       "                 title  year_of_publication  age_at_publication     YA  \\\n",
       "0   The Color Of Magic                 1983               35.58  False   \n",
       "1  The Light Fantastic                 1986               38.10  False   \n",
       "2          Equal Rites                 1987               38.72  False   \n",
       "3                 Mort                 1987               39.51  False   \n",
       "4             Sourcery                 1988               40.08  False   \n",
       "\n",
       "   number_of_words                                               text  \\\n",
       "0            66492  in a distant and secondhand set of dimensions ...   \n",
       "1            45998  the sun rose slowly as if it was nt sure it wa...   \n",
       "2            67372  this is a story about magic and where it goes ...   \n",
       "3            73987  this is the bright candlelit room where the li...   \n",
       "4            79536  there was a man and he had eight sons apart fr...   \n",
       "\n",
       "                                    untokenized_text  \n",
       "0  In A distant and secondhand set of dimensions,...  \n",
       "1  The sun rose slowly, as if it wasn’t sure it w...  \n",
       "2  This is a story about magic and where it goes ...  \n",
       "3  This is the bright candlelit room where the li...  \n",
       "4  There was a man and he had eight sons. Apart f...  "
      ]
     },
     "execution_count": 14,
     "metadata": {},
     "output_type": "execute_result"
    }
   ],
   "source": [
    "metadata_df = pd.read_csv('pratchett_metadata.csv')\n",
    "# Only look at adult novels\n",
    "metadata_df = metadata_df[metadata_df.YA == False].reset_index(drop=True)\n",
    "metadata_df.head()"
   ]
  },
  {
   "cell_type": "code",
   "execution_count": 31,
   "metadata": {},
   "outputs": [
    {
     "data": {
      "text/plain": [
       "'in a distant and secondhand set of dimensions in an astral plane that was never meant to fly the curling star mists waver and part see great atuin the turtle comes swimming slowly through the interste'"
      ]
     },
     "execution_count": 31,
     "metadata": {},
     "output_type": "execute_result"
    }
   ],
   "source": [
    "metadata_df.text[0][0:200]"
   ]
  },
  {
   "cell_type": "markdown",
   "metadata": {},
   "source": [
    "# 1. Type-token ratios - 5000-token segments"
   ]
  },
  {
   "cell_type": "code",
   "execution_count": 15,
   "metadata": {},
   "outputs": [],
   "source": [
    "# Define necessary functions\n",
    "\n",
    "def get_chunks(text, n):\n",
    "    '''\n",
    "    Takes a string and an integer.\n",
    "    Divides a string into non-overlapping segments of token length n. \n",
    "    Returns a list of the segments. \n",
    "    '''\n",
    "    tokenlist = text.split()\n",
    "    chunks = []\n",
    "    for i in range(0, len(tokenlist), n):\n",
    "        if len(tokenlist[i:i + n]) == n: # do not include trailing words after the the last whole segment\n",
    "            chunks.append(\" \".join(tokenlist[i:i + n]))\n",
    "    return chunks\n",
    "\n",
    "def mean_std_ttr(cleantext, windowsize):\n",
    "    \"\"\"\n",
    "    Calculates the type-token ratio of all text segments. \n",
    "    Returns the mean and standard deviation of the type-token ratios. \n",
    "    \"\"\"\n",
    "    chunks = get_chunks(cleantext, windowsize)\n",
    "    TT_ratios = []\n",
    "    for chunk in chunks:\n",
    "        types = Counter(chunk.split())\n",
    "        TT_ratios.append(len(types)/windowsize)\n",
    "    return np.mean(TT_ratios), np.std(TT_ratios)\n",
    "\n",
    "\n",
    "\n",
    "# Calculate mean TTR and the standard deviation in TTR per book \n",
    "mean_ttr_5000tok = []\n",
    "std_ttr_5000tok = []\n",
    "\n",
    "for cleaned_text in metadata_df.text:\n",
    "    mean_ttr, std_ttr = mean_std_ttr(cleaned_text, 5000)\n",
    "    mean_ttr_5000tok.append(mean_ttr)\n",
    "    std_ttr_5000tok.append(std_ttr)"
   ]
  },
  {
   "cell_type": "markdown",
   "metadata": {},
   "source": [
    "## 1a. Test assumption that TTR does not increase/decrease significantly over course of book"
   ]
  },
  {
   "cell_type": "code",
   "execution_count": 19,
   "metadata": {},
   "outputs": [
    {
     "name": "stdout",
     "output_type": "stream",
     "text": [
      "TTRs vary significantly with place in text: The Light Fantastic\n",
      "\tKendall's tau: -0.7222222222222222\n",
      "TTRs vary significantly with place in text: Sourcery\n",
      "\tKendall's tau: -0.5428571428571429\n",
      "TTRs vary significantly with place in text: Small Gods\n",
      "\tKendall's tau: -0.3856209150326798\n",
      "TTRs vary significantly with place in text: Men at Arms\n",
      "\tKendall's tau: -0.391812865497076\n",
      "TTRs vary significantly with place in text: Soul Music\n",
      "\tKendall's tau: -0.32844716010296715\n",
      "TTRs vary significantly with place in text: Interesting Times\n",
      "\tKendall's tau: -0.4379084967320262\n",
      "TTRs vary significantly with place in text: Feet of Clay\n",
      "\tKendall's tau: -0.4152046783625731\n",
      "TTRs vary significantly with place in text: Hogfather\n",
      "\tKendall's tau: -0.3684210526315789\n",
      "TTRs vary significantly with place in text: Jingo\n",
      "\tKendall's tau: -0.39047619047619053\n",
      "TTRs vary significantly with place in text: The Truth\n",
      "\tKendall's tau: -0.5966604105161744\n",
      "TTRs vary significantly with place in text: Thief of Time\n",
      "\tKendall's tau: -0.37037555468977446\n",
      "TTRs vary significantly with place in text: The Last Hero\n",
      "\tKendall's tau: -0.6910233190806424\n",
      "TTRs vary significantly with place in text: Monstrous Regiment\n",
      "\tKendall's tau: -0.5335968379446641\n",
      "TTRs vary significantly with place in text: Unseen Academicals\n",
      "\tKendall's tau: -0.4657161866005594\n"
     ]
    }
   ],
   "source": [
    "# Store books where a segment's type-token ratio varies significantly with the segment's place in the book\n",
    "\n",
    "# Tests possibility that type-token ratio might be higher in beginning of book when concepts/characters are\n",
    "# still being introduced to readers\n",
    "\n",
    "\n",
    "problematic_books = []\n",
    "for i in range(metadata_df.shape[0]):\n",
    "    chunks = get_chunks(metadata_df.loc[i, 'text'], 5000)\n",
    "    \n",
    "    TT_ratios = []\n",
    "    for chunk in chunks:\n",
    "        types = Counter(chunk.split())\n",
    "        TT_ratios.append(len(types)/5000)\n",
    "    \n",
    "    # Get the number of indexes in the list storing type-token ratios from a single book\n",
    "    num_indices = len(TT_ratios)\n",
    "    \n",
    "    # Get the Kendall's tau correlation between the segment locations/indexes and the type-token ratios\n",
    "    tau_results = kendalltau(range(num_indices), TT_ratios)\n",
    "    \n",
    "    # If the Kendall's tau correlation is significant, print the book title and correlation\n",
    "    if tau_results[1] <= 0.05:\n",
    "        print(\"TTRs vary significantly with place in text: \" + metadata_df.loc[i, 'title'])\n",
    "        print(\"\\tKendall's tau: \" + str(tau_results[0]))\n",
    "        \n",
    "        # Store books with a significant correlation between segment location and segment type-token ratio\n",
    "        problematic_books.append(metadata_df.loc[i, 'title'])"
   ]
  },
  {
   "cell_type": "code",
   "execution_count": 24,
   "metadata": {},
   "outputs": [
    {
     "name": "stdout",
     "output_type": "stream",
     "text": [
      "35\n"
     ]
    },
    {
     "data": {
      "text/plain": [
       "[False, True, False, False, True]"
      ]
     },
     "execution_count": 24,
     "metadata": {},
     "output_type": "execute_result"
    }
   ],
   "source": [
    "# Make a list of booleans to store info about whether type-token ratio varied signficantly in a book or not\n",
    "\n",
    "\n",
    "TTR_sig_internal_variation = [True if title in problematic_books else False for title in metadata_df.title ]\n",
    "print(len(TTR_sig_internal_variation))\n",
    "TTR_sig_internal_variation[0:5]"
   ]
  },
  {
   "cell_type": "markdown",
   "metadata": {},
   "source": [
    "## 1b. Mark books where vocabulary metric varies significantly with place in book"
   ]
  },
  {
   "cell_type": "code",
   "execution_count": 25,
   "metadata": {},
   "outputs": [
    {
     "data": {
      "text/plain": [
       "Text(0.5, 0, 'Age at publication (years)')"
      ]
     },
     "execution_count": 25,
     "metadata": {},
     "output_type": "execute_result"
    },
    {
     "data": {
      "image/png": "[encoded data removed]",
      "text/plain": [
       "<Figure size 720x720 with 1 Axes>"
      ]
     },
     "metadata": {},
     "output_type": "display_data"
    }
   ],
   "source": [
    "col =[]\n",
    "  \n",
    "# Blue books have no significant internal variation in type-token ratio\n",
    "# Red books do\n",
    "\n",
    "for title in metadata_df.title:\n",
    "    if title not in problematic_books:\n",
    "        col.append('blue')  \n",
    "    else:\n",
    "        col.append('red')\n",
    "        \n",
    "f, ax = plt.subplots(figsize=(10,10))\n",
    "\n",
    "ax.scatter(metadata_df.age_at_publication, mean_ttr_5000tok, c=col)\n",
    "\n",
    "\n",
    "plt.xticks(rotation=45);\n",
    "ax.set_ylabel('Mean type-token ratio (5000-token samples)')\n",
    "ax.set_xlabel('Age at publication (years)')"
   ]
  },
  {
   "cell_type": "markdown",
   "metadata": {},
   "source": [
    "# 2. Indefinite Words - Full Texts"
   ]
  },
  {
   "cell_type": "code",
   "execution_count": 26,
   "metadata": {},
   "outputs": [],
   "source": [
    "# Calculate counts of tokens 'stuff', 'anything', 'something', 'thing', and 'things' from full texts (not segments)\n",
    "\n",
    "indefinite_wordcounts = []\n",
    "for text in metadata_df.text:\n",
    "\n",
    "    count_dict = Counter(text.split())\n",
    "\n",
    "    stuffcount = count_dict['stuff']\n",
    "    anythingcount = count_dict['anything']\n",
    "    thingcount = count_dict['thing'] + count_dict['things']\n",
    "    somethingcount = count_dict['something']\n",
    "\n",
    "    indefinite_wordcount = stuffcount + anythingcount + thingcount + somethingcount\n",
    "\n",
    "    indefinite_wordcounts.append(indefinite_wordcount/len(text.split()))"
   ]
  },
  {
   "cell_type": "code",
   "execution_count": 27,
   "metadata": {},
   "outputs": [
    {
     "data": {
      "text/plain": [
       "Text(0.5, 0, 'Age at publication (years)')"
      ]
     },
     "execution_count": 27,
     "metadata": {},
     "output_type": "execute_result"
    },
    {
     "data": {
      "image/png": "[encoded data removed]",
      "text/plain": [
       "<Figure size 720x720 with 1 Axes>"
      ]
     },
     "metadata": {},
     "output_type": "display_data"
    }
   ],
   "source": [
    "f, ax = plt.subplots(figsize=(10,10))\n",
    "\n",
    "ax.scatter(metadata_df.age_at_publication, indefinite_wordcounts)\n",
    "\n",
    "plt.xticks(rotation=45);\n",
    "ax.set_ylabel('Indefinite word token rate (full text)')\n",
    "ax.set_xlabel('Age at publication (years)')"
   ]
  },
  {
   "cell_type": "markdown",
   "metadata": {},
   "source": [
    "# 3. Phrase repetition in 5000-token segments"
   ]
  },
  {
   "cell_type": "code",
   "execution_count": 38,
   "metadata": {},
   "outputs": [],
   "source": [
    "from sklearn.feature_extraction.text import CountVectorizer "
   ]
  },
  {
   "cell_type": "code",
   "execution_count": 39,
   "metadata": {},
   "outputs": [],
   "source": [
    "# Steal code from Professor Daelemans\n",
    "\n",
    "def count_unique_repetitions(text):\n",
    "    '''\n",
    "    Takes a string, divides it into ngrams of length 2 to 4 and throws out ngrams that only appear once.\n",
    "    Returns a count of how many unique repeated 2-4-grams are in the string.\n",
    "    '''\n",
    "    vect = CountVectorizer(ngram_range=(2,4))\n",
    "    analyzer = vect.build_analyzer()\n",
    "    fdict = Counter(analyzer(text))\n",
    "    fdict = {k:v for (k,v) in fdict.items() if v > 1}\n",
    "    strings = fdict.keys()\n",
    "    \n",
    "    # remove the strings that occur only inside another string\n",
    "    result = list(strings)\n",
    "    for s1 in strings:\n",
    "        fs1 = fdict[s1]\n",
    "        for s2 in strings:\n",
    "            if s1 < s2 and s1 in s2:\n",
    "                fs2 = fdict[s2]\n",
    "                if fs1 <= fs2:\n",
    "                    result.remove(s1)\n",
    "                    break\n",
    "    return len(result)"
   ]
  },
  {
   "cell_type": "code",
   "execution_count": 40,
   "metadata": {},
   "outputs": [],
   "source": [
    "def mean_std_reps_perchunk(cleantext, windowsize):\n",
    "    '''\n",
    "    Takes a text, a segment length, and a list of words to search for.\n",
    "    Returns average of the rates at which words in the list appear, for every segment, and the standard deviation. \n",
    "    '''\n",
    "    chunks = get_chunks(cleantext, windowsize)\n",
    "    num_unique_repeated_phrases = []\n",
    "    \n",
    "    for chunk in chunks:\n",
    "        n_unique = count_unique_repetitions(chunk)\n",
    "        num_unique_repeated_phrases.append(n_unique/windowsize)\n",
    "        \n",
    "    return np.mean(num_unique_repeated_phrases), np.std(num_unique_repeated_phrases)"
   ]
  },
  {
   "cell_type": "code",
   "execution_count": 41,
   "metadata": {},
   "outputs": [
    {
     "data": {
      "text/plain": [
       "(0.08064615384615384, 0.00587152389924526)"
      ]
     },
     "execution_count": 41,
     "metadata": {},
     "output_type": "execute_result"
    }
   ],
   "source": [
    "mean_std_reps_perchunk(metadata_df.loc[0,'text'], 5000)"
   ]
  },
  {
   "cell_type": "code",
   "execution_count": 42,
   "metadata": {},
   "outputs": [],
   "source": [
    "mean_reps_5000tok = []\n",
    "std_reps_5000tok = []\n",
    "\n",
    "for text in metadata_df.text:\n",
    "    mean_n_unique_reps, std_n_unique_reps = mean_std_reps_perchunk(text, 5000)\n",
    "    mean_reps_5000tok.append(mean_n_unique_reps)\n",
    "    std_reps_5000tok.append(std_n_unique_reps)"
   ]
  },
  {
   "cell_type": "markdown",
   "metadata": {},
   "source": [
    "## 3a. Test assumption that rates of repetitions does not increase/decrease significantly over course of book"
   ]
  },
  {
   "cell_type": "code",
   "execution_count": 43,
   "metadata": {},
   "outputs": [
    {
     "name": "stdout",
     "output_type": "stream",
     "text": [
      "Repetition rates vary significantly with place in text: The Light Fantastic\n",
      "\tKendall's tau: 0.7222222222222222\n",
      "Repetition rates vary significantly with place in text: Wyrd Sisters\n",
      "\tKendall's tau: 0.40590682253921034\n",
      "Repetition rates vary significantly with place in text: Men at Arms\n",
      "\tKendall's tau: 0.3401774158209303\n",
      "Repetition rates vary significantly with place in text: The Fifth Elephant\n",
      "\tKendall's tau: 0.4726759937885687\n",
      "Repetition rates vary significantly with place in text: The Truth\n",
      "\tKendall's tau: 0.3636405261167026\n",
      "Repetition rates vary significantly with place in text: Unseen Academicals\n",
      "\tKendall's tau: 0.4828591137146904\n"
     ]
    }
   ],
   "source": [
    "# Store books where a segment's repetition rate varies significantly with the segment's place in the book\n",
    "\n",
    "# Tests possibility that repetition might be higher at the end of book when concepts/characters are no longer\n",
    "# being introduced to readers\n",
    "\n",
    "problematic_books = []\n",
    "\n",
    "for i in range(metadata_df.shape[0]):\n",
    "    chunks = get_chunks(metadata_df.loc[i, 'text'], 5000)\n",
    "    num_unique_repeated_phrases = []\n",
    "\n",
    "    for chunk in chunks:\n",
    "        n_unique = count_unique_repetitions(chunk)\n",
    "        num_unique_repeated_phrases.append(n_unique/5000)\n",
    "    \n",
    "    # Get the number of indexes in the list storing repetition rates from a single book\n",
    "    num_indices = len(num_unique_repeated_phrases)\n",
    "    \n",
    "    # Get the Kendall's tau correlation between the segment locations/indexes and the number of repeated phrases\n",
    "    tau_results = kendalltau(range(num_indices), num_unique_repeated_phrases)\n",
    "    \n",
    "    # If the Kendall's tau correlation is significant, print the book title and correlation\n",
    "    if tau_results[1] <= 0.05:\n",
    "        print(\"Repetition rates vary significantly with place in text: \" + metadata_df.loc[i, 'title'])\n",
    "        print(\"\\tKendall's tau: \" + str(tau_results[0]))\n",
    "        \n",
    "        # Store books with a significant correlation between segment location and segment repetition rate\n",
    "        problematic_books.append(metadata_df.loc[i, 'title'])"
   ]
  },
  {
   "cell_type": "code",
   "execution_count": 45,
   "metadata": {},
   "outputs": [
    {
     "name": "stdout",
     "output_type": "stream",
     "text": [
      "35\n",
      "[False, True, False, False, False]\n"
     ]
    }
   ],
   "source": [
    "# Make a list of booleans to store info about whether repetition rate varied signficantly in a book or not\n",
    "\n",
    "rep_sig_internal_variation = [True if title in problematic_books else False for title in metadata_df.title]\n",
    "print(len(rep_sig_internal_variation))\n",
    "print(rep_sig_internal_variation[0:5])"
   ]
  },
  {
   "cell_type": "markdown",
   "metadata": {},
   "source": [
    "## 3b. Mark books where vocabulary metric varies significantly with place in book"
   ]
  },
  {
   "cell_type": "code",
   "execution_count": 47,
   "metadata": {},
   "outputs": [
    {
     "data": {
      "text/plain": [
       "Text(0.5, 0, 'Age at publication (years)')"
      ]
     },
     "execution_count": 47,
     "metadata": {},
     "output_type": "execute_result"
    },
    {
     "data": {
      "image/png": "[encoded data removed]",
      "text/plain": [
       "<Figure size 720x720 with 1 Axes>"
      ]
     },
     "metadata": {},
     "output_type": "display_data"
    }
   ],
   "source": [
    "col =[]\n",
    "  \n",
    "# Blue books have no significant internal variation in repetition rate\n",
    "# Red books do    \n",
    "\n",
    "for title in metadata_df.title:\n",
    "    if title not in problematic_books:\n",
    "        col.append('blue')  \n",
    "    else:\n",
    "        col.append('red')\n",
    "        \n",
    "f, ax = plt.subplots(figsize=(10,10))\n",
    "\n",
    "ax.scatter(metadata_df.age_at_publication, mean_reps_5000tok, c=col)\n",
    "\n",
    "\n",
    "plt.xticks(rotation=45);\n",
    "ax.set_ylabel('Mean rate of maximal repeated phrase types (5000-token samples)')\n",
    "ax.set_xlabel('Age at publication (years)')"
   ]
  },
  {
   "cell_type": "markdown",
   "metadata": {},
   "source": [
    "# 4. Save dataframe for significance testing"
   ]
  },
  {
   "cell_type": "code",
   "execution_count": 114,
   "metadata": {},
   "outputs": [],
   "source": [
    "metadata_df['mean_ttr_5000token_samples'] = mean_ttr_5000tok\n",
    "metadata_df['TTR_sig_inbook_variation'] = TTR_sig_internal_variation\n",
    "\n",
    "metadata_df['indefinite_word_rate'] = indefinite_wordcounts\n",
    "\n",
    "metadata_df['mean_max_repphrasetype_5000token_samples'] = mean_reps_5000tok\n",
    "metadata_df['rep_sig_inbook_variation'] = rep_sig_internal_variation"
   ]
  },
  {
   "cell_type": "code",
   "execution_count": 115,
   "metadata": {},
   "outputs": [],
   "source": [
    "notext = metadata_df.drop(['text'], axis=1)"
   ]
  },
  {
   "cell_type": "code",
   "execution_count": 116,
   "metadata": {},
   "outputs": [],
   "source": [
    "os.chdir('C:/Users/Dora Sperling/Desktop/Thesis')\n",
    "notext.to_csv('1-vocabulary_richness.csv', encoding='utf8', index=False)"
   ]
  },
  {
   "cell_type": "markdown",
   "metadata": {},
   "source": [
    "# (Could be useful - count total number of repeated phrases)"
   ]
  },
  {
   "cell_type": "code",
   "execution_count": 25,
   "metadata": {},
   "outputs": [],
   "source": [
    "# chunks = get_chunks(metadata_df.loc[43,'text'], 2000)\n",
    "# chunks[0][:100]"
   ]
  },
  {
   "cell_type": "code",
   "execution_count": 26,
   "metadata": {},
   "outputs": [],
   "source": [
    "# chunks = get_chunks(metadata_df.loc[0,'text'], 2000)"
   ]
  },
  {
   "cell_type": "code",
   "execution_count": 27,
   "metadata": {},
   "outputs": [],
   "source": [
    "# text = \"I went home. I went to the grocery store. I went home. I was tired because I went to the grocery store. Because I was tired and I went to bed. I slept when I went to bed\""
   ]
  },
  {
   "cell_type": "code",
   "execution_count": 28,
   "metadata": {},
   "outputs": [],
   "source": [
    "# text"
   ]
  },
  {
   "cell_type": "code",
   "execution_count": 29,
   "metadata": {},
   "outputs": [],
   "source": [
    "# from collections import Counter\n",
    "\n",
    "# def ngrams_locations(text, ngram_lengths = (2,5)):\n",
    "#     '''\n",
    "#     Takes a string and records n-grams (where n is 2, 3, and 4 - not 5). Returns a dictionary of n-grams that appear more than once.\n",
    "#     The keys of the dictionary are the n-grams.\n",
    "#     The values of the dictionary are lists containing all the indices where the n-grams occur. \n",
    "#     '''\n",
    "#     listof_ngram_dicts = []\n",
    "#     text = clean_text(text)\n",
    "#     tokenlist = text.lower().split()\n",
    "    \n",
    "#     # Loop indefinitely\n",
    "#     for ngram_range in range(ngram_lengths[0], ngram_lengths[1]):\n",
    "        \n",
    "#         # Initialize a new dictionary to store the ngrams that are found and the indexes where they're located\n",
    "#         ngram_dict = {}\n",
    "        \n",
    "#         # Get a list of all ngrams by sliding a window over the text\n",
    "#         ngramlist = [tokenlist[i:i+ngram_range] for i in range(len(tokenlist)) if i+ngram_range-1 < len(tokenlist)]\n",
    "        \n",
    "#         # Return all the unique ngrams in the text\n",
    "#         unique_ngrams = Counter([tuple(ngram) for ngram in ngramlist])\n",
    "        \n",
    "#         # Loop through the unique ngrams that were found\n",
    "#         for ngram in unique_ngrams:\n",
    "#             positions = []\n",
    "            \n",
    "#             # Loop through the length of the text\n",
    "#             for i in range(len(tokenlist)):\n",
    "                \n",
    "#                 # If a group of words matches the ngram, ...\n",
    "#                 if ngram == tuple(tokenlist[i:i+ngram_range]):\n",
    "                    \n",
    "#                     # ... then record the indexes of all the words in the ngram, (i.e. where it's located)\n",
    "#                     positions.append([inx for inx in range(i,i+ngram_range)])\n",
    "#             # Make an entry in the ngram dictionary with the ngram as the key, and a list of lists of indices where it's located\n",
    "#             ngram_dict[ngram] = positions\n",
    "        \n",
    "#         # Use a dictionary comprehension to filter out ngrams that only appear once (i.e. are not repeated)\n",
    "#         ngram_dict = {\" \".join(ngram):positions for ngram, positions in ngram_dict.items() if len(positions) >1}\n",
    "        \n",
    "        \n",
    "#         # If the dictionary of repeated ngrams is empty after a certain ngram length, then stop the loop\n",
    "#         if len(ngram_dict) == 0:\n",
    "#             break\n",
    "            \n",
    "#         # If the dictionary still has repeated phrases \n",
    "#         else: \n",
    "#         # Append this dictionary to a list containing dictionaries of all the ngram lengths\n",
    "#             listof_ngram_dicts.append(ngram_dict)\n",
    "            \n",
    "#         ngram_range += 1\n",
    "    \n",
    "#     return listof_ngram_dicts"
   ]
  },
  {
   "cell_type": "code",
   "execution_count": 30,
   "metadata": {},
   "outputs": [],
   "source": [
    "# ngrams_locations(text)"
   ]
  },
  {
   "cell_type": "code",
   "execution_count": 31,
   "metadata": {},
   "outputs": [],
   "source": [
    "# def remove_doublecounts(list_of_dicts):\n",
    "#     largest_unique_repeated_phrases = []\n",
    "    \n",
    "#     # Initialize the count of the largest repeated ngrams at 0\n",
    "#     count = 0\n",
    "    \n",
    "#     # loop over the list of dictionaries containing ngrams and their spans in the text\n",
    "#     for i in range(len(list_of_dicts)):\n",
    "        \n",
    "#         # Compare contiguous pairs of ngram dictionaries, i.e. compare the 3gram dictionary to the 4gram dictionary, etc.\n",
    "#         if i < len(list_of_dicts)-1:\n",
    "#             ngram_dict = list_of_dicts[i]\n",
    "#             next_ngram_dict = list_of_dicts[i+1]\n",
    "            \n",
    "#             # loop through all ngrams and the list of index spans (also a list)\n",
    "#             for ngram, indices in ngram_dict.items():\n",
    "                \n",
    "#                 # Make a flat list containing all the indices in the spans of all recorded ngrams\n",
    "#                 flat_inx_list = [inx for inxlists in next_ngram_dict.values() for inxlist in inxlists for inx in inxlist]\n",
    "                \n",
    "#     # If an ngram span in the dictionary of smaller ngrams does not appear in flat list of all indices of larger ngrams,...  \n",
    "#                 for index_span in indices:\n",
    "            \n",
    "#                     if not set(index_span).issubset(flat_inx_list):\n",
    "#                         largest_unique_repeated_phrases.append(ngram)\n",
    "#     # ... then that ngram does not appear in a larger repeated ngram\n",
    "#     # it is the longest repeated ngram and doesn't appear in a larger ngram\n",
    "#     # Add 1 to the maximal repeated phrase count\n",
    "#                         count +=1 \n",
    "#         else:\n",
    "#             ngram_dict = list_of_dicts[-1]\n",
    "#             for key, value in ngram_dict.items():\n",
    "#                 largest_unique_repeated_phrases.append(key)\n",
    "#                 count += len(value)\n",
    "#     return count\n",
    "\n",
    "\n",
    "# def maximal_repeated_phrase_count(text, window_size):\n",
    "#     repeated_phrase_rates = []\n",
    "#     chunks = get_chunks(text, window_size)\n",
    "#     for chunk in chunks:\n",
    "#         list_of_dicts = ngrams_locations(chunk)\n",
    "#         n_repeated_phrases = remove_doublecounts(list_of_dicts)\n",
    "#         repeated_phrase_rates.append(n_repeated_phrases/window_size)\n",
    "#     return np.mean(repeated_phrase_rates)"
   ]
  },
  {
   "cell_type": "code",
   "execution_count": 32,
   "metadata": {},
   "outputs": [],
   "source": [
    "# print(text)\n",
    "# # I went to the grocery store - 2\n",
    "# # I was tired - 2\n",
    "# # I went to bed - 2\n",
    "# # I went home - 2"
   ]
  },
  {
   "cell_type": "code",
   "execution_count": 33,
   "metadata": {},
   "outputs": [],
   "source": [
    "# list_of_dicts_text = ngrams_locations(text)\n",
    "# remove_doublecounts(list_of_dicts_text)"
   ]
  },
  {
   "cell_type": "code",
   "execution_count": 34,
   "metadata": {},
   "outputs": [],
   "source": [
    "# metadata_df.loc[0,'text']\n",
    "# maximal_repeated_phrase_count(metadata_df.loc[0,'text'], 2000)"
   ]
  },
  {
   "cell_type": "code",
   "execution_count": 35,
   "metadata": {},
   "outputs": [],
   "source": [
    "# mean_repeatphrase_rate = []\n",
    "# for book in tqdm(metadata_df.text):\n",
    "#     repeated_phraserate = maximal_repeated_phrase_count(book, 2000)\n",
    "#     mean_repeatphrase_rate.append(repeated_phraserate)"
   ]
  },
  {
   "cell_type": "code",
   "execution_count": 36,
   "metadata": {},
   "outputs": [],
   "source": [
    "# print(mean_repeatphrase_rate)"
   ]
  },
  {
   "cell_type": "code",
   "execution_count": 37,
   "metadata": {},
   "outputs": [],
   "source": [
    "# f, ax = plt.subplots(figsize=(10,10))\n",
    "\n",
    "# ax.scatter(metadata_df.age_at_publication, mean_repeatphrase_rate,\n",
    "#            c=metadata_df['YA'].map(colors))\n",
    "\n",
    "# plt.xticks(rotation=45);\n",
    "# ax.legend()\n",
    "# ax.set_ylabel('Repeated phrase rate (per 2000 tokens)')\n",
    "# plt.axvspan(57, 67, color='red', alpha=0.2)\n",
    "# ax.set_xlabel('Age at Publication')"
   ]
  }
 ],
 "metadata": {
  "kernelspec": {
   "display_name": "Python 3",
   "language": "python",
   "name": "python3"
  },
  "language_info": {
   "codemirror_mode": {
    "name": "ipython",
    "version": 3
   },
   "file_extension": ".py",
   "mimetype": "text/x-python",
   "name": "python",
   "nbconvert_exporter": "python",
   "pygments_lexer": "ipython3",
   "version": "3.8.8"
  }
 },
 "nbformat": 4,
 "nbformat_minor": 4
}
