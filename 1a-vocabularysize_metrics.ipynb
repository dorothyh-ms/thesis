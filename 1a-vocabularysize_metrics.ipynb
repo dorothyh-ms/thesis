{
 "cells": [
  {
   "cell_type": "code",
   "execution_count": 90,
   "metadata": {},
   "outputs": [],
   "source": [
    "import lxml.etree\n",
    "import re\n",
    "import pandas as pd\n",
    "import numpy as np\n",
    "import matplotlib.pyplot as plt\n",
    "from collections import Counter\n",
    "#!pip install spacy\n",
    "import spacy\n",
    "from tqdm import tqdm\n",
    "from scipy.stats import kendalltau\n",
    "import os \n",
    "plt.style.use('ggplot')\n",
    "os.environ['KMP_DUPLICATE_LIB_OK']='True'\n",
    "os.chdir('C:/Users/Dora Sperling/Desktop/Thesis/')"
   ]
  },
  {
   "cell_type": "code",
   "execution_count": 91,
   "metadata": {},
   "outputs": [],
   "source": [
    "def clean_text(\n",
    "    string: str, \n",
    "    punctuation=r'''!()[]{};:-'\"‘’“”\\,<>.…/?@#$%^&*_~''') -> str:\n",
    "    # Removing the punctuation\n",
    "    for x in string.lower(): \n",
    "        if x in punctuation: \n",
    "            string = string.replace(x, \"\") \n",
    "    string = re.sub('—', ' ', string)\n",
    "    # Converting the text to lower\n",
    "    string = string.lower()\n",
    "    string = ' '.join([word for word in string.split()])\n",
    "    # Cleaning the whitespaces\n",
    "    string = re.sub(r'\\s+', ' ', string).strip()\n",
    "    return string"
   ]
  },
  {
   "cell_type": "code",
   "execution_count": 92,
   "metadata": {},
   "outputs": [
    {
     "data": {
      "text/html": [
       "<div>\n",
       "<style scoped>\n",
       "    .dataframe tbody tr th:only-of-type {\n",
       "        vertical-align: middle;\n",
       "    }\n",
       "\n",
       "    .dataframe tbody tr th {\n",
       "        vertical-align: top;\n",
       "    }\n",
       "\n",
       "    .dataframe thead th {\n",
       "        text-align: right;\n",
       "    }\n",
       "</style>\n",
       "<table border=\"1\" class=\"dataframe\">\n",
       "  <thead>\n",
       "    <tr style=\"text-align: right;\">\n",
       "      <th></th>\n",
       "      <th>title</th>\n",
       "      <th>year_of_publication</th>\n",
       "      <th>age_at_publication</th>\n",
       "      <th>YA</th>\n",
       "      <th>number_of_words</th>\n",
       "      <th>text</th>\n",
       "    </tr>\n",
       "  </thead>\n",
       "  <tbody>\n",
       "    <tr>\n",
       "      <th>0</th>\n",
       "      <td>The Color Of Magic</td>\n",
       "      <td>1983.00</td>\n",
       "      <td>35.58</td>\n",
       "      <td>False</td>\n",
       "      <td>66492</td>\n",
       "      <td>in a distant and secondhand set of dimensions ...</td>\n",
       "    </tr>\n",
       "    <tr>\n",
       "      <th>1</th>\n",
       "      <td>The Light Fantastic</td>\n",
       "      <td>1986.00</td>\n",
       "      <td>38.10</td>\n",
       "      <td>False</td>\n",
       "      <td>45998</td>\n",
       "      <td>the sun rose slowly as if it was nt sure it wa...</td>\n",
       "    </tr>\n",
       "    <tr>\n",
       "      <th>2</th>\n",
       "      <td>Equal Rites</td>\n",
       "      <td>1987.00</td>\n",
       "      <td>38.72</td>\n",
       "      <td>False</td>\n",
       "      <td>67372</td>\n",
       "      <td>this is a story about magic and where it goes ...</td>\n",
       "    </tr>\n",
       "    <tr>\n",
       "      <th>3</th>\n",
       "      <td>Mort</td>\n",
       "      <td>1987.51</td>\n",
       "      <td>39.50</td>\n",
       "      <td>False</td>\n",
       "      <td>73987</td>\n",
       "      <td>this is the bright candlelit room where the li...</td>\n",
       "    </tr>\n",
       "    <tr>\n",
       "      <th>4</th>\n",
       "      <td>Sourcery</td>\n",
       "      <td>1988.00</td>\n",
       "      <td>40.08</td>\n",
       "      <td>False</td>\n",
       "      <td>79536</td>\n",
       "      <td>there was a man and he had eight sons apart fr...</td>\n",
       "    </tr>\n",
       "    <tr>\n",
       "      <th>5</th>\n",
       "      <td>Wyrd Sisters</td>\n",
       "      <td>1988.00</td>\n",
       "      <td>40.54</td>\n",
       "      <td>False</td>\n",
       "      <td>86320</td>\n",
       "      <td>the wind howled lightning stabbed at the earth...</td>\n",
       "    </tr>\n",
       "    <tr>\n",
       "      <th>6</th>\n",
       "      <td>Pyramids</td>\n",
       "      <td>1989.00</td>\n",
       "      <td>41.13</td>\n",
       "      <td>False</td>\n",
       "      <td>88272</td>\n",
       "      <td>nothing but stars scattered across the blackne...</td>\n",
       "    </tr>\n",
       "    <tr>\n",
       "      <th>7</th>\n",
       "      <td>Guards! Guards!</td>\n",
       "      <td>1989.00</td>\n",
       "      <td>41.53</td>\n",
       "      <td>False</td>\n",
       "      <td>99811</td>\n",
       "      <td>this is where the dragons went they lie not de...</td>\n",
       "    </tr>\n",
       "    <tr>\n",
       "      <th>8</th>\n",
       "      <td>Eric</td>\n",
       "      <td>1990.00</td>\n",
       "      <td>42.30</td>\n",
       "      <td>False</td>\n",
       "      <td>34887</td>\n",
       "      <td>the bees of death are big and black they buzz ...</td>\n",
       "    </tr>\n",
       "    <tr>\n",
       "      <th>9</th>\n",
       "      <td>Moving Pictures</td>\n",
       "      <td>1990.00</td>\n",
       "      <td>42.51</td>\n",
       "      <td>False</td>\n",
       "      <td>98721</td>\n",
       "      <td>watch this is space it s sometimes called the ...</td>\n",
       "    </tr>\n",
       "    <tr>\n",
       "      <th>10</th>\n",
       "      <td>Reaper Man</td>\n",
       "      <td>1991.00</td>\n",
       "      <td>43.07</td>\n",
       "      <td>False</td>\n",
       "      <td>79450</td>\n",
       "      <td>the morris dance is common to all inhabited wo...</td>\n",
       "    </tr>\n",
       "    <tr>\n",
       "      <th>11</th>\n",
       "      <td>Witches Abroad</td>\n",
       "      <td>1991.00</td>\n",
       "      <td>43.53</td>\n",
       "      <td>False</td>\n",
       "      <td>82667</td>\n",
       "      <td>this is the discworld which travels through sp...</td>\n",
       "    </tr>\n",
       "    <tr>\n",
       "      <th>12</th>\n",
       "      <td>Small Gods</td>\n",
       "      <td>1992.00</td>\n",
       "      <td>44.06</td>\n",
       "      <td>False</td>\n",
       "      <td>92911</td>\n",
       "      <td>now consider the tortoise and the eagle the to...</td>\n",
       "    </tr>\n",
       "    <tr>\n",
       "      <th>13</th>\n",
       "      <td>Lords and Ladies</td>\n",
       "      <td>1992.00</td>\n",
       "      <td>44.52</td>\n",
       "      <td>False</td>\n",
       "      <td>90060</td>\n",
       "      <td>now read on when does it start there are very ...</td>\n",
       "    </tr>\n",
       "    <tr>\n",
       "      <th>14</th>\n",
       "      <td>Men at Arms</td>\n",
       "      <td>1993.00</td>\n",
       "      <td>45.54</td>\n",
       "      <td>False</td>\n",
       "      <td>95934</td>\n",
       "      <td>corporal carrot ankh morpork city guard night ...</td>\n",
       "    </tr>\n",
       "    <tr>\n",
       "      <th>15</th>\n",
       "      <td>Soul Music</td>\n",
       "      <td>1994.00</td>\n",
       "      <td>46.06</td>\n",
       "      <td>False</td>\n",
       "      <td>96489</td>\n",
       "      <td>where to finish a dark stormy night a coach ho...</td>\n",
       "    </tr>\n",
       "    <tr>\n",
       "      <th>16</th>\n",
       "      <td>Interesting Times</td>\n",
       "      <td>1994.00</td>\n",
       "      <td>46.52</td>\n",
       "      <td>False</td>\n",
       "      <td>94671</td>\n",
       "      <td>this is where the gods play games with the liv...</td>\n",
       "    </tr>\n",
       "    <tr>\n",
       "      <th>17</th>\n",
       "      <td>Maskerade</td>\n",
       "      <td>1995.00</td>\n",
       "      <td>47.52</td>\n",
       "      <td>False</td>\n",
       "      <td>87216</td>\n",
       "      <td>the wind howled the storm crackled on the moun...</td>\n",
       "    </tr>\n",
       "    <tr>\n",
       "      <th>18</th>\n",
       "      <td>Feet of Clay</td>\n",
       "      <td>1996.00</td>\n",
       "      <td>48.08</td>\n",
       "      <td>False</td>\n",
       "      <td>96225</td>\n",
       "      <td>it was a warm spring night when a fist knocked...</td>\n",
       "    </tr>\n",
       "    <tr>\n",
       "      <th>19</th>\n",
       "      <td>Hogfather</td>\n",
       "      <td>1996.00</td>\n",
       "      <td>48.51</td>\n",
       "      <td>False</td>\n",
       "      <td>95986</td>\n",
       "      <td>everything starts somewhere although many phys...</td>\n",
       "    </tr>\n",
       "    <tr>\n",
       "      <th>20</th>\n",
       "      <td>Jingo</td>\n",
       "      <td>1997.00</td>\n",
       "      <td>49.53</td>\n",
       "      <td>False</td>\n",
       "      <td>107027</td>\n",
       "      <td>it was a moonless night which was good for the...</td>\n",
       "    </tr>\n",
       "    <tr>\n",
       "      <th>21</th>\n",
       "      <td>The Last Continent</td>\n",
       "      <td>1998.00</td>\n",
       "      <td>50.01</td>\n",
       "      <td>False</td>\n",
       "      <td>96106</td>\n",
       "      <td>against the stars a turtle passes carrying fou...</td>\n",
       "    </tr>\n",
       "    <tr>\n",
       "      <th>22</th>\n",
       "      <td>Carpe Jugulum</td>\n",
       "      <td>1998.00</td>\n",
       "      <td>50.52</td>\n",
       "      <td>False</td>\n",
       "      <td>100517</td>\n",
       "      <td>through the shredded black clouds a fire moved...</td>\n",
       "    </tr>\n",
       "    <tr>\n",
       "      <th>23</th>\n",
       "      <td>The Fifth Elephant</td>\n",
       "      <td>1999.00</td>\n",
       "      <td>51.52</td>\n",
       "      <td>False</td>\n",
       "      <td>110059</td>\n",
       "      <td>they say the world is flat and supported on th...</td>\n",
       "    </tr>\n",
       "    <tr>\n",
       "      <th>24</th>\n",
       "      <td>The Truth</td>\n",
       "      <td>2000.00</td>\n",
       "      <td>52.52</td>\n",
       "      <td>False</td>\n",
       "      <td>106800</td>\n",
       "      <td>the rumor spread through the city like wildfir...</td>\n",
       "    </tr>\n",
       "    <tr>\n",
       "      <th>25</th>\n",
       "      <td>Thief of Time</td>\n",
       "      <td>2001.00</td>\n",
       "      <td>53.01</td>\n",
       "      <td>False</td>\n",
       "      <td>103809</td>\n",
       "      <td>according to the first scroll of wen the etern...</td>\n",
       "    </tr>\n",
       "    <tr>\n",
       "      <th>26</th>\n",
       "      <td>The Last Hero</td>\n",
       "      <td>2001.00</td>\n",
       "      <td>53.47</td>\n",
       "      <td>False</td>\n",
       "      <td>40549</td>\n",
       "      <td>the place where the story happened was a world...</td>\n",
       "    </tr>\n",
       "    <tr>\n",
       "      <th>27</th>\n",
       "      <td>Night Watch</td>\n",
       "      <td>2002.00</td>\n",
       "      <td>54.53</td>\n",
       "      <td>False</td>\n",
       "      <td>117065</td>\n",
       "      <td>sam vimes sighed when he heard the scream but ...</td>\n",
       "    </tr>\n",
       "    <tr>\n",
       "      <th>28</th>\n",
       "      <td>Monstrous Regiment</td>\n",
       "      <td>2003.00</td>\n",
       "      <td>55.43</td>\n",
       "      <td>False</td>\n",
       "      <td>118881</td>\n",
       "      <td>polly cut off her hair in front of the mirror ...</td>\n",
       "    </tr>\n",
       "    <tr>\n",
       "      <th>29</th>\n",
       "      <td>Going Postal</td>\n",
       "      <td>2004.00</td>\n",
       "      <td>56.43</td>\n",
       "      <td>False</td>\n",
       "      <td>119443</td>\n",
       "      <td>the flotillas of the dead sailed around the wo...</td>\n",
       "    </tr>\n",
       "    <tr>\n",
       "      <th>30</th>\n",
       "      <td>Thud!</td>\n",
       "      <td>2005.00</td>\n",
       "      <td>57.41</td>\n",
       "      <td>False</td>\n",
       "      <td>112323</td>\n",
       "      <td>thud that was the sound the heavy club made as...</td>\n",
       "    </tr>\n",
       "    <tr>\n",
       "      <th>31</th>\n",
       "      <td>Making Money</td>\n",
       "      <td>2007.00</td>\n",
       "      <td>59.41</td>\n",
       "      <td>False</td>\n",
       "      <td>114803</td>\n",
       "      <td>they lay in the dark guarding there was no way...</td>\n",
       "    </tr>\n",
       "    <tr>\n",
       "      <th>32</th>\n",
       "      <td>Unseen Academicals</td>\n",
       "      <td>2009.00</td>\n",
       "      <td>61.45</td>\n",
       "      <td>False</td>\n",
       "      <td>137877</td>\n",
       "      <td>it was midnight in ankh morpork s royal art mu...</td>\n",
       "    </tr>\n",
       "    <tr>\n",
       "      <th>33</th>\n",
       "      <td>Snuff</td>\n",
       "      <td>2011.00</td>\n",
       "      <td>63.46</td>\n",
       "      <td>False</td>\n",
       "      <td>133121</td>\n",
       "      <td>the goblin experience of the world is the cult...</td>\n",
       "    </tr>\n",
       "    <tr>\n",
       "      <th>34</th>\n",
       "      <td>Raising Steam</td>\n",
       "      <td>2013.00</td>\n",
       "      <td>65.49</td>\n",
       "      <td>False</td>\n",
       "      <td>126107</td>\n",
       "      <td>it is hard to understand nothing but the multi...</td>\n",
       "    </tr>\n",
       "  </tbody>\n",
       "</table>\n",
       "</div>"
      ],
      "text/plain": [
       "                  title  year_of_publication  age_at_publication     YA  \\\n",
       "0    The Color Of Magic              1983.00               35.58  False   \n",
       "1   The Light Fantastic              1986.00               38.10  False   \n",
       "2           Equal Rites              1987.00               38.72  False   \n",
       "3                  Mort              1987.51               39.50  False   \n",
       "4              Sourcery              1988.00               40.08  False   \n",
       "5          Wyrd Sisters              1988.00               40.54  False   \n",
       "6              Pyramids              1989.00               41.13  False   \n",
       "7       Guards! Guards!              1989.00               41.53  False   \n",
       "8                  Eric              1990.00               42.30  False   \n",
       "9       Moving Pictures              1990.00               42.51  False   \n",
       "10           Reaper Man              1991.00               43.07  False   \n",
       "11       Witches Abroad              1991.00               43.53  False   \n",
       "12           Small Gods              1992.00               44.06  False   \n",
       "13     Lords and Ladies              1992.00               44.52  False   \n",
       "14          Men at Arms              1993.00               45.54  False   \n",
       "15           Soul Music              1994.00               46.06  False   \n",
       "16    Interesting Times              1994.00               46.52  False   \n",
       "17            Maskerade              1995.00               47.52  False   \n",
       "18         Feet of Clay              1996.00               48.08  False   \n",
       "19            Hogfather              1996.00               48.51  False   \n",
       "20                Jingo              1997.00               49.53  False   \n",
       "21   The Last Continent              1998.00               50.01  False   \n",
       "22        Carpe Jugulum              1998.00               50.52  False   \n",
       "23   The Fifth Elephant              1999.00               51.52  False   \n",
       "24            The Truth              2000.00               52.52  False   \n",
       "25        Thief of Time              2001.00               53.01  False   \n",
       "26        The Last Hero              2001.00               53.47  False   \n",
       "27          Night Watch              2002.00               54.53  False   \n",
       "28   Monstrous Regiment              2003.00               55.43  False   \n",
       "29         Going Postal              2004.00               56.43  False   \n",
       "30                Thud!              2005.00               57.41  False   \n",
       "31         Making Money              2007.00               59.41  False   \n",
       "32   Unseen Academicals              2009.00               61.45  False   \n",
       "33                Snuff              2011.00               63.46  False   \n",
       "34        Raising Steam              2013.00               65.49  False   \n",
       "\n",
       "    number_of_words                                               text  \n",
       "0             66492  in a distant and secondhand set of dimensions ...  \n",
       "1             45998  the sun rose slowly as if it was nt sure it wa...  \n",
       "2             67372  this is a story about magic and where it goes ...  \n",
       "3             73987  this is the bright candlelit room where the li...  \n",
       "4             79536  there was a man and he had eight sons apart fr...  \n",
       "5             86320  the wind howled lightning stabbed at the earth...  \n",
       "6             88272  nothing but stars scattered across the blackne...  \n",
       "7             99811  this is where the dragons went they lie not de...  \n",
       "8             34887  the bees of death are big and black they buzz ...  \n",
       "9             98721  watch this is space it s sometimes called the ...  \n",
       "10            79450  the morris dance is common to all inhabited wo...  \n",
       "11            82667  this is the discworld which travels through sp...  \n",
       "12            92911  now consider the tortoise and the eagle the to...  \n",
       "13            90060  now read on when does it start there are very ...  \n",
       "14            95934  corporal carrot ankh morpork city guard night ...  \n",
       "15            96489  where to finish a dark stormy night a coach ho...  \n",
       "16            94671  this is where the gods play games with the liv...  \n",
       "17            87216  the wind howled the storm crackled on the moun...  \n",
       "18            96225  it was a warm spring night when a fist knocked...  \n",
       "19            95986  everything starts somewhere although many phys...  \n",
       "20           107027  it was a moonless night which was good for the...  \n",
       "21            96106  against the stars a turtle passes carrying fou...  \n",
       "22           100517  through the shredded black clouds a fire moved...  \n",
       "23           110059  they say the world is flat and supported on th...  \n",
       "24           106800  the rumor spread through the city like wildfir...  \n",
       "25           103809  according to the first scroll of wen the etern...  \n",
       "26            40549  the place where the story happened was a world...  \n",
       "27           117065  sam vimes sighed when he heard the scream but ...  \n",
       "28           118881  polly cut off her hair in front of the mirror ...  \n",
       "29           119443  the flotillas of the dead sailed around the wo...  \n",
       "30           112323  thud that was the sound the heavy club made as...  \n",
       "31           114803  they lay in the dark guarding there was no way...  \n",
       "32           137877  it was midnight in ankh morpork s royal art mu...  \n",
       "33           133121  the goblin experience of the world is the cult...  \n",
       "34           126107  it is hard to understand nothing but the multi...  "
      ]
     },
     "execution_count": 92,
     "metadata": {},
     "output_type": "execute_result"
    }
   ],
   "source": [
    "metadata_df = pd.read_csv('pratchett_metadata.csv')\n",
    "metadata_df = metadata_df[metadata_df.YA == False].reset_index(drop=True)\n",
    "metadata_df"
   ]
  },
  {
   "cell_type": "markdown",
   "metadata": {},
   "source": [
    "# 1. Type-token ratios - 5000-token segments"
   ]
  },
  {
   "cell_type": "code",
   "execution_count": 93,
   "metadata": {},
   "outputs": [],
   "source": [
    "def get_chunks(text, n):\n",
    "    tokenlist = text.split()\n",
    "    chunks = []\n",
    "    for i in range(0, len(tokenlist), n):\n",
    "        if len(tokenlist[i:i + n]) == n: # do not include trailing words after the the last whole segment\n",
    "            chunks.append(\" \".join(tokenlist[i:i + n]))\n",
    "    return chunks\n",
    "\n",
    "def mean_std_ttr(cleantext, windowsize):\n",
    "    chunks = get_chunks(cleantext, windowsize)\n",
    "    TT_ratios = []\n",
    "    for chunk in chunks:\n",
    "        types = Counter(chunk.split())\n",
    "        TT_ratios.append(len(types)/windowsize)\n",
    "    return np.mean(TT_ratios), np.std(TT_ratios)\n",
    "\n",
    "\n",
    "mean_ttr_5000tok = []\n",
    "std_ttr_5000tok = []\n",
    "\n",
    "for cleaned_text in metadata_df.text:\n",
    "    mean_ttr, std_ttr = mean_std_ttr(cleaned_text, 5000)\n",
    "    mean_ttr_5000tok.append(mean_ttr)\n",
    "    std_ttr_5000tok.append(std_ttr)"
   ]
  },
  {
   "cell_type": "markdown",
   "metadata": {},
   "source": [
    "## 1a. Test assumption that TTR does not increase/decrease significantly over course of book"
   ]
  },
  {
   "cell_type": "code",
   "execution_count": 105,
   "metadata": {},
   "outputs": [
    {
     "name": "stdout",
     "output_type": "stream",
     "text": [
      "TTRs vary significantly with place in text: The Light Fantastic\n",
      "\tKendall's tau: -0.7222222222222222\n",
      "TTRs vary significantly with place in text: Sourcery\n",
      "\tKendall's tau: -0.5428571428571429\n",
      "TTRs vary significantly with place in text: Small Gods\n",
      "\tKendall's tau: -0.3856209150326798\n",
      "TTRs vary significantly with place in text: Men at Arms\n",
      "\tKendall's tau: -0.391812865497076\n",
      "TTRs vary significantly with place in text: Soul Music\n",
      "\tKendall's tau: -0.32844716010296715\n",
      "TTRs vary significantly with place in text: Interesting Times\n",
      "\tKendall's tau: -0.4379084967320262\n",
      "TTRs vary significantly with place in text: Feet of Clay\n",
      "\tKendall's tau: -0.4152046783625731\n",
      "TTRs vary significantly with place in text: Hogfather\n",
      "\tKendall's tau: -0.3684210526315789\n",
      "TTRs vary significantly with place in text: Jingo\n",
      "\tKendall's tau: -0.39047619047619053\n",
      "TTRs vary significantly with place in text: The Truth\n",
      "\tKendall's tau: -0.5966604105161744\n",
      "TTRs vary significantly with place in text: Thief of Time\n",
      "\tKendall's tau: -0.37037555468977446\n",
      "TTRs vary significantly with place in text: The Last Hero\n",
      "\tKendall's tau: -0.6910233190806424\n",
      "TTRs vary significantly with place in text: Monstrous Regiment\n",
      "\tKendall's tau: -0.5335968379446641\n",
      "TTRs vary significantly with place in text: Unseen Academicals\n",
      "\tKendall's tau: -0.4657161866005594\n"
     ]
    }
   ],
   "source": [
    "problematic_books = []\n",
    "for i in range(metadata_df.shape[0]):\n",
    "    chunks = get_chunks(metadata_df.loc[i, 'text'], 5000)\n",
    "    \n",
    "    TT_ratios = []\n",
    "    for chunk in chunks:\n",
    "        types = Counter(chunk.split())\n",
    "        TT_ratios.append(len(types)/5000)\n",
    "        \n",
    "    num_indices = len(TT_ratios)\n",
    "    tau_results = kendalltau(range(num_indices), TT_ratios)\n",
    "    if tau_results[1] <= 0.05:\n",
    "        print(\"TTRs vary significantly with place in text: \" + metadata_df.loc[i, 'title'])\n",
    "        print(\"\\tKendall's tau: \" + str(tau_results[0]))\n",
    "        problematic_books.append(metadata_df.loc[i, 'title'])"
   ]
  },
  {
   "cell_type": "code",
   "execution_count": 108,
   "metadata": {},
   "outputs": [
    {
     "data": {
      "text/plain": [
       "[False,\n",
       " True,\n",
       " False,\n",
       " False,\n",
       " True,\n",
       " False,\n",
       " False,\n",
       " False,\n",
       " False,\n",
       " False,\n",
       " False,\n",
       " False,\n",
       " True,\n",
       " False,\n",
       " True,\n",
       " True,\n",
       " True,\n",
       " False,\n",
       " True,\n",
       " True,\n",
       " True,\n",
       " False,\n",
       " False,\n",
       " False,\n",
       " True,\n",
       " True,\n",
       " True,\n",
       " False,\n",
       " True,\n",
       " False,\n",
       " False,\n",
       " False,\n",
       " True,\n",
       " False,\n",
       " False]"
      ]
     },
     "execution_count": 108,
     "metadata": {},
     "output_type": "execute_result"
    }
   ],
   "source": [
    "TTR_sig_internal_variation = [True if title in problematic_books else False for title in metadata_df.title ]\n",
    "TTR_sig_internal_variation"
   ]
  },
  {
   "cell_type": "markdown",
   "metadata": {},
   "source": [
    "## 1b. Mark books where vocabulary metric varies significantly with place in book"
   ]
  },
  {
   "cell_type": "code",
   "execution_count": 104,
   "metadata": {},
   "outputs": [
    {
     "data": {
      "text/plain": [
       "Text(0.5, 0, 'Age at publication (years)')"
      ]
     },
     "execution_count": 104,
     "metadata": {},
     "output_type": "execute_result"
    },
    {
     "data": {
      "image/png": "[encoded data removed]",
      "text/plain": [
       "<Figure size 720x720 with 1 Axes>"
      ]
     },
     "metadata": {},
     "output_type": "display_data"
    }
   ],
   "source": [
    "col =[]\n",
    "  \n",
    "for title in metadata_df.title:\n",
    "    if title not in problematic_books:\n",
    "        col.append('blue')  \n",
    "    else:\n",
    "        col.append('red')\n",
    "        \n",
    "f, ax = plt.subplots(figsize=(10,10))\n",
    "\n",
    "ax.scatter(metadata_df.age_at_publication, mean_ttr_5000tok, c=col)\n",
    "#ax.errorbar(metadata_df.age_at_publication, mean_ttr_2000tok, yerr=std_ttr_2000tok, fmt=\"o\")\n",
    "\n",
    "\n",
    "plt.xticks(rotation=45);\n",
    "ax.set_ylabel('Mean type-token ratio (5000-token samples)')\n",
    "ax.set_xlabel('Age at publication (years)')"
   ]
  },
  {
   "cell_type": "markdown",
   "metadata": {},
   "source": [
    "# 2. Indefinite Words - Full Texts"
   ]
  },
  {
   "cell_type": "code",
   "execution_count": 112,
   "metadata": {},
   "outputs": [],
   "source": [
    "indefinite_wordcounts = []\n",
    "for text in metadata_df.text:\n",
    "    count_dict = Counter(text.split())\n",
    "\n",
    "    stuffcount = count_dict['stuff']\n",
    "    anythingcount = count_dict['anything']\n",
    "    thingcount = count_dict['thing'] + count_dict['things']\n",
    "    somethingcount = count_dict['something']\n",
    "\n",
    "    indefinite_wordcount = stuffcount + anythingcount + thingcount + somethingcount\n",
    "\n",
    "    indefinite_wordcounts.append(indefinite_wordcount/len(text.split()))"
   ]
  },
  {
   "cell_type": "code",
   "execution_count": 113,
   "metadata": {},
   "outputs": [
    {
     "data": {
      "text/plain": [
       "Text(0.5, 0, 'Age at publication (years)')"
      ]
     },
     "execution_count": 113,
     "metadata": {},
     "output_type": "execute_result"
    },
    {
     "data": {
      "image/png": "[encoded data removed]",
      "text/plain": [
       "<Figure size 720x720 with 1 Axes>"
      ]
     },
     "metadata": {},
     "output_type": "display_data"
    }
   ],
   "source": [
    "f, ax = plt.subplots(figsize=(10,10))\n",
    "\n",
    "ax.scatter(metadata_df.age_at_publication, indefinite_wordcounts)\n",
    "\n",
    "plt.xticks(rotation=45);\n",
    "ax.set_ylabel('Indefinite word token rate (full text)')\n",
    "ax.set_xlabel('Age at publication (years)')"
   ]
  },
  {
   "cell_type": "markdown",
   "metadata": {},
   "source": [
    "# 3. Phrase repetition in 5000-token segments"
   ]
  },
  {
   "cell_type": "code",
   "execution_count": 41,
   "metadata": {},
   "outputs": [],
   "source": [
    "from sklearn.feature_extraction.text import CountVectorizer "
   ]
  },
  {
   "cell_type": "code",
   "execution_count": 43,
   "metadata": {},
   "outputs": [],
   "source": [
    "def count_unique_repetitions(text):\n",
    "    vect = CountVectorizer(ngram_range=(2,4)) # length between 2 and 4\n",
    "    analyzer = vect.build_analyzer()\n",
    "    fdict = Counter(analyzer(text))\n",
    "    fdict = {k:v for (k,v) in fdict.items() if v > 1}\n",
    "    strings = fdict.keys()\n",
    "    \n",
    "    # remove the strings that occur only inside another string\n",
    "    result = list(strings)\n",
    "    for s1 in strings:\n",
    "        fs1 = fdict[s1]\n",
    "        for s2 in strings:\n",
    "            if s1 < s2 and s1 in s2:\n",
    "                fs2 = fdict[s2]\n",
    "                if fs1 <= fs2:\n",
    "                    result.remove(s1)\n",
    "                    break\n",
    "    return len(result)"
   ]
  },
  {
   "cell_type": "code",
   "execution_count": 44,
   "metadata": {},
   "outputs": [],
   "source": [
    "def mean_std_reps_perchunk(cleantext, windowsize):\n",
    "    '''\n",
    "    Takes a text, a segment length, and a list of words to search for.\n",
    "    Returns average of the rates at which words in the list appear, for every segment, and the standard deviation. \n",
    "    '''\n",
    "    chunks = get_chunks(cleantext, windowsize)\n",
    "    num_unique_repeated_phrases = []\n",
    "    \n",
    "    for chunk in chunks:\n",
    "        n_unique = count_unique_repetitions(chunk)\n",
    "        num_unique_repeated_phrases.append(n_unique/windowsize)\n",
    "        \n",
    "    return np.mean(num_unique_repeated_phrases), np.std(num_unique_repeated_phrases)"
   ]
  },
  {
   "cell_type": "code",
   "execution_count": 47,
   "metadata": {},
   "outputs": [
    {
     "data": {
      "text/plain": [
       "(0.09325185185185186, 0.010157805623714367)"
      ]
     },
     "execution_count": 47,
     "metadata": {},
     "output_type": "execute_result"
    }
   ],
   "source": [
    "mean_std_reps_perchunk(metadata_df.loc[40,'text'], 5000)"
   ]
  },
  {
   "cell_type": "code",
   "execution_count": 48,
   "metadata": {},
   "outputs": [],
   "source": [
    "mean_reps_5000tok = []\n",
    "std_reps_5000tok = []\n",
    "\n",
    "for text in metadata_df.text:\n",
    "    mean_n_unique_reps, std_n_unique_reps = mean_std_reps_perchunk(text, 5000)\n",
    "    mean_reps_5000tok.append(mean_n_unique_reps)\n",
    "    std_reps_5000tok.append(std_n_unique_reps)"
   ]
  },
  {
   "cell_type": "markdown",
   "metadata": {},
   "source": [
    "## 3a. Test assumption that rates of repetitions does not increase/decrease significantly over course of book"
   ]
  },
  {
   "cell_type": "code",
   "execution_count": 109,
   "metadata": {},
   "outputs": [
    {
     "name": "stdout",
     "output_type": "stream",
     "text": [
      "Repetition rates vary significantly with place in text: The Light Fantastic\n",
      "\tKendall's tau: 0.7222222222222222\n",
      "Repetition rates vary significantly with place in text: Wyrd Sisters\n",
      "\tKendall's tau: 0.40590682253921034\n",
      "Repetition rates vary significantly with place in text: Men at Arms\n",
      "\tKendall's tau: 0.3401774158209303\n",
      "Repetition rates vary significantly with place in text: The Fifth Elephant\n",
      "\tKendall's tau: 0.4726759937885687\n",
      "Repetition rates vary significantly with place in text: The Truth\n",
      "\tKendall's tau: 0.3636405261167026\n",
      "Repetition rates vary significantly with place in text: Unseen Academicals\n",
      "\tKendall's tau: 0.4828591137146904\n"
     ]
    }
   ],
   "source": [
    "problematic_books = []\n",
    "\n",
    "for i in range(metadata_df.shape[0]):\n",
    "    chunks = get_chunks(metadata_df.loc[i, 'text'], 5000)\n",
    "    num_unique_repeated_phrases = []\n",
    "\n",
    "    for chunk in chunks:\n",
    "        n_unique = count_unique_repetitions(chunk)\n",
    "        num_unique_repeated_phrases.append(n_unique/5000)\n",
    "        \n",
    "    num_indices = len(num_unique_repeated_phrases)\n",
    "    tau_results = kendalltau(range(num_indices), num_unique_repeated_phrases)\n",
    "    if tau_results[1] <= 0.05:\n",
    "        print(\"Repetition rates vary significantly with place in text: \" + metadata_df.loc[i, 'title'])\n",
    "        print(\"\\tKendall's tau: \" + str(tau_results[0]))\n",
    "        problematic_books.append(metadata_df.loc[i, 'title'])"
   ]
  },
  {
   "cell_type": "code",
   "execution_count": 110,
   "metadata": {},
   "outputs": [
    {
     "data": {
      "text/plain": [
       "[False,\n",
       " True,\n",
       " False,\n",
       " False,\n",
       " False,\n",
       " True,\n",
       " False,\n",
       " False,\n",
       " False,\n",
       " False,\n",
       " False,\n",
       " False,\n",
       " False,\n",
       " False,\n",
       " True,\n",
       " False,\n",
       " False,\n",
       " False,\n",
       " False,\n",
       " False,\n",
       " False,\n",
       " False,\n",
       " False,\n",
       " True,\n",
       " True,\n",
       " False,\n",
       " False,\n",
       " False,\n",
       " False,\n",
       " False,\n",
       " False,\n",
       " False,\n",
       " True,\n",
       " False,\n",
       " False]"
      ]
     },
     "execution_count": 110,
     "metadata": {},
     "output_type": "execute_result"
    }
   ],
   "source": [
    "rep_sig_internal_variation = [True if title in problematic_books else False for title in metadata_df.title]\n",
    "rep_sig_internal_variation"
   ]
  },
  {
   "cell_type": "markdown",
   "metadata": {},
   "source": [
    "## 3b. Mark books where vocabulary metric varies significantly with place in book"
   ]
  },
  {
   "cell_type": "code",
   "execution_count": 102,
   "metadata": {},
   "outputs": [
    {
     "data": {
      "text/plain": [
       "Text(0.5, 0, 'Age at publication (years)')"
      ]
     },
     "execution_count": 102,
     "metadata": {},
     "output_type": "execute_result"
    },
    {
     "data": {
      "image/png": "[encoded data removed]",
      "text/plain": [
       "<Figure size 720x720 with 1 Axes>"
      ]
     },
     "metadata": {},
     "output_type": "display_data"
    }
   ],
   "source": [
    "col =[]\n",
    "  \n",
    "for title in metadata_df.title:\n",
    "    if title not in problematic_books:\n",
    "        col.append('blue')  \n",
    "    else:\n",
    "        col.append('red')\n",
    "        \n",
    "f, ax = plt.subplots(figsize=(10,10))\n",
    "\n",
    "ax.scatter(metadata_df.age_at_publication, mean_reps_5000tok, c=col)\n",
    "#ax.errorbar(metadata_df.age_at_publication, mean_ttr_2000tok, yerr=std_ttr_2000tok, fmt=\"o\")\n",
    "\n",
    "\n",
    "plt.xticks(rotation=45);\n",
    "ax.set_ylabel('Mean rate of maximal repeated phrase types (5000-token samples)')\n",
    "ax.set_xlabel('Age at publication (years)')"
   ]
  },
  {
   "cell_type": "code",
   "execution_count": 111,
   "metadata": {},
   "outputs": [
    {
     "data": {
      "text/plain": [
       "Index(['title', 'year_of_publication', 'age_at_publication', 'YA',\n",
       "       'number_of_words', 'text'],\n",
       "      dtype='object')"
      ]
     },
     "execution_count": 111,
     "metadata": {},
     "output_type": "execute_result"
    }
   ],
   "source": [
    "metadata_df.columns"
   ]
  },
  {
   "cell_type": "markdown",
   "metadata": {},
   "source": [
    "## 4. Save dataframe for significance testing"
   ]
  },
  {
   "cell_type": "code",
   "execution_count": 114,
   "metadata": {},
   "outputs": [],
   "source": [
    "metadata_df['mean_ttr_5000token_samples'] = mean_ttr_5000tok\n",
    "metadata_df['TTR_sig_inbook_variation'] = TTR_sig_internal_variation\n",
    "\n",
    "metadata_df['indefinite_word_rate'] = indefinite_wordcounts\n",
    "\n",
    "metadata_df['mean_max_repphrasetype_5000token_samples'] = mean_reps_5000tok\n",
    "metadata_df['rep_sig_inbook_variation'] = rep_sig_internal_variation"
   ]
  },
  {
   "cell_type": "code",
   "execution_count": 115,
   "metadata": {},
   "outputs": [],
   "source": [
    "notext = metadata_df.drop(['text'], axis=1)"
   ]
  },
  {
   "cell_type": "code",
   "execution_count": 116,
   "metadata": {},
   "outputs": [],
   "source": [
    "os.chdir('C:/Users/Dora Sperling/Desktop/Thesis')\n",
    "notext.to_csv('pratchett_metadata_hirst.csv', encoding='utf8', index=False)"
   ]
  },
  {
   "cell_type": "markdown",
   "metadata": {},
   "source": [
    "# (Could be useful - count total number of repeated phrases)"
   ]
  },
  {
   "cell_type": "code",
   "execution_count": 25,
   "metadata": {},
   "outputs": [],
   "source": [
    "# chunks = get_chunks(metadata_df.loc[43,'text'], 2000)\n",
    "# chunks[0][:100]"
   ]
  },
  {
   "cell_type": "code",
   "execution_count": 26,
   "metadata": {},
   "outputs": [],
   "source": [
    "# chunks = get_chunks(metadata_df.loc[0,'text'], 2000)"
   ]
  },
  {
   "cell_type": "code",
   "execution_count": 27,
   "metadata": {},
   "outputs": [],
   "source": [
    "# text = \"I went home. I went to the grocery store. I went home. I was tired because I went to the grocery store. Because I was tired and I went to bed. I slept when I went to bed\""
   ]
  },
  {
   "cell_type": "code",
   "execution_count": 28,
   "metadata": {},
   "outputs": [],
   "source": [
    "# text"
   ]
  },
  {
   "cell_type": "code",
   "execution_count": 29,
   "metadata": {},
   "outputs": [],
   "source": [
    "# from collections import Counter\n",
    "\n",
    "# def ngrams_locations(text, ngram_lengths = (2,5)):\n",
    "#     '''\n",
    "#     Takes a string and records n-grams (where n is 2, 3, and 4 - not 5). Returns a dictionary of n-grams that appear more than once.\n",
    "#     The keys of the dictionary are the n-grams.\n",
    "#     The values of the dictionary are lists containing all the indices where the n-grams occur. \n",
    "#     '''\n",
    "#     listof_ngram_dicts = []\n",
    "#     text = clean_text(text)\n",
    "#     tokenlist = text.lower().split()\n",
    "    \n",
    "#     # Loop indefinitely\n",
    "#     for ngram_range in range(ngram_lengths[0], ngram_lengths[1]):\n",
    "        \n",
    "#         # Initialize a new dictionary to store the ngrams that are found and the indexes where they're located\n",
    "#         ngram_dict = {}\n",
    "        \n",
    "#         # Get a list of all ngrams by sliding a window over the text\n",
    "#         ngramlist = [tokenlist[i:i+ngram_range] for i in range(len(tokenlist)) if i+ngram_range-1 < len(tokenlist)]\n",
    "        \n",
    "#         # Return all the unique ngrams in the text\n",
    "#         unique_ngrams = Counter([tuple(ngram) for ngram in ngramlist])\n",
    "        \n",
    "#         # Loop through the unique ngrams that were found\n",
    "#         for ngram in unique_ngrams:\n",
    "#             positions = []\n",
    "            \n",
    "#             # Loop through the length of the text\n",
    "#             for i in range(len(tokenlist)):\n",
    "                \n",
    "#                 # If a group of words matches the ngram, ...\n",
    "#                 if ngram == tuple(tokenlist[i:i+ngram_range]):\n",
    "                    \n",
    "#                     # ... then record the indexes of all the words in the ngram, (i.e. where it's located)\n",
    "#                     positions.append([inx for inx in range(i,i+ngram_range)])\n",
    "#             # Make an entry in the ngram dictionary with the ngram as the key, and a list of lists of indices where it's located\n",
    "#             ngram_dict[ngram] = positions\n",
    "        \n",
    "#         # Use a dictionary comprehension to filter out ngrams that only appear once (i.e. are not repeated)\n",
    "#         ngram_dict = {\" \".join(ngram):positions for ngram, positions in ngram_dict.items() if len(positions) >1}\n",
    "        \n",
    "        \n",
    "#         # If the dictionary of repeated ngrams is empty after a certain ngram length, then stop the loop\n",
    "#         if len(ngram_dict) == 0:\n",
    "#             break\n",
    "            \n",
    "#         # If the dictionary still has repeated phrases \n",
    "#         else: \n",
    "#         # Append this dictionary to a list containing dictionaries of all the ngram lengths\n",
    "#             listof_ngram_dicts.append(ngram_dict)\n",
    "            \n",
    "#         ngram_range += 1\n",
    "    \n",
    "#     return listof_ngram_dicts"
   ]
  },
  {
   "cell_type": "code",
   "execution_count": 30,
   "metadata": {},
   "outputs": [],
   "source": [
    "# ngrams_locations(text)"
   ]
  },
  {
   "cell_type": "code",
   "execution_count": 31,
   "metadata": {},
   "outputs": [],
   "source": [
    "# def remove_doublecounts(list_of_dicts):\n",
    "#     largest_unique_repeated_phrases = []\n",
    "    \n",
    "#     # Initialize the count of the largest repeated ngrams at 0\n",
    "#     count = 0\n",
    "    \n",
    "#     # loop over the list of dictionaries containing ngrams and their spans in the text\n",
    "#     for i in range(len(list_of_dicts)):\n",
    "        \n",
    "#         # Compare contiguous pairs of ngram dictionaries, i.e. compare the 3gram dictionary to the 4gram dictionary, etc.\n",
    "#         if i < len(list_of_dicts)-1:\n",
    "#             ngram_dict = list_of_dicts[i]\n",
    "#             next_ngram_dict = list_of_dicts[i+1]\n",
    "            \n",
    "#             # loop through all ngrams and the list of index spans (also a list)\n",
    "#             for ngram, indices in ngram_dict.items():\n",
    "                \n",
    "#                 # Make a flat list containing all the indices in the spans of all recorded ngrams\n",
    "#                 flat_inx_list = [inx for inxlists in next_ngram_dict.values() for inxlist in inxlists for inx in inxlist]\n",
    "                \n",
    "#     # If an ngram span in the dictionary of smaller ngrams does not appear in flat list of all indices of larger ngrams,...  \n",
    "#                 for index_span in indices:\n",
    "            \n",
    "#                     if not set(index_span).issubset(flat_inx_list):\n",
    "#                         largest_unique_repeated_phrases.append(ngram)\n",
    "#     # ... then that ngram does not appear in a larger repeated ngram\n",
    "#     # it is the longest repeated ngram and doesn't appear in a larger ngram\n",
    "#     # Add 1 to the maximal repeated phrase count\n",
    "#                         count +=1 \n",
    "#         else:\n",
    "#             ngram_dict = list_of_dicts[-1]\n",
    "#             for key, value in ngram_dict.items():\n",
    "#                 largest_unique_repeated_phrases.append(key)\n",
    "#                 count += len(value)\n",
    "#     return count\n",
    "\n",
    "\n",
    "# def maximal_repeated_phrase_count(text, window_size):\n",
    "#     repeated_phrase_rates = []\n",
    "#     chunks = get_chunks(text, window_size)\n",
    "#     for chunk in chunks:\n",
    "#         list_of_dicts = ngrams_locations(chunk)\n",
    "#         n_repeated_phrases = remove_doublecounts(list_of_dicts)\n",
    "#         repeated_phrase_rates.append(n_repeated_phrases/window_size)\n",
    "#     return np.mean(repeated_phrase_rates)"
   ]
  },
  {
   "cell_type": "code",
   "execution_count": 32,
   "metadata": {},
   "outputs": [],
   "source": [
    "# print(text)\n",
    "# # I went to the grocery store - 2\n",
    "# # I was tired - 2\n",
    "# # I went to bed - 2\n",
    "# # I went home - 2"
   ]
  },
  {
   "cell_type": "code",
   "execution_count": 33,
   "metadata": {},
   "outputs": [],
   "source": [
    "# list_of_dicts_text = ngrams_locations(text)\n",
    "# remove_doublecounts(list_of_dicts_text)"
   ]
  },
  {
   "cell_type": "code",
   "execution_count": 34,
   "metadata": {},
   "outputs": [],
   "source": [
    "# metadata_df.loc[0,'text']\n",
    "# maximal_repeated_phrase_count(metadata_df.loc[0,'text'], 2000)"
   ]
  },
  {
   "cell_type": "code",
   "execution_count": 35,
   "metadata": {},
   "outputs": [],
   "source": [
    "# mean_repeatphrase_rate = []\n",
    "# for book in tqdm(metadata_df.text):\n",
    "#     repeated_phraserate = maximal_repeated_phrase_count(book, 2000)\n",
    "#     mean_repeatphrase_rate.append(repeated_phraserate)"
   ]
  },
  {
   "cell_type": "code",
   "execution_count": 36,
   "metadata": {},
   "outputs": [],
   "source": [
    "# print(mean_repeatphrase_rate)"
   ]
  },
  {
   "cell_type": "code",
   "execution_count": 37,
   "metadata": {},
   "outputs": [],
   "source": [
    "# f, ax = plt.subplots(figsize=(10,10))\n",
    "\n",
    "# ax.scatter(metadata_df.age_at_publication, mean_repeatphrase_rate,\n",
    "#            c=metadata_df['YA'].map(colors))\n",
    "\n",
    "# plt.xticks(rotation=45);\n",
    "# ax.legend()\n",
    "# ax.set_ylabel('Repeated phrase rate (per 2000 tokens)')\n",
    "# plt.axvspan(57, 67, color='red', alpha=0.2)\n",
    "# ax.set_xlabel('Age at Publication')"
   ]
  }
 ],
 "metadata": {
  "kernelspec": {
   "display_name": "Python 3",
   "language": "python",
   "name": "python3"
  },
  "language_info": {
   "codemirror_mode": {
    "name": "ipython",
    "version": 3
   },
   "file_extension": ".py",
   "mimetype": "text/x-python",
   "name": "python",
   "nbconvert_exporter": "python",
   "pygments_lexer": "ipython3",
   "version": "3.8.8"
  }
 },
 "nbformat": 4,
 "nbformat_minor": 4
}
