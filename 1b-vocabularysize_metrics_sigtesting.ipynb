{
 "cells": [
  {
   "cell_type": "markdown",
   "id": "e09890bd",
   "metadata": {},
   "source": [
    "# I. Lexical Richness"
   ]
  },
  {
   "cell_type": "markdown",
   "id": "3165a37c",
   "metadata": {},
   "source": [
    "# 1. Test Correlation between Age and Type-Token Ratio (Lexical Richness)"
   ]
  },
  {
   "cell_type": "code",
   "execution_count": 38,
   "id": "404d5d2a",
   "metadata": {},
   "outputs": [],
   "source": [
    "df <- read.csv('pratchett_metadata_hirst.csv', sep=',')"
   ]
  },
  {
   "cell_type": "code",
   "execution_count": 39,
   "id": "94ee04fc",
   "metadata": {},
   "outputs": [
    {
     "data": {
      "text/html": [
       "<ol class=list-inline>\n",
       "\t<li>'title'</li>\n",
       "\t<li>'year_of_publication'</li>\n",
       "\t<li>'age_at_publication'</li>\n",
       "\t<li>'YA'</li>\n",
       "\t<li>'number_of_words'</li>\n",
       "\t<li>'mean_ttr_5000token_samples'</li>\n",
       "\t<li>'TTR_sig_inbook_variation'</li>\n",
       "\t<li>'indefinite_word_rate'</li>\n",
       "\t<li>'mean_max_repphrasetype_5000token_samples'</li>\n",
       "\t<li>'rep_sig_inbook_variation'</li>\n",
       "</ol>\n"
      ],
      "text/latex": [
       "\\begin{enumerate*}\n",
       "\\item 'title'\n",
       "\\item 'year\\_of\\_publication'\n",
       "\\item 'age\\_at\\_publication'\n",
       "\\item 'YA'\n",
       "\\item 'number\\_of\\_words'\n",
       "\\item 'mean\\_ttr\\_5000token\\_samples'\n",
       "\\item 'TTR\\_sig\\_inbook\\_variation'\n",
       "\\item 'indefinite\\_word\\_rate'\n",
       "\\item 'mean\\_max\\_repphrasetype\\_5000token\\_samples'\n",
       "\\item 'rep\\_sig\\_inbook\\_variation'\n",
       "\\end{enumerate*}\n"
      ],
      "text/markdown": [
       "1. 'title'\n",
       "2. 'year_of_publication'\n",
       "3. 'age_at_publication'\n",
       "4. 'YA'\n",
       "5. 'number_of_words'\n",
       "6. 'mean_ttr_5000token_samples'\n",
       "7. 'TTR_sig_inbook_variation'\n",
       "8. 'indefinite_word_rate'\n",
       "9. 'mean_max_repphrasetype_5000token_samples'\n",
       "10. 'rep_sig_inbook_variation'\n",
       "\n",
       "\n"
      ],
      "text/plain": [
       " [1] \"title\"                                   \n",
       " [2] \"year_of_publication\"                     \n",
       " [3] \"age_at_publication\"                      \n",
       " [4] \"YA\"                                      \n",
       " [5] \"number_of_words\"                         \n",
       " [6] \"mean_ttr_5000token_samples\"              \n",
       " [7] \"TTR_sig_inbook_variation\"                \n",
       " [8] \"indefinite_word_rate\"                    \n",
       " [9] \"mean_max_repphrasetype_5000token_samples\"\n",
       "[10] \"rep_sig_inbook_variation\"                "
      ]
     },
     "metadata": {},
     "output_type": "display_data"
    }
   ],
   "source": [
    "colnames(df)"
   ]
  },
  {
   "cell_type": "code",
   "execution_count": 40,
   "id": "7855dc63",
   "metadata": {},
   "outputs": [
    {
     "data": {
      "text/html": [
       "<table>\n",
       "<thead><tr><th scope=col>title</th><th scope=col>year_of_publication</th><th scope=col>age_at_publication</th><th scope=col>YA</th><th scope=col>number_of_words</th><th scope=col>mean_ttr_5000token_samples</th><th scope=col>TTR_sig_inbook_variation</th><th scope=col>indefinite_word_rate</th><th scope=col>mean_max_repphrasetype_5000token_samples</th><th scope=col>rep_sig_inbook_variation</th></tr></thead>\n",
       "<tbody>\n",
       "\t<tr><td>The Color Of Magic </td><td>1983.00            </td><td>35.58              </td><td>False              </td><td> 66492             </td><td>0.2955231          </td><td>False              </td><td>0.003068038        </td><td>0.08064615         </td><td>False              </td></tr>\n",
       "\t<tr><td>The Light Fantastic</td><td>1986.00            </td><td>38.10              </td><td>False              </td><td> 45998             </td><td>0.2714444          </td><td>True               </td><td>0.005239358        </td><td>0.08968889         </td><td>True               </td></tr>\n",
       "\t<tr><td>Equal Rites        </td><td>1987.00            </td><td>38.72              </td><td>False              </td><td> 67372             </td><td>0.2755538          </td><td>False              </td><td>0.005091136        </td><td>0.08729231         </td><td>False              </td></tr>\n",
       "\t<tr><td>Mort               </td><td>1987.51            </td><td>39.50              </td><td>False              </td><td> 73987             </td><td>0.2809714          </td><td>False              </td><td>0.004216957        </td><td>0.08545714         </td><td>False              </td></tr>\n",
       "\t<tr><td>Sourcery           </td><td>1988.00            </td><td>40.08              </td><td>False              </td><td> 79536             </td><td>0.2819600          </td><td>True               </td><td>0.004802857        </td><td>0.08546667         </td><td>False              </td></tr>\n",
       "\t<tr><td>Wyrd Sisters       </td><td>1988.00            </td><td>40.54              </td><td>False              </td><td> 86320             </td><td>0.2737059          </td><td>False              </td><td>0.004355885        </td><td>0.08748235         </td><td>True               </td></tr>\n",
       "\t<tr><td>Pyramids           </td><td>1989.00            </td><td>41.13              </td><td>False              </td><td> 88272             </td><td>0.2791294          </td><td>False              </td><td>0.004078303        </td><td>0.08980000         </td><td>False              </td></tr>\n",
       "\t<tr><td>Guards! Guards!    </td><td>1989.00            </td><td>41.53              </td><td>False              </td><td> 99811             </td><td>0.2751263          </td><td>False              </td><td>0.005350112        </td><td>0.08907368         </td><td>False              </td></tr>\n",
       "\t<tr><td>Eric               </td><td>1990.00            </td><td>42.30              </td><td>False              </td><td> 34887             </td><td>0.2695000          </td><td>False              </td><td>0.006506722        </td><td>0.08986667         </td><td>False              </td></tr>\n",
       "\t<tr><td>Moving Pictures    </td><td>1990.00            </td><td>42.51              </td><td>False              </td><td> 98721             </td><td>0.2639158          </td><td>False              </td><td>0.006037216        </td><td>0.09218947         </td><td>False              </td></tr>\n",
       "\t<tr><td>Reaper Man         </td><td>1991.00            </td><td>43.07              </td><td>False              </td><td> 79450             </td><td>0.2680800          </td><td>False              </td><td>0.005538074        </td><td>0.08962667         </td><td>False              </td></tr>\n",
       "\t<tr><td>Witches Abroad     </td><td>1991.00            </td><td>43.53              </td><td>False              </td><td> 82667             </td><td>0.2532750          </td><td>False              </td><td>0.005637074        </td><td>0.09302500         </td><td>False              </td></tr>\n",
       "\t<tr><td>Small Gods         </td><td>1992.00            </td><td>44.06              </td><td>False              </td><td> 92911             </td><td>0.2546333          </td><td>True               </td><td>0.005263101        </td><td>0.09522222         </td><td>False              </td></tr>\n",
       "\t<tr><td>Lords and Ladies   </td><td>1992.00            </td><td>44.52              </td><td>False              </td><td> 90060             </td><td>0.2569333          </td><td>False              </td><td>0.005962692        </td><td>0.09170000         </td><td>False              </td></tr>\n",
       "\t<tr><td>Men at Arms        </td><td>1993.00            </td><td>45.54              </td><td>False              </td><td> 95934             </td><td>0.2582000          </td><td>True               </td><td>0.005201493        </td><td>0.09011579         </td><td>True               </td></tr>\n",
       "\t<tr><td>Soul Music         </td><td>1994.00            </td><td>46.06              </td><td>False              </td><td> 96489             </td><td>0.2564316          </td><td>True               </td><td>0.005824498        </td><td>0.09255789         </td><td>False              </td></tr>\n",
       "\t<tr><td>Interesting Times  </td><td>1994.00            </td><td>46.52              </td><td>False              </td><td> 94671             </td><td>0.2661556          </td><td>True               </td><td>0.005492706        </td><td>0.08900000         </td><td>False              </td></tr>\n",
       "\t<tr><td>Maskerade          </td><td>1995.00            </td><td>47.52              </td><td>False              </td><td> 87216             </td><td>0.2587059          </td><td>False              </td><td>0.004597780        </td><td>0.08940000         </td><td>False              </td></tr>\n",
       "\t<tr><td>Feet of Clay       </td><td>1996.00            </td><td>48.08              </td><td>False              </td><td> 96225             </td><td>0.2620737          </td><td>True               </td><td>0.005029878        </td><td>0.08691579         </td><td>False              </td></tr>\n",
       "\t<tr><td>Hogfather          </td><td>1996.00            </td><td>48.51              </td><td>False              </td><td> 95986             </td><td>0.2606211          </td><td>True               </td><td>0.005948784        </td><td>0.08940000         </td><td>False              </td></tr>\n",
       "\t<tr><td>Jingo              </td><td>1997.00            </td><td>49.53              </td><td>False              </td><td>107027             </td><td>0.2614476          </td><td>True               </td><td>0.004914648        </td><td>0.08925714         </td><td>False              </td></tr>\n",
       "\t<tr><td>The Last Continent </td><td>1998.00            </td><td>50.01              </td><td>False              </td><td> 96106             </td><td>0.2600526          </td><td>False              </td><td>0.005483529        </td><td>0.08804211         </td><td>False              </td></tr>\n",
       "\t<tr><td>Carpe Jugulum      </td><td>1998.00            </td><td>50.52              </td><td>False              </td><td>100517             </td><td>0.2615600          </td><td>False              </td><td>0.004894694        </td><td>0.08591000         </td><td>False              </td></tr>\n",
       "\t<tr><td>The Fifth Elephant </td><td>1999.00            </td><td>51.52              </td><td>False              </td><td>110059             </td><td>0.2605636          </td><td>False              </td><td>0.005142696        </td><td>0.08652727         </td><td>True               </td></tr>\n",
       "\t<tr><td>The Truth          </td><td>2000.00            </td><td>52.52              </td><td>False              </td><td>106800             </td><td>0.2582190          </td><td>True               </td><td>0.005374532        </td><td>0.09048571         </td><td>True               </td></tr>\n",
       "\t<tr><td>Thief of Time      </td><td>2001.00            </td><td>53.01              </td><td>False              </td><td>103809             </td><td>0.2581700          </td><td>True               </td><td>0.004826171        </td><td>0.09074000         </td><td>False              </td></tr>\n",
       "\t<tr><td>The Last Hero      </td><td>2001.00            </td><td>53.47              </td><td>False              </td><td> 40549             </td><td>0.2609500          </td><td>True               </td><td>0.005425535        </td><td>0.08995000         </td><td>False              </td></tr>\n",
       "\t<tr><td>Night Watch        </td><td>2002.00            </td><td>54.53              </td><td>False              </td><td>117065             </td><td>0.2544087          </td><td>False              </td><td>0.004288216        </td><td>0.09178261         </td><td>False              </td></tr>\n",
       "\t<tr><td>Monstrous Regiment </td><td>2003.00            </td><td>55.43              </td><td>False              </td><td>118881             </td><td>0.2566783          </td><td>True               </td><td>0.003810533        </td><td>0.08725217         </td><td>False              </td></tr>\n",
       "\t<tr><td>Going Postal       </td><td>2004.00            </td><td>56.43              </td><td>False              </td><td>119443             </td><td>0.2591478          </td><td>False              </td><td>0.004428891        </td><td>0.09046957         </td><td>False              </td></tr>\n",
       "\t<tr><td>Thud!              </td><td>2005.00            </td><td>57.41              </td><td>False              </td><td>112323             </td><td>0.2592273          </td><td>False              </td><td>0.004237779        </td><td>0.08838182         </td><td>False              </td></tr>\n",
       "\t<tr><td>Making Money       </td><td>2007.00            </td><td>59.41              </td><td>False              </td><td>114803             </td><td>0.2662727          </td><td>False              </td><td>0.003806521        </td><td>0.08674545         </td><td>False              </td></tr>\n",
       "\t<tr><td>Unseen Academicals </td><td>2009.00            </td><td>61.45              </td><td>False              </td><td>137877             </td><td>0.2544963          </td><td>True               </td><td>0.004409728        </td><td>0.09325185         </td><td>True               </td></tr>\n",
       "\t<tr><td>Snuff              </td><td>2011.00            </td><td>63.46              </td><td>False              </td><td>133121             </td><td>0.2593615          </td><td>False              </td><td>0.004003876        </td><td>0.09123846         </td><td>False              </td></tr>\n",
       "\t<tr><td>Raising Steam      </td><td>2013.00            </td><td>65.49              </td><td>False              </td><td>126107             </td><td>0.2690000          </td><td>False              </td><td>0.003838011        </td><td>0.08668800         </td><td>False              </td></tr>\n",
       "</tbody>\n",
       "</table>\n"
      ],
      "text/latex": [
       "\\begin{tabular}{r|llllllllll}\n",
       " title & year\\_of\\_publication & age\\_at\\_publication & YA & number\\_of\\_words & mean\\_ttr\\_5000token\\_samples & TTR\\_sig\\_inbook\\_variation & indefinite\\_word\\_rate & mean\\_max\\_repphrasetype\\_5000token\\_samples & rep\\_sig\\_inbook\\_variation\\\\\n",
       "\\hline\n",
       "\t The Color Of Magic  & 1983.00             & 35.58               & False               &  66492              & 0.2955231           & False               & 0.003068038         & 0.08064615          & False              \\\\\n",
       "\t The Light Fantastic & 1986.00             & 38.10               & False               &  45998              & 0.2714444           & True                & 0.005239358         & 0.08968889          & True               \\\\\n",
       "\t Equal Rites         & 1987.00             & 38.72               & False               &  67372              & 0.2755538           & False               & 0.005091136         & 0.08729231          & False              \\\\\n",
       "\t Mort                & 1987.51             & 39.50               & False               &  73987              & 0.2809714           & False               & 0.004216957         & 0.08545714          & False              \\\\\n",
       "\t Sourcery            & 1988.00             & 40.08               & False               &  79536              & 0.2819600           & True                & 0.004802857         & 0.08546667          & False              \\\\\n",
       "\t Wyrd Sisters        & 1988.00             & 40.54               & False               &  86320              & 0.2737059           & False               & 0.004355885         & 0.08748235          & True               \\\\\n",
       "\t Pyramids            & 1989.00             & 41.13               & False               &  88272              & 0.2791294           & False               & 0.004078303         & 0.08980000          & False              \\\\\n",
       "\t Guards! Guards!     & 1989.00             & 41.53               & False               &  99811              & 0.2751263           & False               & 0.005350112         & 0.08907368          & False              \\\\\n",
       "\t Eric                & 1990.00             & 42.30               & False               &  34887              & 0.2695000           & False               & 0.006506722         & 0.08986667          & False              \\\\\n",
       "\t Moving Pictures     & 1990.00             & 42.51               & False               &  98721              & 0.2639158           & False               & 0.006037216         & 0.09218947          & False              \\\\\n",
       "\t Reaper Man          & 1991.00             & 43.07               & False               &  79450              & 0.2680800           & False               & 0.005538074         & 0.08962667          & False              \\\\\n",
       "\t Witches Abroad      & 1991.00             & 43.53               & False               &  82667              & 0.2532750           & False               & 0.005637074         & 0.09302500          & False              \\\\\n",
       "\t Small Gods          & 1992.00             & 44.06               & False               &  92911              & 0.2546333           & True                & 0.005263101         & 0.09522222          & False              \\\\\n",
       "\t Lords and Ladies    & 1992.00             & 44.52               & False               &  90060              & 0.2569333           & False               & 0.005962692         & 0.09170000          & False              \\\\\n",
       "\t Men at Arms         & 1993.00             & 45.54               & False               &  95934              & 0.2582000           & True                & 0.005201493         & 0.09011579          & True               \\\\\n",
       "\t Soul Music          & 1994.00             & 46.06               & False               &  96489              & 0.2564316           & True                & 0.005824498         & 0.09255789          & False              \\\\\n",
       "\t Interesting Times   & 1994.00             & 46.52               & False               &  94671              & 0.2661556           & True                & 0.005492706         & 0.08900000          & False              \\\\\n",
       "\t Maskerade           & 1995.00             & 47.52               & False               &  87216              & 0.2587059           & False               & 0.004597780         & 0.08940000          & False              \\\\\n",
       "\t Feet of Clay        & 1996.00             & 48.08               & False               &  96225              & 0.2620737           & True                & 0.005029878         & 0.08691579          & False              \\\\\n",
       "\t Hogfather           & 1996.00             & 48.51               & False               &  95986              & 0.2606211           & True                & 0.005948784         & 0.08940000          & False              \\\\\n",
       "\t Jingo               & 1997.00             & 49.53               & False               & 107027              & 0.2614476           & True                & 0.004914648         & 0.08925714          & False              \\\\\n",
       "\t The Last Continent  & 1998.00             & 50.01               & False               &  96106              & 0.2600526           & False               & 0.005483529         & 0.08804211          & False              \\\\\n",
       "\t Carpe Jugulum       & 1998.00             & 50.52               & False               & 100517              & 0.2615600           & False               & 0.004894694         & 0.08591000          & False              \\\\\n",
       "\t The Fifth Elephant  & 1999.00             & 51.52               & False               & 110059              & 0.2605636           & False               & 0.005142696         & 0.08652727          & True               \\\\\n",
       "\t The Truth           & 2000.00             & 52.52               & False               & 106800              & 0.2582190           & True                & 0.005374532         & 0.09048571          & True               \\\\\n",
       "\t Thief of Time       & 2001.00             & 53.01               & False               & 103809              & 0.2581700           & True                & 0.004826171         & 0.09074000          & False              \\\\\n",
       "\t The Last Hero       & 2001.00             & 53.47               & False               &  40549              & 0.2609500           & True                & 0.005425535         & 0.08995000          & False              \\\\\n",
       "\t Night Watch         & 2002.00             & 54.53               & False               & 117065              & 0.2544087           & False               & 0.004288216         & 0.09178261          & False              \\\\\n",
       "\t Monstrous Regiment  & 2003.00             & 55.43               & False               & 118881              & 0.2566783           & True                & 0.003810533         & 0.08725217          & False              \\\\\n",
       "\t Going Postal        & 2004.00             & 56.43               & False               & 119443              & 0.2591478           & False               & 0.004428891         & 0.09046957          & False              \\\\\n",
       "\t Thud!               & 2005.00             & 57.41               & False               & 112323              & 0.2592273           & False               & 0.004237779         & 0.08838182          & False              \\\\\n",
       "\t Making Money        & 2007.00             & 59.41               & False               & 114803              & 0.2662727           & False               & 0.003806521         & 0.08674545          & False              \\\\\n",
       "\t Unseen Academicals  & 2009.00             & 61.45               & False               & 137877              & 0.2544963           & True                & 0.004409728         & 0.09325185          & True               \\\\\n",
       "\t Snuff               & 2011.00             & 63.46               & False               & 133121              & 0.2593615           & False               & 0.004003876         & 0.09123846          & False              \\\\\n",
       "\t Raising Steam       & 2013.00             & 65.49               & False               & 126107              & 0.2690000           & False               & 0.003838011         & 0.08668800          & False              \\\\\n",
       "\\end{tabular}\n"
      ],
      "text/markdown": [
       "\n",
       "| title | year_of_publication | age_at_publication | YA | number_of_words | mean_ttr_5000token_samples | TTR_sig_inbook_variation | indefinite_word_rate | mean_max_repphrasetype_5000token_samples | rep_sig_inbook_variation |\n",
       "|---|---|---|---|---|---|---|---|---|---|\n",
       "| The Color Of Magic  | 1983.00             | 35.58               | False               |  66492              | 0.2955231           | False               | 0.003068038         | 0.08064615          | False               |\n",
       "| The Light Fantastic | 1986.00             | 38.10               | False               |  45998              | 0.2714444           | True                | 0.005239358         | 0.08968889          | True                |\n",
       "| Equal Rites         | 1987.00             | 38.72               | False               |  67372              | 0.2755538           | False               | 0.005091136         | 0.08729231          | False               |\n",
       "| Mort                | 1987.51             | 39.50               | False               |  73987              | 0.2809714           | False               | 0.004216957         | 0.08545714          | False               |\n",
       "| Sourcery            | 1988.00             | 40.08               | False               |  79536              | 0.2819600           | True                | 0.004802857         | 0.08546667          | False               |\n",
       "| Wyrd Sisters        | 1988.00             | 40.54               | False               |  86320              | 0.2737059           | False               | 0.004355885         | 0.08748235          | True                |\n",
       "| Pyramids            | 1989.00             | 41.13               | False               |  88272              | 0.2791294           | False               | 0.004078303         | 0.08980000          | False               |\n",
       "| Guards! Guards!     | 1989.00             | 41.53               | False               |  99811              | 0.2751263           | False               | 0.005350112         | 0.08907368          | False               |\n",
       "| Eric                | 1990.00             | 42.30               | False               |  34887              | 0.2695000           | False               | 0.006506722         | 0.08986667          | False               |\n",
       "| Moving Pictures     | 1990.00             | 42.51               | False               |  98721              | 0.2639158           | False               | 0.006037216         | 0.09218947          | False               |\n",
       "| Reaper Man          | 1991.00             | 43.07               | False               |  79450              | 0.2680800           | False               | 0.005538074         | 0.08962667          | False               |\n",
       "| Witches Abroad      | 1991.00             | 43.53               | False               |  82667              | 0.2532750           | False               | 0.005637074         | 0.09302500          | False               |\n",
       "| Small Gods          | 1992.00             | 44.06               | False               |  92911              | 0.2546333           | True                | 0.005263101         | 0.09522222          | False               |\n",
       "| Lords and Ladies    | 1992.00             | 44.52               | False               |  90060              | 0.2569333           | False               | 0.005962692         | 0.09170000          | False               |\n",
       "| Men at Arms         | 1993.00             | 45.54               | False               |  95934              | 0.2582000           | True                | 0.005201493         | 0.09011579          | True                |\n",
       "| Soul Music          | 1994.00             | 46.06               | False               |  96489              | 0.2564316           | True                | 0.005824498         | 0.09255789          | False               |\n",
       "| Interesting Times   | 1994.00             | 46.52               | False               |  94671              | 0.2661556           | True                | 0.005492706         | 0.08900000          | False               |\n",
       "| Maskerade           | 1995.00             | 47.52               | False               |  87216              | 0.2587059           | False               | 0.004597780         | 0.08940000          | False               |\n",
       "| Feet of Clay        | 1996.00             | 48.08               | False               |  96225              | 0.2620737           | True                | 0.005029878         | 0.08691579          | False               |\n",
       "| Hogfather           | 1996.00             | 48.51               | False               |  95986              | 0.2606211           | True                | 0.005948784         | 0.08940000          | False               |\n",
       "| Jingo               | 1997.00             | 49.53               | False               | 107027              | 0.2614476           | True                | 0.004914648         | 0.08925714          | False               |\n",
       "| The Last Continent  | 1998.00             | 50.01               | False               |  96106              | 0.2600526           | False               | 0.005483529         | 0.08804211          | False               |\n",
       "| Carpe Jugulum       | 1998.00             | 50.52               | False               | 100517              | 0.2615600           | False               | 0.004894694         | 0.08591000          | False               |\n",
       "| The Fifth Elephant  | 1999.00             | 51.52               | False               | 110059              | 0.2605636           | False               | 0.005142696         | 0.08652727          | True                |\n",
       "| The Truth           | 2000.00             | 52.52               | False               | 106800              | 0.2582190           | True                | 0.005374532         | 0.09048571          | True                |\n",
       "| Thief of Time       | 2001.00             | 53.01               | False               | 103809              | 0.2581700           | True                | 0.004826171         | 0.09074000          | False               |\n",
       "| The Last Hero       | 2001.00             | 53.47               | False               |  40549              | 0.2609500           | True                | 0.005425535         | 0.08995000          | False               |\n",
       "| Night Watch         | 2002.00             | 54.53               | False               | 117065              | 0.2544087           | False               | 0.004288216         | 0.09178261          | False               |\n",
       "| Monstrous Regiment  | 2003.00             | 55.43               | False               | 118881              | 0.2566783           | True                | 0.003810533         | 0.08725217          | False               |\n",
       "| Going Postal        | 2004.00             | 56.43               | False               | 119443              | 0.2591478           | False               | 0.004428891         | 0.09046957          | False               |\n",
       "| Thud!               | 2005.00             | 57.41               | False               | 112323              | 0.2592273           | False               | 0.004237779         | 0.08838182          | False               |\n",
       "| Making Money        | 2007.00             | 59.41               | False               | 114803              | 0.2662727           | False               | 0.003806521         | 0.08674545          | False               |\n",
       "| Unseen Academicals  | 2009.00             | 61.45               | False               | 137877              | 0.2544963           | True                | 0.004409728         | 0.09325185          | True                |\n",
       "| Snuff               | 2011.00             | 63.46               | False               | 133121              | 0.2593615           | False               | 0.004003876         | 0.09123846          | False               |\n",
       "| Raising Steam       | 2013.00             | 65.49               | False               | 126107              | 0.2690000           | False               | 0.003838011         | 0.08668800          | False               |\n",
       "\n"
      ],
      "text/plain": [
       "   title               year_of_publication age_at_publication YA   \n",
       "1  The Color Of Magic  1983.00             35.58              False\n",
       "2  The Light Fantastic 1986.00             38.10              False\n",
       "3  Equal Rites         1987.00             38.72              False\n",
       "4  Mort                1987.51             39.50              False\n",
       "5  Sourcery            1988.00             40.08              False\n",
       "6  Wyrd Sisters        1988.00             40.54              False\n",
       "7  Pyramids            1989.00             41.13              False\n",
       "8  Guards! Guards!     1989.00             41.53              False\n",
       "9  Eric                1990.00             42.30              False\n",
       "10 Moving Pictures     1990.00             42.51              False\n",
       "11 Reaper Man          1991.00             43.07              False\n",
       "12 Witches Abroad      1991.00             43.53              False\n",
       "13 Small Gods          1992.00             44.06              False\n",
       "14 Lords and Ladies    1992.00             44.52              False\n",
       "15 Men at Arms         1993.00             45.54              False\n",
       "16 Soul Music          1994.00             46.06              False\n",
       "17 Interesting Times   1994.00             46.52              False\n",
       "18 Maskerade           1995.00             47.52              False\n",
       "19 Feet of Clay        1996.00             48.08              False\n",
       "20 Hogfather           1996.00             48.51              False\n",
       "21 Jingo               1997.00             49.53              False\n",
       "22 The Last Continent  1998.00             50.01              False\n",
       "23 Carpe Jugulum       1998.00             50.52              False\n",
       "24 The Fifth Elephant  1999.00             51.52              False\n",
       "25 The Truth           2000.00             52.52              False\n",
       "26 Thief of Time       2001.00             53.01              False\n",
       "27 The Last Hero       2001.00             53.47              False\n",
       "28 Night Watch         2002.00             54.53              False\n",
       "29 Monstrous Regiment  2003.00             55.43              False\n",
       "30 Going Postal        2004.00             56.43              False\n",
       "31 Thud!               2005.00             57.41              False\n",
       "32 Making Money        2007.00             59.41              False\n",
       "33 Unseen Academicals  2009.00             61.45              False\n",
       "34 Snuff               2011.00             63.46              False\n",
       "35 Raising Steam       2013.00             65.49              False\n",
       "   number_of_words mean_ttr_5000token_samples TTR_sig_inbook_variation\n",
       "1   66492          0.2955231                  False                   \n",
       "2   45998          0.2714444                  True                    \n",
       "3   67372          0.2755538                  False                   \n",
       "4   73987          0.2809714                  False                   \n",
       "5   79536          0.2819600                  True                    \n",
       "6   86320          0.2737059                  False                   \n",
       "7   88272          0.2791294                  False                   \n",
       "8   99811          0.2751263                  False                   \n",
       "9   34887          0.2695000                  False                   \n",
       "10  98721          0.2639158                  False                   \n",
       "11  79450          0.2680800                  False                   \n",
       "12  82667          0.2532750                  False                   \n",
       "13  92911          0.2546333                  True                    \n",
       "14  90060          0.2569333                  False                   \n",
       "15  95934          0.2582000                  True                    \n",
       "16  96489          0.2564316                  True                    \n",
       "17  94671          0.2661556                  True                    \n",
       "18  87216          0.2587059                  False                   \n",
       "19  96225          0.2620737                  True                    \n",
       "20  95986          0.2606211                  True                    \n",
       "21 107027          0.2614476                  True                    \n",
       "22  96106          0.2600526                  False                   \n",
       "23 100517          0.2615600                  False                   \n",
       "24 110059          0.2605636                  False                   \n",
       "25 106800          0.2582190                  True                    \n",
       "26 103809          0.2581700                  True                    \n",
       "27  40549          0.2609500                  True                    \n",
       "28 117065          0.2544087                  False                   \n",
       "29 118881          0.2566783                  True                    \n",
       "30 119443          0.2591478                  False                   \n",
       "31 112323          0.2592273                  False                   \n",
       "32 114803          0.2662727                  False                   \n",
       "33 137877          0.2544963                  True                    \n",
       "34 133121          0.2593615                  False                   \n",
       "35 126107          0.2690000                  False                   \n",
       "   indefinite_word_rate mean_max_repphrasetype_5000token_samples\n",
       "1  0.003068038          0.08064615                              \n",
       "2  0.005239358          0.08968889                              \n",
       "3  0.005091136          0.08729231                              \n",
       "4  0.004216957          0.08545714                              \n",
       "5  0.004802857          0.08546667                              \n",
       "6  0.004355885          0.08748235                              \n",
       "7  0.004078303          0.08980000                              \n",
       "8  0.005350112          0.08907368                              \n",
       "9  0.006506722          0.08986667                              \n",
       "10 0.006037216          0.09218947                              \n",
       "11 0.005538074          0.08962667                              \n",
       "12 0.005637074          0.09302500                              \n",
       "13 0.005263101          0.09522222                              \n",
       "14 0.005962692          0.09170000                              \n",
       "15 0.005201493          0.09011579                              \n",
       "16 0.005824498          0.09255789                              \n",
       "17 0.005492706          0.08900000                              \n",
       "18 0.004597780          0.08940000                              \n",
       "19 0.005029878          0.08691579                              \n",
       "20 0.005948784          0.08940000                              \n",
       "21 0.004914648          0.08925714                              \n",
       "22 0.005483529          0.08804211                              \n",
       "23 0.004894694          0.08591000                              \n",
       "24 0.005142696          0.08652727                              \n",
       "25 0.005374532          0.09048571                              \n",
       "26 0.004826171          0.09074000                              \n",
       "27 0.005425535          0.08995000                              \n",
       "28 0.004288216          0.09178261                              \n",
       "29 0.003810533          0.08725217                              \n",
       "30 0.004428891          0.09046957                              \n",
       "31 0.004237779          0.08838182                              \n",
       "32 0.003806521          0.08674545                              \n",
       "33 0.004409728          0.09325185                              \n",
       "34 0.004003876          0.09123846                              \n",
       "35 0.003838011          0.08668800                              \n",
       "   rep_sig_inbook_variation\n",
       "1  False                   \n",
       "2  True                    \n",
       "3  False                   \n",
       "4  False                   \n",
       "5  False                   \n",
       "6  True                    \n",
       "7  False                   \n",
       "8  False                   \n",
       "9  False                   \n",
       "10 False                   \n",
       "11 False                   \n",
       "12 False                   \n",
       "13 False                   \n",
       "14 False                   \n",
       "15 True                    \n",
       "16 False                   \n",
       "17 False                   \n",
       "18 False                   \n",
       "19 False                   \n",
       "20 False                   \n",
       "21 False                   \n",
       "22 False                   \n",
       "23 False                   \n",
       "24 True                    \n",
       "25 True                    \n",
       "26 False                   \n",
       "27 False                   \n",
       "28 False                   \n",
       "29 False                   \n",
       "30 False                   \n",
       "31 False                   \n",
       "32 False                   \n",
       "33 True                    \n",
       "34 False                   \n",
       "35 False                   "
      ]
     },
     "metadata": {},
     "output_type": "display_data"
    }
   ],
   "source": [
    "df <- df[df$YA == 'False', ]\n",
    "row.names(df) <- c(1:35)\n",
    "df"
   ]
  },
  {
   "cell_type": "code",
   "execution_count": 42,
   "id": "7e2c7fe8",
   "metadata": {},
   "outputs": [
    {
     "data": {
      "image/png": "[encoded data removed]",
      "text/plain": [
       "plot without title"
      ]
     },
     "metadata": {},
     "output_type": "display_data"
    }
   ],
   "source": [
    "plot(mean_ttr_5000token_samples~age_at_publication, data=df)"
   ]
  },
  {
   "cell_type": "code",
   "execution_count": 44,
   "id": "d2fe9026",
   "metadata": {},
   "outputs": [
    {
     "data": {
      "text/plain": [
       "\n",
       "Call:\n",
       "lm(formula = age_at_publication ~ scale(mean_ttr_5000token_samples) + \n",
       "    scale(indefinite_word_rate) + scale(mean_max_repphrasetype_5000token_samples), \n",
       "    data = df)\n",
       "\n",
       "Residuals:\n",
       "    Min      1Q  Median      3Q     Max \n",
       "-7.0057 -2.9232  0.1714  2.5723 13.3058 \n",
       "\n",
       "Coefficients:\n",
       "                                                Estimate Std. Error t value\n",
       "(Intercept)                                      48.3311     0.8018  60.282\n",
       "scale(mean_ttr_5000token_samples)                -6.7187     1.1551  -5.817\n",
       "scale(indefinite_word_rate)                      -4.0438     0.9357  -4.322\n",
       "scale(mean_max_repphrasetype_5000token_samples)  -1.4255     1.2528  -1.138\n",
       "                                                Pr(>|t|)    \n",
       "(Intercept)                                      < 2e-16 ***\n",
       "scale(mean_ttr_5000token_samples)               2.07e-06 ***\n",
       "scale(indefinite_word_rate)                     0.000148 ***\n",
       "scale(mean_max_repphrasetype_5000token_samples) 0.263882    \n",
       "---\n",
       "Signif. codes:  0 '***' 0.001 '**' 0.01 '*' 0.05 '.' 0.1 ' ' 1\n",
       "\n",
       "Residual standard error: 4.743 on 31 degrees of freedom\n",
       "Multiple R-squared:  0.6469,\tAdjusted R-squared:  0.6128 \n",
       "F-statistic: 18.93 on 3 and 31 DF,  p-value: 3.651e-07\n"
      ]
     },
     "metadata": {},
     "output_type": "display_data"
    }
   ],
   "source": [
    "m = lm(age_at_publication ~ \n",
    "       scale(mean_ttr_5000token_samples) \n",
    "       + scale(indefinite_word_rate) \n",
    "       + scale(mean_max_repphrasetype_5000token_samples), data=df)\n",
    "summary(m)"
   ]
  },
  {
   "cell_type": "markdown",
   "id": "3a391ebe",
   "metadata": {},
   "source": [
    "# Correlation testing"
   ]
  },
  {
   "cell_type": "code",
   "execution_count": 53,
   "id": "8fdda9af",
   "metadata": {},
   "outputs": [
    {
     "data": {
      "text/plain": [
       "\n",
       "\tKendall's rank correlation tau\n",
       "\n",
       "data:  df$age_at_publication and df$mean_ttr_5000token_samples\n",
       "T = 180, p-value = 0.0006761\n",
       "alternative hypothesis: true tau is not equal to 0\n",
       "sample estimates:\n",
       "      tau \n",
       "-0.394958 \n"
      ]
     },
     "metadata": {},
     "output_type": "display_data"
    },
    {
     "data": {
      "text/plain": [
       "\n",
       "\tKendall's rank correlation tau\n",
       "\n",
       "data:  df$age_at_publication and df$indefinite_word_rate\n",
       "T = 222, p-value = 0.03243\n",
       "alternative hypothesis: true tau is not equal to 0\n",
       "sample estimates:\n",
       "       tau \n",
       "-0.2537815 \n"
      ]
     },
     "metadata": {},
     "output_type": "display_data"
    },
    {
     "data": {
      "text/plain": [
       "\n",
       "\tKendall's rank correlation tau\n",
       "\n",
       "data:  test_rep$age_at_publication and test_rep$mean_max_repphrasetype_5000token_samples\n",
       "T = 210, p-value = 0.8091\n",
       "alternative hypothesis: true tau is not equal to 0\n",
       "sample estimates:\n",
       "       tau \n",
       "0.03448276 \n"
      ]
     },
     "metadata": {},
     "output_type": "display_data"
    }
   ],
   "source": [
    "cor.test(df$age_at_publication, df$mean_ttr_5000token_samples, method=\"kendall\")\n",
    "cor.test(df$age_at_publication, df$indefinite_word_rate, method=\"kendall\")\n",
    "cor.test(test_rep$age_at_publication, test_rep$mean_max_repphrasetype_5000token_samples, method=\"kendall\")"
   ]
  }
 ],
 "metadata": {
  "kernelspec": {
   "display_name": "R",
   "language": "R",
   "name": "ir"
  },
  "language_info": {
   "codemirror_mode": "r",
   "file_extension": ".r",
   "mimetype": "text/x-r-source",
   "name": "R",
   "pygments_lexer": "r",
   "version": "3.6.1"
  }
 },
 "nbformat": 4,
 "nbformat_minor": 5
}
