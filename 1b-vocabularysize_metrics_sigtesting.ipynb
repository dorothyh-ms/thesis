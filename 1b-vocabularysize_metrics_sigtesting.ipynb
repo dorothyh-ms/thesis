{
 "cells": [
  {
   "cell_type": "markdown",
   "id": "e09890bd",
   "metadata": {},
   "source": [
    "# I. Lexical Richness"
   ]
  },
  {
   "cell_type": "code",
   "execution_count": 7,
   "id": "a4c7de2c",
   "metadata": {},
   "outputs": [
    {
     "name": "stderr",
     "output_type": "stream",
     "text": [
      "Warning message:\n",
      "\"package 'lme4' was built under R version 3.6.3\"Loading required package: Matrix\n",
      "Loading required package: carData\n",
      "Warning message:\n",
      "\"package 'carData' was built under R version 3.6.3\"Warning message:\n",
      "\"package 'effects' was built under R version 3.6.3\"lattice theme set by effectsTheme()\n",
      "See ?effectsTheme for details.\n",
      "Warning message:\n",
      "\"package 'blmeco' was built under R version 3.6.3\"Loading required package: MASS\n",
      "Registered S3 methods overwritten by 'ggplot2':\n",
      "  method         from \n",
      "  [.quosures     rlang\n",
      "  c.quosures     rlang\n",
      "  print.quosures rlang\n"
     ]
    }
   ],
   "source": [
    "library(lme4) # necessary for model fitting: glmer\n",
    "library(car) # necessary for significance testing: Anova\n",
    "library(effects) # necessary for making effect plots\n",
    "library(blmeco) # necessary for dispersion test for mixed effects models"
   ]
  },
  {
   "cell_type": "code",
   "execution_count": 1,
   "id": "404d5d2a",
   "metadata": {},
   "outputs": [],
   "source": [
    "df <- read.csv('pratchett_metadata_hirst.csv', sep=',')"
   ]
  },
  {
   "cell_type": "code",
   "execution_count": 2,
   "id": "94ee04fc",
   "metadata": {},
   "outputs": [
    {
     "data": {
      "text/html": [
       "<ol class=list-inline>\n",
       "\t<li>'title'</li>\n",
       "\t<li>'year_of_publication'</li>\n",
       "\t<li>'age_at_publication'</li>\n",
       "\t<li>'YA'</li>\n",
       "\t<li>'number_of_words'</li>\n",
       "\t<li>'mean_ttr_5000token_samples'</li>\n",
       "\t<li>'TTR_sig_inbook_variation'</li>\n",
       "\t<li>'indefinite_word_rate'</li>\n",
       "\t<li>'mean_max_repphrasetype_5000token_samples'</li>\n",
       "\t<li>'rep_sig_inbook_variation'</li>\n",
       "</ol>\n"
      ],
      "text/latex": [
       "\\begin{enumerate*}\n",
       "\\item 'title'\n",
       "\\item 'year\\_of\\_publication'\n",
       "\\item 'age\\_at\\_publication'\n",
       "\\item 'YA'\n",
       "\\item 'number\\_of\\_words'\n",
       "\\item 'mean\\_ttr\\_5000token\\_samples'\n",
       "\\item 'TTR\\_sig\\_inbook\\_variation'\n",
       "\\item 'indefinite\\_word\\_rate'\n",
       "\\item 'mean\\_max\\_repphrasetype\\_5000token\\_samples'\n",
       "\\item 'rep\\_sig\\_inbook\\_variation'\n",
       "\\end{enumerate*}\n"
      ],
      "text/markdown": [
       "1. 'title'\n",
       "2. 'year_of_publication'\n",
       "3. 'age_at_publication'\n",
       "4. 'YA'\n",
       "5. 'number_of_words'\n",
       "6. 'mean_ttr_5000token_samples'\n",
       "7. 'TTR_sig_inbook_variation'\n",
       "8. 'indefinite_word_rate'\n",
       "9. 'mean_max_repphrasetype_5000token_samples'\n",
       "10. 'rep_sig_inbook_variation'\n",
       "\n",
       "\n"
      ],
      "text/plain": [
       " [1] \"title\"                                   \n",
       " [2] \"year_of_publication\"                     \n",
       " [3] \"age_at_publication\"                      \n",
       " [4] \"YA\"                                      \n",
       " [5] \"number_of_words\"                         \n",
       " [6] \"mean_ttr_5000token_samples\"              \n",
       " [7] \"TTR_sig_inbook_variation\"                \n",
       " [8] \"indefinite_word_rate\"                    \n",
       " [9] \"mean_max_repphrasetype_5000token_samples\"\n",
       "[10] \"rep_sig_inbook_variation\"                "
      ]
     },
     "metadata": {},
     "output_type": "display_data"
    }
   ],
   "source": [
    "colnames(df)"
   ]
  },
  {
   "cell_type": "code",
   "execution_count": 4,
   "id": "7855dc63",
   "metadata": {},
   "outputs": [
    {
     "data": {
      "text/html": [
       "<table>\n",
       "<thead><tr><th scope=col>title</th><th scope=col>year_of_publication</th><th scope=col>age_at_publication</th><th scope=col>YA</th><th scope=col>number_of_words</th><th scope=col>mean_ttr_5000token_samples</th><th scope=col>TTR_sig_inbook_variation</th><th scope=col>indefinite_word_rate</th><th scope=col>mean_max_repphrasetype_5000token_samples</th><th scope=col>rep_sig_inbook_variation</th></tr></thead>\n",
       "<tbody>\n",
       "\t<tr><td>The Color Of Magic </td><td>1983.00            </td><td>35.58              </td><td>False              </td><td>66492              </td><td>0.2955231          </td><td>False              </td><td>0.003068038        </td><td>0.08064615         </td><td>False              </td></tr>\n",
       "\t<tr><td>The Light Fantastic</td><td>1986.00            </td><td>38.10              </td><td>False              </td><td>45998              </td><td>0.2714444          </td><td>True               </td><td>0.005239358        </td><td>0.08968889         </td><td>True               </td></tr>\n",
       "\t<tr><td>Equal Rites        </td><td>1987.00            </td><td>38.72              </td><td>False              </td><td>67372              </td><td>0.2755538          </td><td>False              </td><td>0.005091136        </td><td>0.08729231         </td><td>False              </td></tr>\n",
       "\t<tr><td>Mort               </td><td>1987.51            </td><td>39.50              </td><td>False              </td><td>73987              </td><td>0.2809714          </td><td>False              </td><td>0.004216957        </td><td>0.08545714         </td><td>False              </td></tr>\n",
       "\t<tr><td>Sourcery           </td><td>1988.00            </td><td>40.08              </td><td>False              </td><td>79536              </td><td>0.2819600          </td><td>True               </td><td>0.004802857        </td><td>0.08546667         </td><td>False              </td></tr>\n",
       "\t<tr><td>Wyrd Sisters       </td><td>1988.00            </td><td>40.54              </td><td>False              </td><td>86320              </td><td>0.2737059          </td><td>False              </td><td>0.004355885        </td><td>0.08748235         </td><td>True               </td></tr>\n",
       "</tbody>\n",
       "</table>\n"
      ],
      "text/latex": [
       "\\begin{tabular}{r|llllllllll}\n",
       " title & year\\_of\\_publication & age\\_at\\_publication & YA & number\\_of\\_words & mean\\_ttr\\_5000token\\_samples & TTR\\_sig\\_inbook\\_variation & indefinite\\_word\\_rate & mean\\_max\\_repphrasetype\\_5000token\\_samples & rep\\_sig\\_inbook\\_variation\\\\\n",
       "\\hline\n",
       "\t The Color Of Magic  & 1983.00             & 35.58               & False               & 66492               & 0.2955231           & False               & 0.003068038         & 0.08064615          & False              \\\\\n",
       "\t The Light Fantastic & 1986.00             & 38.10               & False               & 45998               & 0.2714444           & True                & 0.005239358         & 0.08968889          & True               \\\\\n",
       "\t Equal Rites         & 1987.00             & 38.72               & False               & 67372               & 0.2755538           & False               & 0.005091136         & 0.08729231          & False              \\\\\n",
       "\t Mort                & 1987.51             & 39.50               & False               & 73987               & 0.2809714           & False               & 0.004216957         & 0.08545714          & False              \\\\\n",
       "\t Sourcery            & 1988.00             & 40.08               & False               & 79536               & 0.2819600           & True                & 0.004802857         & 0.08546667          & False              \\\\\n",
       "\t Wyrd Sisters        & 1988.00             & 40.54               & False               & 86320               & 0.2737059           & False               & 0.004355885         & 0.08748235          & True               \\\\\n",
       "\\end{tabular}\n"
      ],
      "text/markdown": [
       "\n",
       "| title | year_of_publication | age_at_publication | YA | number_of_words | mean_ttr_5000token_samples | TTR_sig_inbook_variation | indefinite_word_rate | mean_max_repphrasetype_5000token_samples | rep_sig_inbook_variation |\n",
       "|---|---|---|---|---|---|---|---|---|---|\n",
       "| The Color Of Magic  | 1983.00             | 35.58               | False               | 66492               | 0.2955231           | False               | 0.003068038         | 0.08064615          | False               |\n",
       "| The Light Fantastic | 1986.00             | 38.10               | False               | 45998               | 0.2714444           | True                | 0.005239358         | 0.08968889          | True                |\n",
       "| Equal Rites         | 1987.00             | 38.72               | False               | 67372               | 0.2755538           | False               | 0.005091136         | 0.08729231          | False               |\n",
       "| Mort                | 1987.51             | 39.50               | False               | 73987               | 0.2809714           | False               | 0.004216957         | 0.08545714          | False               |\n",
       "| Sourcery            | 1988.00             | 40.08               | False               | 79536               | 0.2819600           | True                | 0.004802857         | 0.08546667          | False               |\n",
       "| Wyrd Sisters        | 1988.00             | 40.54               | False               | 86320               | 0.2737059           | False               | 0.004355885         | 0.08748235          | True                |\n",
       "\n"
      ],
      "text/plain": [
       "  title               year_of_publication age_at_publication YA   \n",
       "1 The Color Of Magic  1983.00             35.58              False\n",
       "2 The Light Fantastic 1986.00             38.10              False\n",
       "3 Equal Rites         1987.00             38.72              False\n",
       "4 Mort                1987.51             39.50              False\n",
       "5 Sourcery            1988.00             40.08              False\n",
       "6 Wyrd Sisters        1988.00             40.54              False\n",
       "  number_of_words mean_ttr_5000token_samples TTR_sig_inbook_variation\n",
       "1 66492           0.2955231                  False                   \n",
       "2 45998           0.2714444                  True                    \n",
       "3 67372           0.2755538                  False                   \n",
       "4 73987           0.2809714                  False                   \n",
       "5 79536           0.2819600                  True                    \n",
       "6 86320           0.2737059                  False                   \n",
       "  indefinite_word_rate mean_max_repphrasetype_5000token_samples\n",
       "1 0.003068038          0.08064615                              \n",
       "2 0.005239358          0.08968889                              \n",
       "3 0.005091136          0.08729231                              \n",
       "4 0.004216957          0.08545714                              \n",
       "5 0.004802857          0.08546667                              \n",
       "6 0.004355885          0.08748235                              \n",
       "  rep_sig_inbook_variation\n",
       "1 False                   \n",
       "2 True                    \n",
       "3 False                   \n",
       "4 False                   \n",
       "5 False                   \n",
       "6 True                    "
      ]
     },
     "metadata": {},
     "output_type": "display_data"
    }
   ],
   "source": [
    "df <- df[df$YA == 'False', ]\n",
    "head(df)"
   ]
  },
  {
   "cell_type": "markdown",
   "id": "62c1ca26",
   "metadata": {},
   "source": [
    "## 1. Multivariate Linear Regression"
   ]
  },
  {
   "cell_type": "code",
   "execution_count": 8,
   "id": "d2fe9026",
   "metadata": {},
   "outputs": [
    {
     "data": {
      "text/plain": [
       "\n",
       "Call:\n",
       "lm(formula = age_at_publication ~ scale(mean_ttr_5000token_samples) + \n",
       "    scale(indefinite_word_rate) + scale(mean_max_repphrasetype_5000token_samples), \n",
       "    data = df)\n",
       "\n",
       "Residuals:\n",
       "    Min      1Q  Median      3Q     Max \n",
       "-7.0057 -2.9232  0.1714  2.5723 13.3058 \n",
       "\n",
       "Coefficients:\n",
       "                                                Estimate Std. Error t value\n",
       "(Intercept)                                      48.3311     0.8018  60.282\n",
       "scale(mean_ttr_5000token_samples)                -6.7187     1.1551  -5.817\n",
       "scale(indefinite_word_rate)                      -4.0438     0.9357  -4.322\n",
       "scale(mean_max_repphrasetype_5000token_samples)  -1.4255     1.2528  -1.138\n",
       "                                                Pr(>|t|)    \n",
       "(Intercept)                                      < 2e-16 ***\n",
       "scale(mean_ttr_5000token_samples)               2.07e-06 ***\n",
       "scale(indefinite_word_rate)                     0.000148 ***\n",
       "scale(mean_max_repphrasetype_5000token_samples) 0.263882    \n",
       "---\n",
       "Signif. codes:  0 '***' 0.001 '**' 0.01 '*' 0.05 '.' 0.1 ' ' 1\n",
       "\n",
       "Residual standard error: 4.743 on 31 degrees of freedom\n",
       "Multiple R-squared:  0.6469,\tAdjusted R-squared:  0.6128 \n",
       "F-statistic: 18.93 on 3 and 31 DF,  p-value: 3.651e-07\n"
      ]
     },
     "metadata": {},
     "output_type": "display_data"
    }
   ],
   "source": [
    "m = lm(age_at_publication ~ \n",
    "       scale(mean_ttr_5000token_samples) \n",
    "       + scale(indefinite_word_rate) \n",
    "       + scale(mean_max_repphrasetype_5000token_samples), data=df)\n",
    "summary(m)"
   ]
  },
  {
   "cell_type": "code",
   "execution_count": 9,
   "id": "dab88a20",
   "metadata": {},
   "outputs": [
    {
     "data": {
      "text/html": [
       "<table>\n",
       "<thead><tr><th></th><th scope=col>Sum Sq</th><th scope=col>Df</th><th scope=col>F value</th><th scope=col>Pr(&gt;F)</th></tr></thead>\n",
       "<tbody>\n",
       "\t<tr><th scope=row>scale(mean_ttr_5000token_samples)</th><td>761.18606   </td><td> 1          </td><td>33.833060   </td><td>2.069595e-06</td></tr>\n",
       "\t<tr><th scope=row>scale(indefinite_word_rate)</th><td>420.20375   </td><td> 1          </td><td>18.677140   </td><td>1.482995e-04</td></tr>\n",
       "\t<tr><th scope=row>scale(mean_max_repphrasetype_5000token_samples)</th><td> 29.13103   </td><td> 1          </td><td> 1.294811   </td><td>2.638817e-01</td></tr>\n",
       "\t<tr><th scope=row>Residuals</th><td>697.44705   </td><td>31          </td><td>       NA   </td><td>          NA</td></tr>\n",
       "</tbody>\n",
       "</table>\n"
      ],
      "text/latex": [
       "\\begin{tabular}{r|llll}\n",
       "  & Sum Sq & Df & F value & Pr(>F)\\\\\n",
       "\\hline\n",
       "\tscale(mean\\_ttr\\_5000token\\_samples) & 761.18606    &  1           & 33.833060    & 2.069595e-06\\\\\n",
       "\tscale(indefinite\\_word\\_rate) & 420.20375    &  1           & 18.677140    & 1.482995e-04\\\\\n",
       "\tscale(mean\\_max\\_repphrasetype\\_5000token\\_samples) &  29.13103    &  1           &  1.294811    & 2.638817e-01\\\\\n",
       "\tResiduals & 697.44705    & 31           &        NA    &           NA\\\\\n",
       "\\end{tabular}\n"
      ],
      "text/markdown": [
       "\n",
       "| <!--/--> | Sum Sq | Df | F value | Pr(>F) |\n",
       "|---|---|---|---|---|\n",
       "| scale(mean_ttr_5000token_samples) | 761.18606    |  1           | 33.833060    | 2.069595e-06 |\n",
       "| scale(indefinite_word_rate) | 420.20375    |  1           | 18.677140    | 1.482995e-04 |\n",
       "| scale(mean_max_repphrasetype_5000token_samples) |  29.13103    |  1           |  1.294811    | 2.638817e-01 |\n",
       "| Residuals | 697.44705    | 31           |        NA    |           NA |\n",
       "\n"
      ],
      "text/plain": [
       "                                                Sum Sq    Df F value  \n",
       "scale(mean_ttr_5000token_samples)               761.18606  1 33.833060\n",
       "scale(indefinite_word_rate)                     420.20375  1 18.677140\n",
       "scale(mean_max_repphrasetype_5000token_samples)  29.13103  1  1.294811\n",
       "Residuals                                       697.44705 31        NA\n",
       "                                                Pr(>F)      \n",
       "scale(mean_ttr_5000token_samples)               2.069595e-06\n",
       "scale(indefinite_word_rate)                     1.482995e-04\n",
       "scale(mean_max_repphrasetype_5000token_samples) 2.638817e-01\n",
       "Residuals                                                 NA"
      ]
     },
     "metadata": {},
     "output_type": "display_data"
    }
   ],
   "source": [
    "Anova(m, test='F')"
   ]
  },
  {
   "cell_type": "markdown",
   "id": "3a391ebe",
   "metadata": {},
   "source": [
    "## 2. Correlation Testing"
   ]
  },
  {
   "cell_type": "code",
   "execution_count": 53,
   "id": "8fdda9af",
   "metadata": {},
   "outputs": [
    {
     "data": {
      "text/plain": [
       "\n",
       "\tKendall's rank correlation tau\n",
       "\n",
       "data:  df$age_at_publication and df$mean_ttr_5000token_samples\n",
       "T = 180, p-value = 0.0006761\n",
       "alternative hypothesis: true tau is not equal to 0\n",
       "sample estimates:\n",
       "      tau \n",
       "-0.394958 \n"
      ]
     },
     "metadata": {},
     "output_type": "display_data"
    },
    {
     "data": {
      "text/plain": [
       "\n",
       "\tKendall's rank correlation tau\n",
       "\n",
       "data:  df$age_at_publication and df$indefinite_word_rate\n",
       "T = 222, p-value = 0.03243\n",
       "alternative hypothesis: true tau is not equal to 0\n",
       "sample estimates:\n",
       "       tau \n",
       "-0.2537815 \n"
      ]
     },
     "metadata": {},
     "output_type": "display_data"
    },
    {
     "data": {
      "text/plain": [
       "\n",
       "\tKendall's rank correlation tau\n",
       "\n",
       "data:  test_rep$age_at_publication and test_rep$mean_max_repphrasetype_5000token_samples\n",
       "T = 210, p-value = 0.8091\n",
       "alternative hypothesis: true tau is not equal to 0\n",
       "sample estimates:\n",
       "       tau \n",
       "0.03448276 \n"
      ]
     },
     "metadata": {},
     "output_type": "display_data"
    }
   ],
   "source": [
    "cor.test(df$age_at_publication, df$mean_ttr_5000token_samples, method=\"kendall\")\n",
    "cor.test(df$age_at_publication, df$indefinite_word_rate, method=\"kendall\")\n",
    "cor.test(test_rep$age_at_publication, test_rep$mean_max_repphrasetype_5000token_samples, method=\"kendall\")"
   ]
  }
 ],
 "metadata": {
  "kernelspec": {
   "display_name": "R",
   "language": "R",
   "name": "ir"
  },
  "language_info": {
   "codemirror_mode": "r",
   "file_extension": ".r",
   "mimetype": "text/x-r-source",
   "name": "R",
   "pygments_lexer": "r",
   "version": "3.6.1"
  }
 },
 "nbformat": 4,
 "nbformat_minor": 5
}
